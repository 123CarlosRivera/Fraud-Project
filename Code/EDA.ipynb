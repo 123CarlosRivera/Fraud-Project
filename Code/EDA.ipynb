{
 "cells": [
  {
   "cell_type": "markdown",
   "metadata": {},
   "source": [
    "## ```Imports```\n",
    "---"
   ]
  },
  {
   "cell_type": "code",
   "execution_count": 1,
   "metadata": {},
   "outputs": [],
   "source": [
    "import pandas as pd\n",
    "import numpy as np\n",
    "import matplotlib.pyplot as plt\n",
    "import seaborn as sns"
   ]
  },
  {
   "cell_type": "markdown",
   "metadata": {},
   "source": [
    "## ```EDA```\n",
    "---"
   ]
  },
  {
   "cell_type": "code",
   "execution_count": 2,
   "metadata": {},
   "outputs": [],
   "source": [
    "fraud = pd.read_csv('../Fraud-Project/SmallBalancedClasses.csv')"
   ]
  },
  {
   "cell_type": "code",
   "execution_count": 3,
   "metadata": {},
   "outputs": [
    {
     "data": {
      "text/html": [
       "<div>\n",
       "<style scoped>\n",
       "    .dataframe tbody tr th:only-of-type {\n",
       "        vertical-align: middle;\n",
       "    }\n",
       "\n",
       "    .dataframe tbody tr th {\n",
       "        vertical-align: top;\n",
       "    }\n",
       "\n",
       "    .dataframe thead th {\n",
       "        text-align: right;\n",
       "    }\n",
       "</style>\n",
       "<table border=\"1\" class=\"dataframe\">\n",
       "  <thead>\n",
       "    <tr style=\"text-align: right;\">\n",
       "      <th></th>\n",
       "      <th>trans_date_trans_time</th>\n",
       "      <th>cc_num</th>\n",
       "      <th>merchant</th>\n",
       "      <th>category</th>\n",
       "      <th>amt</th>\n",
       "      <th>gender</th>\n",
       "      <th>city</th>\n",
       "      <th>state</th>\n",
       "      <th>zip</th>\n",
       "      <th>lat</th>\n",
       "      <th>long</th>\n",
       "      <th>city_pop</th>\n",
       "      <th>job</th>\n",
       "      <th>dob</th>\n",
       "      <th>merch_lat</th>\n",
       "      <th>merch_long</th>\n",
       "      <th>is_fraud</th>\n",
       "      <th>hour</th>\n",
       "    </tr>\n",
       "  </thead>\n",
       "  <tbody>\n",
       "    <tr>\n",
       "      <th>0</th>\n",
       "      <td>2019-12-13 05:41:26</td>\n",
       "      <td>378278619832195</td>\n",
       "      <td>fraud_Dach-Nader</td>\n",
       "      <td>misc_net</td>\n",
       "      <td>3.17</td>\n",
       "      <td>F</td>\n",
       "      <td>Eugene</td>\n",
       "      <td>OR</td>\n",
       "      <td>97403</td>\n",
       "      <td>44.0385</td>\n",
       "      <td>-123.0614</td>\n",
       "      <td>191096</td>\n",
       "      <td>Scientist, physiological</td>\n",
       "      <td>1964-04-06</td>\n",
       "      <td>44.716305</td>\n",
       "      <td>-123.984986</td>\n",
       "      <td>0</td>\n",
       "      <td>6</td>\n",
       "    </tr>\n",
       "    <tr>\n",
       "      <th>1</th>\n",
       "      <td>2020-03-11 22:31:29</td>\n",
       "      <td>4725837176265195730</td>\n",
       "      <td>fraud_Torphy-Goyette</td>\n",
       "      <td>shopping_pos</td>\n",
       "      <td>16.37</td>\n",
       "      <td>F</td>\n",
       "      <td>Jay</td>\n",
       "      <td>FL</td>\n",
       "      <td>32565</td>\n",
       "      <td>30.8985</td>\n",
       "      <td>-87.1332</td>\n",
       "      <td>5719</td>\n",
       "      <td>Higher education careers adviser</td>\n",
       "      <td>1994-11-05</td>\n",
       "      <td>30.635023</td>\n",
       "      <td>-88.086411</td>\n",
       "      <td>0</td>\n",
       "      <td>23</td>\n",
       "    </tr>\n",
       "    <tr>\n",
       "      <th>2</th>\n",
       "      <td>2019-11-12 01:08:37</td>\n",
       "      <td>373905417449658</td>\n",
       "      <td>fraud_Bruen-Yost</td>\n",
       "      <td>misc_pos</td>\n",
       "      <td>8.54</td>\n",
       "      <td>F</td>\n",
       "      <td>Meridian</td>\n",
       "      <td>TX</td>\n",
       "      <td>76665</td>\n",
       "      <td>31.9290</td>\n",
       "      <td>-97.6443</td>\n",
       "      <td>2526</td>\n",
       "      <td>Phytotherapist</td>\n",
       "      <td>1970-11-12</td>\n",
       "      <td>32.399693</td>\n",
       "      <td>-97.414423</td>\n",
       "      <td>0</td>\n",
       "      <td>2</td>\n",
       "    </tr>\n",
       "    <tr>\n",
       "      <th>3</th>\n",
       "      <td>2020-04-27 13:59:23</td>\n",
       "      <td>2305336922781618</td>\n",
       "      <td>fraud_Terry Ltd</td>\n",
       "      <td>home</td>\n",
       "      <td>140.66</td>\n",
       "      <td>M</td>\n",
       "      <td>Moulton</td>\n",
       "      <td>IA</td>\n",
       "      <td>52572</td>\n",
       "      <td>40.6866</td>\n",
       "      <td>-92.6833</td>\n",
       "      <td>1132</td>\n",
       "      <td>Probation officer</td>\n",
       "      <td>1961-02-14</td>\n",
       "      <td>40.467099</td>\n",
       "      <td>-92.329573</td>\n",
       "      <td>0</td>\n",
       "      <td>14</td>\n",
       "    </tr>\n",
       "    <tr>\n",
       "      <th>4</th>\n",
       "      <td>2020-03-14 05:28:44</td>\n",
       "      <td>3565196229855512</td>\n",
       "      <td>fraud_Stracke-Lemke</td>\n",
       "      <td>grocery_pos</td>\n",
       "      <td>85.19</td>\n",
       "      <td>F</td>\n",
       "      <td>Unionville</td>\n",
       "      <td>MO</td>\n",
       "      <td>63565</td>\n",
       "      <td>40.4815</td>\n",
       "      <td>-92.9951</td>\n",
       "      <td>3805</td>\n",
       "      <td>Investment banker, corporate</td>\n",
       "      <td>1950-09-15</td>\n",
       "      <td>40.212465</td>\n",
       "      <td>-93.464464</td>\n",
       "      <td>0</td>\n",
       "      <td>6</td>\n",
       "    </tr>\n",
       "  </tbody>\n",
       "</table>\n",
       "</div>"
      ],
      "text/plain": [
       "  trans_date_trans_time               cc_num              merchant  \\\n",
       "0   2019-12-13 05:41:26      378278619832195      fraud_Dach-Nader   \n",
       "1   2020-03-11 22:31:29  4725837176265195730  fraud_Torphy-Goyette   \n",
       "2   2019-11-12 01:08:37      373905417449658      fraud_Bruen-Yost   \n",
       "3   2020-04-27 13:59:23     2305336922781618       fraud_Terry Ltd   \n",
       "4   2020-03-14 05:28:44     3565196229855512   fraud_Stracke-Lemke   \n",
       "\n",
       "       category     amt gender        city state    zip      lat      long  \\\n",
       "0      misc_net    3.17      F      Eugene    OR  97403  44.0385 -123.0614   \n",
       "1  shopping_pos   16.37      F         Jay    FL  32565  30.8985  -87.1332   \n",
       "2      misc_pos    8.54      F    Meridian    TX  76665  31.9290  -97.6443   \n",
       "3          home  140.66      M     Moulton    IA  52572  40.6866  -92.6833   \n",
       "4   grocery_pos   85.19      F  Unionville    MO  63565  40.4815  -92.9951   \n",
       "\n",
       "   city_pop                               job         dob  merch_lat  \\\n",
       "0    191096          Scientist, physiological  1964-04-06  44.716305   \n",
       "1      5719  Higher education careers adviser  1994-11-05  30.635023   \n",
       "2      2526                    Phytotherapist  1970-11-12  32.399693   \n",
       "3      1132                 Probation officer  1961-02-14  40.467099   \n",
       "4      3805      Investment banker, corporate  1950-09-15  40.212465   \n",
       "\n",
       "   merch_long  is_fraud  hour  \n",
       "0 -123.984986         0     6  \n",
       "1  -88.086411         0    23  \n",
       "2  -97.414423         0     2  \n",
       "3  -92.329573         0    14  \n",
       "4  -93.464464         0     6  "
      ]
     },
     "execution_count": 3,
     "metadata": {},
     "output_type": "execute_result"
    }
   ],
   "source": [
    "fraud.head()"
   ]
  },
  {
   "cell_type": "code",
   "execution_count": 4,
   "metadata": {},
   "outputs": [
    {
     "data": {
      "text/plain": [
       "gender\n",
       "F    270.382765\n",
       "M    330.589994\n",
       "Name: amt, dtype: float64"
      ]
     },
     "execution_count": 4,
     "metadata": {},
     "output_type": "execute_result"
    }
   ],
   "source": [
    "fraud.groupby('gender')['amt'].mean()"
   ]
  },
  {
   "cell_type": "code",
   "execution_count": 5,
   "metadata": {},
   "outputs": [
    {
     "data": {
      "text/plain": [
       "M    0.502398\n",
       "F    0.497602\n",
       "Name: gender, dtype: float64"
      ]
     },
     "execution_count": 5,
     "metadata": {},
     "output_type": "execute_result"
    }
   ],
   "source": [
    "fraud[fraud['is_fraud']==1]['gender'].value_counts(normalize=True)"
   ]
  },
  {
   "cell_type": "code",
   "execution_count": 6,
   "metadata": {},
   "outputs": [
    {
     "data": {
      "image/png": "[encoded data removed]",
      "text/plain": [
       "<Figure size 432x288 with 1 Axes>"
      ]
     },
     "metadata": {
      "needs_background": "light"
     },
     "output_type": "display_data"
    }
   ],
   "source": [
    "fraud.groupby('gender')['is_fraud'].sum().plot(kind='bar')\n",
    "plt.title('Fraud by Gender')\n",
    "plt.xticks(rotation=1)\n",
    "plt.ylabel('Count');"
   ]
  },
  {
   "cell_type": "code",
   "execution_count": 7,
   "metadata": {},
   "outputs": [
    {
     "data": {
      "image/png": "[encoded data removed]",
      "text/plain": [
       "<Figure size 1440x720 with 1 Axes>"
      ]
     },
     "metadata": {
      "needs_background": "light"
     },
     "output_type": "display_data"
    }
   ],
   "source": [
    "fraud.groupby('state')['is_fraud'].sum().sort_values(ascending=False).plot(kind='barh',figsize=(20,10))\n",
    "plt.title('Fraud by State')\n",
    "plt.xticks(rotation=1)\n",
    "plt.ylabel('State')\n",
    "plt.xlabel('Number of Fraud Cases');"
   ]
  },
  {
   "cell_type": "markdown",
   "metadata": {},
   "source": [
    "**The top 5 states for fraud are New York, Texas, Pennsylvania, California, and Ohio.**"
   ]
  },
  {
   "cell_type": "code",
   "execution_count": 8,
   "metadata": {},
   "outputs": [
    {
     "data": {
      "image/png": "[encoded data removed]",
      "text/plain": [
       "<Figure size 1440x720 with 1 Axes>"
      ]
     },
     "metadata": {
      "needs_background": "light"
     },
     "output_type": "display_data"
    }
   ],
   "source": [
    "fraud.groupby('state')['amt'].sum().sort_values(ascending=False).plot(kind='barh',figsize=(20,10))\n",
    "plt.title('Total Sum of Fraud by State')\n",
    "plt.xticks(rotation=1)\n",
    "plt.ylabel('State')\n",
    "plt.xlabel('Sum of Fraud in Dollars');"
   ]
  },
  {
   "cell_type": "markdown",
   "metadata": {},
   "source": [
    "**The top 5 states for Sum of fraud are New York, Texas, Pennsylvania, California, and Ohio. These are also the top 5 states with most frequent fraud cases.**"
   ]
  },
  {
   "cell_type": "code",
   "execution_count": 9,
   "metadata": {},
   "outputs": [
    {
     "data": {
      "text/plain": [
       "0    23\n",
       "1    21\n",
       "Name: is_fraud, dtype: int64"
      ]
     },
     "execution_count": 9,
     "metadata": {},
     "output_type": "execute_result"
    }
   ],
   "source": [
    "fraud[fraud['zip']==82514]['is_fraud'].value_counts()"
   ]
  },
  {
   "cell_type": "code",
   "execution_count": 10,
   "metadata": {},
   "outputs": [
    {
     "data": {
      "image/png": "[encoded data removed]",
      "text/plain": [
       "<Figure size 1440x720 with 1 Axes>"
      ]
     },
     "metadata": {
      "needs_background": "light"
     },
     "output_type": "display_data"
    }
   ],
   "source": [
    "fraud.groupby('hour')['is_fraud'].sum().sort_values(ascending=False).plot(kind='barh',figsize=(20,10))\n",
    "plt.title('Fraud by State')\n",
    "plt.xticks(rotation=1)\n",
    "plt.ylabel('State')\n",
    "plt.xlabel('Number of Fraud Cases');"
   ]
  },
  {
   "cell_type": "markdown",
   "metadata": {},
   "source": [
    "**Most fraud cases happen between 10pm-4am.**"
   ]
  },
  {
   "cell_type": "code",
   "execution_count": 11,
   "metadata": {},
   "outputs": [
    {
     "data": {
      "image/png": "[encoded data removed]",
      "text/plain": [
       "<Figure size 1440x720 with 1 Axes>"
      ]
     },
     "metadata": {
      "needs_background": "light"
     },
     "output_type": "display_data"
    }
   ],
   "source": [
    "fraud.groupby('category')['is_fraud'].sum().sort_values(ascending=False).plot(kind='barh',figsize=(20,10))\n",
    "plt.title('Fraud by Category')\n",
    "plt.xticks(rotation=1)\n",
    "plt.ylabel('Category')\n",
    "plt.xlabel('Number of Fraud Cases');"
   ]
  },
  {
   "cell_type": "markdown",
   "metadata": {},
   "source": [
    "**Most fraud cases are shopping_net (online shopping) and grocery_pos (grocery with card at point of sale).**"
   ]
  },
  {
   "cell_type": "code",
   "execution_count": 12,
   "metadata": {},
   "outputs": [
    {
     "data": {
      "text/plain": [
       "shopping_pos    43\n",
       "misc_net        26\n",
       "Name: category, dtype: int64"
      ]
     },
     "execution_count": 12,
     "metadata": {},
     "output_type": "execute_result"
    }
   ],
   "source": [
    "fraud[fraud['merchant']=='fraud_Kuhn LLC']['category'].value_counts()"
   ]
  },
  {
   "cell_type": "code",
   "execution_count": 21,
   "metadata": {},
   "outputs": [
    {
     "data": {
      "text/plain": [
       "Trading standards officer    22\n",
       "Mechanical engineer          21\n",
       "Naval architect              19\n",
       "Exhibition designer          17\n",
       "Producer, radio              16\n",
       "                             ..\n",
       "Manufacturing engineer        1\n",
       "Ship broker                   1\n",
       "Veterinary surgeon            1\n",
       "Administrator, arts           1\n",
       "Teacher, primary school       1\n",
       "Name: job, Length: 458, dtype: int64"
      ]
     },
     "execution_count": 21,
     "metadata": {},
     "output_type": "execute_result"
    }
   ],
   "source": [
    "fraud[fraud['category']=='grocery_pos']['job'].value_counts()"
   ]
  },
  {
   "cell_type": "code",
   "execution_count": 22,
   "metadata": {},
   "outputs": [
    {
     "data": {
      "text/html": [
       "<div>\n",
       "<style scoped>\n",
       "    .dataframe tbody tr th:only-of-type {\n",
       "        vertical-align: middle;\n",
       "    }\n",
       "\n",
       "    .dataframe tbody tr th {\n",
       "        vertical-align: top;\n",
       "    }\n",
       "\n",
       "    .dataframe thead th {\n",
       "        text-align: right;\n",
       "    }\n",
       "</style>\n",
       "<table border=\"1\" class=\"dataframe\">\n",
       "  <thead>\n",
       "    <tr style=\"text-align: right;\">\n",
       "      <th></th>\n",
       "      <th>cc_num</th>\n",
       "      <th>amt</th>\n",
       "      <th>zip</th>\n",
       "      <th>lat</th>\n",
       "      <th>long</th>\n",
       "      <th>city_pop</th>\n",
       "      <th>merch_lat</th>\n",
       "      <th>merch_long</th>\n",
       "      <th>is_fraud</th>\n",
       "      <th>hour</th>\n",
       "    </tr>\n",
       "  </thead>\n",
       "  <tbody>\n",
       "    <tr>\n",
       "      <th>count</th>\n",
       "      <td>1.501200e+04</td>\n",
       "      <td>15012.000000</td>\n",
       "      <td>15012.000000</td>\n",
       "      <td>15012.000000</td>\n",
       "      <td>15012.000000</td>\n",
       "      <td>1.501200e+04</td>\n",
       "      <td>15012.000000</td>\n",
       "      <td>15012.000000</td>\n",
       "      <td>15012.000000</td>\n",
       "      <td>15012.000000</td>\n",
       "    </tr>\n",
       "    <tr>\n",
       "      <th>mean</th>\n",
       "      <td>4.116061e+17</td>\n",
       "      <td>299.142826</td>\n",
       "      <td>48536.222422</td>\n",
       "      <td>38.597969</td>\n",
       "      <td>-90.153831</td>\n",
       "      <td>9.465576e+04</td>\n",
       "      <td>38.587773</td>\n",
       "      <td>-90.157656</td>\n",
       "      <td>0.500000</td>\n",
       "      <td>14.474754</td>\n",
       "    </tr>\n",
       "    <tr>\n",
       "      <th>std</th>\n",
       "      <td>1.296647e+18</td>\n",
       "      <td>369.171521</td>\n",
       "      <td>27141.832326</td>\n",
       "      <td>5.104814</td>\n",
       "      <td>14.071088</td>\n",
       "      <td>3.163972e+05</td>\n",
       "      <td>5.141105</td>\n",
       "      <td>14.084716</td>\n",
       "      <td>0.500017</td>\n",
       "      <td>8.389713</td>\n",
       "    </tr>\n",
       "    <tr>\n",
       "      <th>min</th>\n",
       "      <td>6.041621e+10</td>\n",
       "      <td>1.000000</td>\n",
       "      <td>1257.000000</td>\n",
       "      <td>20.027100</td>\n",
       "      <td>-165.672300</td>\n",
       "      <td>2.300000e+01</td>\n",
       "      <td>19.093881</td>\n",
       "      <td>-166.550779</td>\n",
       "      <td>0.000000</td>\n",
       "      <td>1.000000</td>\n",
       "    </tr>\n",
       "    <tr>\n",
       "      <th>25%</th>\n",
       "      <td>1.800312e+14</td>\n",
       "      <td>20.297500</td>\n",
       "      <td>25213.000000</td>\n",
       "      <td>34.882900</td>\n",
       "      <td>-96.809400</td>\n",
       "      <td>7.410000e+02</td>\n",
       "      <td>34.919930</td>\n",
       "      <td>-96.929459</td>\n",
       "      <td>0.000000</td>\n",
       "      <td>6.000000</td>\n",
       "    </tr>\n",
       "    <tr>\n",
       "      <th>50%</th>\n",
       "      <td>3.521417e+15</td>\n",
       "      <td>88.625000</td>\n",
       "      <td>47515.000000</td>\n",
       "      <td>39.405500</td>\n",
       "      <td>-86.992000</td>\n",
       "      <td>2.518000e+03</td>\n",
       "      <td>39.411434</td>\n",
       "      <td>-87.187037</td>\n",
       "      <td>0.500000</td>\n",
       "      <td>16.000000</td>\n",
       "    </tr>\n",
       "    <tr>\n",
       "      <th>75%</th>\n",
       "      <td>4.634956e+15</td>\n",
       "      <td>486.715000</td>\n",
       "      <td>71832.000000</td>\n",
       "      <td>41.846700</td>\n",
       "      <td>-80.124800</td>\n",
       "      <td>2.047800e+04</td>\n",
       "      <td>41.945082</td>\n",
       "      <td>-80.119993</td>\n",
       "      <td>1.000000</td>\n",
       "      <td>23.000000</td>\n",
       "    </tr>\n",
       "    <tr>\n",
       "      <th>max</th>\n",
       "      <td>4.992346e+18</td>\n",
       "      <td>3250.050000</td>\n",
       "      <td>99783.000000</td>\n",
       "      <td>66.693300</td>\n",
       "      <td>-67.950300</td>\n",
       "      <td>2.906700e+06</td>\n",
       "      <td>67.510267</td>\n",
       "      <td>-66.993669</td>\n",
       "      <td>1.000000</td>\n",
       "      <td>24.000000</td>\n",
       "    </tr>\n",
       "  </tbody>\n",
       "</table>\n",
       "</div>"
      ],
      "text/plain": [
       "             cc_num           amt           zip           lat          long  \\\n",
       "count  1.501200e+04  15012.000000  15012.000000  15012.000000  15012.000000   \n",
       "mean   4.116061e+17    299.142826  48536.222422     38.597969    -90.153831   \n",
       "std    1.296647e+18    369.171521  27141.832326      5.104814     14.071088   \n",
       "min    6.041621e+10      1.000000   1257.000000     20.027100   -165.672300   \n",
       "25%    1.800312e+14     20.297500  25213.000000     34.882900    -96.809400   \n",
       "50%    3.521417e+15     88.625000  47515.000000     39.405500    -86.992000   \n",
       "75%    4.634956e+15    486.715000  71832.000000     41.846700    -80.124800   \n",
       "max    4.992346e+18   3250.050000  99783.000000     66.693300    -67.950300   \n",
       "\n",
       "           city_pop     merch_lat    merch_long      is_fraud          hour  \n",
       "count  1.501200e+04  15012.000000  15012.000000  15012.000000  15012.000000  \n",
       "mean   9.465576e+04     38.587773    -90.157656      0.500000     14.474754  \n",
       "std    3.163972e+05      5.141105     14.084716      0.500017      8.389713  \n",
       "min    2.300000e+01     19.093881   -166.550779      0.000000      1.000000  \n",
       "25%    7.410000e+02     34.919930    -96.929459      0.000000      6.000000  \n",
       "50%    2.518000e+03     39.411434    -87.187037      0.500000     16.000000  \n",
       "75%    2.047800e+04     41.945082    -80.119993      1.000000     23.000000  \n",
       "max    2.906700e+06     67.510267    -66.993669      1.000000     24.000000  "
      ]
     },
     "execution_count": 22,
     "metadata": {},
     "output_type": "execute_result"
    }
   ],
   "source": [
    "fraud.describe()"
   ]
  },
  {
   "cell_type": "code",
   "execution_count": null,
   "metadata": {},
   "outputs": [],
   "source": []
  }
 ],
 "metadata": {
  "kernelspec": {
   "display_name": "Python 3",
   "language": "python",
   "name": "python3"
  },
  "language_info": {
   "codemirror_mode": {
    "name": "ipython",
    "version": 3
   },
   "file_extension": ".py",
   "mimetype": "text/x-python",
   "name": "python",
   "nbconvert_exporter": "python",
   "pygments_lexer": "ipython3",
   "version": "3.8.5"
  }
 },
 "nbformat": 4,
 "nbformat_minor": 4
}
