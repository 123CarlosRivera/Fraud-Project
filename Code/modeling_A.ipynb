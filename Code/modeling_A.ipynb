{
 "cells": [
  {
   "cell_type": "markdown",
   "metadata": {},
   "source": [
    "## ```Imports```\n",
    "---"
   ]
  },
  {
   "cell_type": "code",
   "execution_count": 91,
   "metadata": {},
   "outputs": [],
   "source": [
    "# standard libraries\n",
    "import pandas as pd\n",
    "import numpy as np\n",
    "import seaborn as sns\n",
    "import matplotlib.pyplot as plt\n",
    "\n",
    "# modeling libraries\n",
    "from classifiers_copy1 import classify\n",
    "from sklearn.pipeline import Pipeline\n",
    "from sklearn.model_selection import GridSearchCV\n",
    "\n",
    "# preprocessing\n",
    "from sklearn.preprocessing import StandardScaler\n",
    "from sklearn.model_selection import train_test_split\n",
    "\n",
    "# Hide all Warnings\n",
    "import warnings\n",
    "warnings.filterwarnings('ignore')"
   ]
  },
  {
   "cell_type": "markdown",
   "metadata": {},
   "source": [
    "## ```Initial Modeling```\n",
    "---\n",
    "1. Inital modeling on smallerdataset with balanced classes just ot get an idea of how all my classifying models perform. The metric of importance is sensitivity so we can optimize for type 2 errors. "
   ]
  },
  {
   "cell_type": "code",
   "execution_count": 2,
   "metadata": {},
   "outputs": [],
   "source": [
    "fraud = pd.read_csv('../SmallBalancedClasses.csv')"
   ]
  },
  {
   "cell_type": "code",
   "execution_count": 3,
   "metadata": {},
   "outputs": [
    {
     "data": {
      "text/html": [
       "<div>\n",
       "<style scoped>\n",
       "    .dataframe tbody tr th:only-of-type {\n",
       "        vertical-align: middle;\n",
       "    }\n",
       "\n",
       "    .dataframe tbody tr th {\n",
       "        vertical-align: top;\n",
       "    }\n",
       "\n",
       "    .dataframe thead th {\n",
       "        text-align: right;\n",
       "    }\n",
       "</style>\n",
       "<table border=\"1\" class=\"dataframe\">\n",
       "  <thead>\n",
       "    <tr style=\"text-align: right;\">\n",
       "      <th></th>\n",
       "      <th>trans_date_trans_time</th>\n",
       "      <th>cc_num</th>\n",
       "      <th>merchant</th>\n",
       "      <th>category</th>\n",
       "      <th>amt</th>\n",
       "      <th>gender</th>\n",
       "      <th>city</th>\n",
       "      <th>state</th>\n",
       "      <th>zip</th>\n",
       "      <th>lat</th>\n",
       "      <th>long</th>\n",
       "      <th>city_pop</th>\n",
       "      <th>job</th>\n",
       "      <th>dob</th>\n",
       "      <th>merch_lat</th>\n",
       "      <th>merch_long</th>\n",
       "      <th>is_fraud</th>\n",
       "      <th>hour</th>\n",
       "    </tr>\n",
       "  </thead>\n",
       "  <tbody>\n",
       "    <tr>\n",
       "      <th>0</th>\n",
       "      <td>2019-12-13 05:41:26</td>\n",
       "      <td>378278619832195</td>\n",
       "      <td>fraud_Dach-Nader</td>\n",
       "      <td>misc_net</td>\n",
       "      <td>3.17</td>\n",
       "      <td>F</td>\n",
       "      <td>Eugene</td>\n",
       "      <td>OR</td>\n",
       "      <td>97403</td>\n",
       "      <td>44.0385</td>\n",
       "      <td>-123.0614</td>\n",
       "      <td>191096</td>\n",
       "      <td>Scientist, physiological</td>\n",
       "      <td>1964-04-06</td>\n",
       "      <td>44.716305</td>\n",
       "      <td>-123.984986</td>\n",
       "      <td>0</td>\n",
       "      <td>6</td>\n",
       "    </tr>\n",
       "    <tr>\n",
       "      <th>1</th>\n",
       "      <td>2020-03-11 22:31:29</td>\n",
       "      <td>4725837176265195730</td>\n",
       "      <td>fraud_Torphy-Goyette</td>\n",
       "      <td>shopping_pos</td>\n",
       "      <td>16.37</td>\n",
       "      <td>F</td>\n",
       "      <td>Jay</td>\n",
       "      <td>FL</td>\n",
       "      <td>32565</td>\n",
       "      <td>30.8985</td>\n",
       "      <td>-87.1332</td>\n",
       "      <td>5719</td>\n",
       "      <td>Higher education careers adviser</td>\n",
       "      <td>1994-11-05</td>\n",
       "      <td>30.635023</td>\n",
       "      <td>-88.086411</td>\n",
       "      <td>0</td>\n",
       "      <td>23</td>\n",
       "    </tr>\n",
       "    <tr>\n",
       "      <th>2</th>\n",
       "      <td>2019-11-12 01:08:37</td>\n",
       "      <td>373905417449658</td>\n",
       "      <td>fraud_Bruen-Yost</td>\n",
       "      <td>misc_pos</td>\n",
       "      <td>8.54</td>\n",
       "      <td>F</td>\n",
       "      <td>Meridian</td>\n",
       "      <td>TX</td>\n",
       "      <td>76665</td>\n",
       "      <td>31.9290</td>\n",
       "      <td>-97.6443</td>\n",
       "      <td>2526</td>\n",
       "      <td>Phytotherapist</td>\n",
       "      <td>1970-11-12</td>\n",
       "      <td>32.399693</td>\n",
       "      <td>-97.414423</td>\n",
       "      <td>0</td>\n",
       "      <td>2</td>\n",
       "    </tr>\n",
       "  </tbody>\n",
       "</table>\n",
       "</div>"
      ],
      "text/plain": [
       "  trans_date_trans_time               cc_num              merchant  \\\n",
       "0   2019-12-13 05:41:26      378278619832195      fraud_Dach-Nader   \n",
       "1   2020-03-11 22:31:29  4725837176265195730  fraud_Torphy-Goyette   \n",
       "2   2019-11-12 01:08:37      373905417449658      fraud_Bruen-Yost   \n",
       "\n",
       "       category    amt gender      city state    zip      lat      long  \\\n",
       "0      misc_net   3.17      F    Eugene    OR  97403  44.0385 -123.0614   \n",
       "1  shopping_pos  16.37      F       Jay    FL  32565  30.8985  -87.1332   \n",
       "2      misc_pos   8.54      F  Meridian    TX  76665  31.9290  -97.6443   \n",
       "\n",
       "   city_pop                               job         dob  merch_lat  \\\n",
       "0    191096          Scientist, physiological  1964-04-06  44.716305   \n",
       "1      5719  Higher education careers adviser  1994-11-05  30.635023   \n",
       "2      2526                    Phytotherapist  1970-11-12  32.399693   \n",
       "\n",
       "   merch_long  is_fraud  hour  \n",
       "0 -123.984986         0     6  \n",
       "1  -88.086411         0    23  \n",
       "2  -97.414423         0     2  "
      ]
     },
     "execution_count": 3,
     "metadata": {},
     "output_type": "execute_result"
    }
   ],
   "source": [
    "fraud.head(3)"
   ]
  },
  {
   "cell_type": "code",
   "execution_count": 4,
   "metadata": {},
   "outputs": [
    {
     "data": {
      "text/plain": [
       "Index(['trans_date_trans_time', 'cc_num', 'merchant', 'category', 'amt',\n",
       "       'gender', 'city', 'state', 'zip', 'lat', 'long', 'city_pop', 'job',\n",
       "       'dob', 'merch_lat', 'merch_long', 'is_fraud', 'hour'],\n",
       "      dtype='object')"
      ]
     },
     "execution_count": 4,
     "metadata": {},
     "output_type": "execute_result"
    }
   ],
   "source": [
    "fraud.columns"
   ]
  },
  {
   "cell_type": "code",
   "execution_count": 5,
   "metadata": {},
   "outputs": [
    {
     "data": {
      "text/plain": [
       "(15012, 1662)"
      ]
     },
     "execution_count": 5,
     "metadata": {},
     "output_type": "execute_result"
    }
   ],
   "source": [
    "# dummy for object variables\n",
    "df_fraud = fraud.copy()\n",
    "df_fraud = pd.get_dummies(fraud, columns=['gender','city','state','category','merchant'])\n",
    "df_fraud.shape"
   ]
  },
  {
   "cell_type": "code",
   "execution_count": 25,
   "metadata": {},
   "outputs": [],
   "source": [
    "# setting up X/y\n",
    "X = df_fraud.drop(columns=['trans_date_trans_time','lat', 'long','job','merch_lat', 'merch_long','dob','is_fraud'])\n",
    "y = df_fraud['is_fraud']\n",
    "\n",
    "# train/test split\n",
    "X_train, X_test, y_train, y_test = train_test_split(X,y,random_state=42,stratify=y)\n",
    "\n",
    "# standard scale the data\n",
    "ss = StandardScaler()\n",
    "X_train_ss = ss.fit_transform(X_train)\n",
    "X_test_ss = ss.transform(X_test)"
   ]
  },
  {
   "cell_type": "code",
   "execution_count": 26,
   "metadata": {
    "collapsed": true,
    "jupyter": {
     "outputs_hidden": true
    }
   },
   "outputs": [
    {
     "name": "stderr",
     "output_type": "stream",
     "text": [
      "/Users/crivera/opt/anaconda3/lib/python3.8/site-packages/sklearn/linear_model/_logistic.py:763: ConvergenceWarning: lbfgs failed to converge (status=1):\n",
      "STOP: TOTAL NO. of ITERATIONS REACHED LIMIT.\n",
      "\n",
      "Increase the number of iterations (max_iter) or scale the data as shown in:\n",
      "    https://scikit-learn.org/stable/modules/preprocessing.html\n",
      "Please also refer to the documentation for alternative solver options:\n",
      "    https://scikit-learn.org/stable/modules/linear_model.html#logistic-regression\n",
      "  n_iter_i = _check_optimize_result(\n",
      "/Users/crivera/opt/anaconda3/lib/python3.8/site-packages/sklearn/linear_model/_logistic.py:763: ConvergenceWarning: lbfgs failed to converge (status=1):\n",
      "STOP: TOTAL NO. of ITERATIONS REACHED LIMIT.\n",
      "\n",
      "Increase the number of iterations (max_iter) or scale the data as shown in:\n",
      "    https://scikit-learn.org/stable/modules/preprocessing.html\n",
      "Please also refer to the documentation for alternative solver options:\n",
      "    https://scikit-learn.org/stable/modules/linear_model.html#logistic-regression\n",
      "  n_iter_i = _check_optimize_result(\n",
      "/Users/crivera/opt/anaconda3/lib/python3.8/site-packages/sklearn/linear_model/_logistic.py:763: ConvergenceWarning: lbfgs failed to converge (status=1):\n",
      "STOP: TOTAL NO. of ITERATIONS REACHED LIMIT.\n",
      "\n",
      "Increase the number of iterations (max_iter) or scale the data as shown in:\n",
      "    https://scikit-learn.org/stable/modules/preprocessing.html\n",
      "Please also refer to the documentation for alternative solver options:\n",
      "    https://scikit-learn.org/stable/modules/linear_model.html#logistic-regression\n",
      "  n_iter_i = _check_optimize_result(\n",
      "/Users/crivera/opt/anaconda3/lib/python3.8/site-packages/sklearn/linear_model/_logistic.py:763: ConvergenceWarning: lbfgs failed to converge (status=1):\n",
      "STOP: TOTAL NO. of ITERATIONS REACHED LIMIT.\n",
      "\n",
      "Increase the number of iterations (max_iter) or scale the data as shown in:\n",
      "    https://scikit-learn.org/stable/modules/preprocessing.html\n",
      "Please also refer to the documentation for alternative solver options:\n",
      "    https://scikit-learn.org/stable/modules/linear_model.html#logistic-regression\n",
      "  n_iter_i = _check_optimize_result(\n",
      "/Users/crivera/opt/anaconda3/lib/python3.8/site-packages/sklearn/linear_model/_logistic.py:763: ConvergenceWarning: lbfgs failed to converge (status=1):\n",
      "STOP: TOTAL NO. of ITERATIONS REACHED LIMIT.\n",
      "\n",
      "Increase the number of iterations (max_iter) or scale the data as shown in:\n",
      "    https://scikit-learn.org/stable/modules/preprocessing.html\n",
      "Please also refer to the documentation for alternative solver options:\n",
      "    https://scikit-learn.org/stable/modules/linear_model.html#logistic-regression\n",
      "  n_iter_i = _check_optimize_result(\n",
      "/Users/crivera/opt/anaconda3/lib/python3.8/site-packages/sklearn/linear_model/_logistic.py:763: ConvergenceWarning: lbfgs failed to converge (status=1):\n",
      "STOP: TOTAL NO. of ITERATIONS REACHED LIMIT.\n",
      "\n",
      "Increase the number of iterations (max_iter) or scale the data as shown in:\n",
      "    https://scikit-learn.org/stable/modules/preprocessing.html\n",
      "Please also refer to the documentation for alternative solver options:\n",
      "    https://scikit-learn.org/stable/modules/linear_model.html#logistic-regression\n",
      "  n_iter_i = _check_optimize_result(\n",
      "/Users/crivera/opt/anaconda3/lib/python3.8/site-packages/sklearn/linear_model/_logistic.py:763: ConvergenceWarning: lbfgs failed to converge (status=1):\n",
      "STOP: TOTAL NO. of ITERATIONS REACHED LIMIT.\n",
      "\n",
      "Increase the number of iterations (max_iter) or scale the data as shown in:\n",
      "    https://scikit-learn.org/stable/modules/preprocessing.html\n",
      "Please also refer to the documentation for alternative solver options:\n",
      "    https://scikit-learn.org/stable/modules/linear_model.html#logistic-regression\n",
      "  n_iter_i = _check_optimize_result(\n",
      "/Users/crivera/opt/anaconda3/lib/python3.8/site-packages/sklearn/linear_model/_logistic.py:763: ConvergenceWarning: lbfgs failed to converge (status=1):\n",
      "STOP: TOTAL NO. of ITERATIONS REACHED LIMIT.\n",
      "\n",
      "Increase the number of iterations (max_iter) or scale the data as shown in:\n",
      "    https://scikit-learn.org/stable/modules/preprocessing.html\n",
      "Please also refer to the documentation for alternative solver options:\n",
      "    https://scikit-learn.org/stable/modules/linear_model.html#logistic-regression\n",
      "  n_iter_i = _check_optimize_result(\n",
      "/Users/crivera/opt/anaconda3/lib/python3.8/site-packages/sklearn/linear_model/_logistic.py:763: ConvergenceWarning: lbfgs failed to converge (status=1):\n",
      "STOP: TOTAL NO. of ITERATIONS REACHED LIMIT.\n",
      "\n",
      "Increase the number of iterations (max_iter) or scale the data as shown in:\n",
      "    https://scikit-learn.org/stable/modules/preprocessing.html\n",
      "Please also refer to the documentation for alternative solver options:\n",
      "    https://scikit-learn.org/stable/modules/linear_model.html#logistic-regression\n",
      "  n_iter_i = _check_optimize_result(\n",
      "/Users/crivera/opt/anaconda3/lib/python3.8/site-packages/sklearn/linear_model/_logistic.py:763: ConvergenceWarning: lbfgs failed to converge (status=1):\n",
      "STOP: TOTAL NO. of ITERATIONS REACHED LIMIT.\n",
      "\n",
      "Increase the number of iterations (max_iter) or scale the data as shown in:\n",
      "    https://scikit-learn.org/stable/modules/preprocessing.html\n",
      "Please also refer to the documentation for alternative solver options:\n",
      "    https://scikit-learn.org/stable/modules/linear_model.html#logistic-regression\n",
      "  n_iter_i = _check_optimize_result(\n",
      "/Users/crivera/opt/anaconda3/lib/python3.8/site-packages/sklearn/linear_model/_logistic.py:763: ConvergenceWarning: lbfgs failed to converge (status=1):\n",
      "STOP: TOTAL NO. of ITERATIONS REACHED LIMIT.\n",
      "\n",
      "Increase the number of iterations (max_iter) or scale the data as shown in:\n",
      "    https://scikit-learn.org/stable/modules/preprocessing.html\n",
      "Please also refer to the documentation for alternative solver options:\n",
      "    https://scikit-learn.org/stable/modules/linear_model.html#logistic-regression\n",
      "  n_iter_i = _check_optimize_result(\n"
     ]
    }
   ],
   "source": [
    "# Running a ton of models to select a few for hypertunning \n",
    "result = classify(X_train_ss,X_test_ss,y_train,y_test)"
   ]
  },
  {
   "cell_type": "code",
   "execution_count": 45,
   "metadata": {},
   "outputs": [
    {
     "data": {
      "text/html": [
       "<div>\n",
       "<style scoped>\n",
       "    .dataframe tbody tr th:only-of-type {\n",
       "        vertical-align: middle;\n",
       "    }\n",
       "\n",
       "    .dataframe tbody tr th {\n",
       "        vertical-align: top;\n",
       "    }\n",
       "\n",
       "    .dataframe thead th {\n",
       "        text-align: right;\n",
       "    }\n",
       "</style>\n",
       "<table border=\"1\" class=\"dataframe\">\n",
       "  <thead>\n",
       "    <tr style=\"text-align: right;\">\n",
       "      <th></th>\n",
       "      <th>Train Acc</th>\n",
       "      <th>Test Acc</th>\n",
       "      <th>Acc-diff</th>\n",
       "      <th>Train-F1</th>\n",
       "      <th>Test-F1</th>\n",
       "      <th>F1-diff</th>\n",
       "      <th>Train-Pres</th>\n",
       "      <th>Test-Pres</th>\n",
       "      <th>Pres-diff</th>\n",
       "      <th>Train_Recall</th>\n",
       "      <th>Test-Recall</th>\n",
       "      <th>Recall_diff</th>\n",
       "    </tr>\n",
       "  </thead>\n",
       "  <tbody>\n",
       "    <tr>\n",
       "      <th>knn</th>\n",
       "      <td>0.765166</td>\n",
       "      <td>0.667732</td>\n",
       "      <td>0.097433</td>\n",
       "      <td>0.785285</td>\n",
       "      <td>0.696815</td>\n",
       "      <td>0.088470</td>\n",
       "      <td>0.723369</td>\n",
       "      <td>0.640590</td>\n",
       "      <td>0.082779</td>\n",
       "      <td>0.858792</td>\n",
       "      <td>0.763859</td>\n",
       "      <td>0.094933</td>\n",
       "    </tr>\n",
       "    <tr>\n",
       "      <th>logreg</th>\n",
       "      <td>0.899547</td>\n",
       "      <td>0.839329</td>\n",
       "      <td>0.060218</td>\n",
       "      <td>0.898592</td>\n",
       "      <td>0.839071</td>\n",
       "      <td>0.059521</td>\n",
       "      <td>0.907297</td>\n",
       "      <td>0.840192</td>\n",
       "      <td>0.067104</td>\n",
       "      <td>0.890053</td>\n",
       "      <td>0.837953</td>\n",
       "      <td>0.052100</td>\n",
       "    </tr>\n",
       "    <tr>\n",
       "      <th>dt</th>\n",
       "      <td>1.000000</td>\n",
       "      <td>0.963229</td>\n",
       "      <td>0.036771</td>\n",
       "      <td>1.000000</td>\n",
       "      <td>0.963569</td>\n",
       "      <td>0.036431</td>\n",
       "      <td>1.000000</td>\n",
       "      <td>0.954498</td>\n",
       "      <td>0.045502</td>\n",
       "      <td>1.000000</td>\n",
       "      <td>0.972814</td>\n",
       "      <td>0.027186</td>\n",
       "    </tr>\n",
       "    <tr>\n",
       "      <th>bag</th>\n",
       "      <td>0.995470</td>\n",
       "      <td>0.963496</td>\n",
       "      <td>0.031974</td>\n",
       "      <td>0.995464</td>\n",
       "      <td>0.963785</td>\n",
       "      <td>0.031678</td>\n",
       "      <td>0.996971</td>\n",
       "      <td>0.955952</td>\n",
       "      <td>0.041020</td>\n",
       "      <td>0.993961</td>\n",
       "      <td>0.971748</td>\n",
       "      <td>0.022213</td>\n",
       "    </tr>\n",
       "    <tr>\n",
       "      <th>bag_knn</th>\n",
       "      <td>0.776090</td>\n",
       "      <td>0.670397</td>\n",
       "      <td>0.105693</td>\n",
       "      <td>0.793614</td>\n",
       "      <td>0.696888</td>\n",
       "      <td>0.096726</td>\n",
       "      <td>0.736067</td>\n",
       "      <td>0.644898</td>\n",
       "      <td>0.091169</td>\n",
       "      <td>0.860924</td>\n",
       "      <td>0.757996</td>\n",
       "      <td>0.102928</td>\n",
       "    </tr>\n",
       "    <tr>\n",
       "      <th>bag_log</th>\n",
       "      <td>0.901146</td>\n",
       "      <td>0.836930</td>\n",
       "      <td>0.064215</td>\n",
       "      <td>0.899685</td>\n",
       "      <td>0.835307</td>\n",
       "      <td>0.064378</td>\n",
       "      <td>0.913266</td>\n",
       "      <td>0.843478</td>\n",
       "      <td>0.069788</td>\n",
       "      <td>0.886501</td>\n",
       "      <td>0.827292</td>\n",
       "      <td>0.059209</td>\n",
       "    </tr>\n",
       "    <tr>\n",
       "      <th>rf</th>\n",
       "      <td>1.000000</td>\n",
       "      <td>0.966160</td>\n",
       "      <td>0.033840</td>\n",
       "      <td>1.000000</td>\n",
       "      <td>0.966124</td>\n",
       "      <td>0.033876</td>\n",
       "      <td>1.000000</td>\n",
       "      <td>0.966898</td>\n",
       "      <td>0.033102</td>\n",
       "      <td>1.000000</td>\n",
       "      <td>0.965352</td>\n",
       "      <td>0.034648</td>\n",
       "    </tr>\n",
       "    <tr>\n",
       "      <th>et</th>\n",
       "      <td>1.000000</td>\n",
       "      <td>0.938449</td>\n",
       "      <td>0.061551</td>\n",
       "      <td>1.000000</td>\n",
       "      <td>0.937347</td>\n",
       "      <td>0.062653</td>\n",
       "      <td>1.000000</td>\n",
       "      <td>0.954169</td>\n",
       "      <td>0.045831</td>\n",
       "      <td>1.000000</td>\n",
       "      <td>0.921109</td>\n",
       "      <td>0.078891</td>\n",
       "    </tr>\n",
       "    <tr>\n",
       "      <th>ada</th>\n",
       "      <td>0.947509</td>\n",
       "      <td>0.944578</td>\n",
       "      <td>0.002931</td>\n",
       "      <td>0.947019</td>\n",
       "      <td>0.944116</td>\n",
       "      <td>0.002903</td>\n",
       "      <td>0.956018</td>\n",
       "      <td>0.951788</td>\n",
       "      <td>0.004230</td>\n",
       "      <td>0.938188</td>\n",
       "      <td>0.936567</td>\n",
       "      <td>0.001621</td>\n",
       "    </tr>\n",
       "    <tr>\n",
       "      <th>gboost</th>\n",
       "      <td>0.965006</td>\n",
       "      <td>0.961364</td>\n",
       "      <td>0.003642</td>\n",
       "      <td>0.964890</td>\n",
       "      <td>0.961385</td>\n",
       "      <td>0.003506</td>\n",
       "      <td>0.968169</td>\n",
       "      <td>0.960617</td>\n",
       "      <td>0.007551</td>\n",
       "      <td>0.961634</td>\n",
       "      <td>0.962154</td>\n",
       "      <td>0.000519</td>\n",
       "    </tr>\n",
       "    <tr>\n",
       "      <th>svc</th>\n",
       "      <td>0.905675</td>\n",
       "      <td>0.820677</td>\n",
       "      <td>0.084999</td>\n",
       "      <td>0.902640</td>\n",
       "      <td>0.808970</td>\n",
       "      <td>0.093671</td>\n",
       "      <td>0.932740</td>\n",
       "      <td>0.865209</td>\n",
       "      <td>0.067530</td>\n",
       "      <td>0.874423</td>\n",
       "      <td>0.759595</td>\n",
       "      <td>0.114828</td>\n",
       "    </tr>\n",
       "  </tbody>\n",
       "</table>\n",
       "</div>"
      ],
      "text/plain": [
       "         Train Acc  Test Acc  Acc-diff  Train-F1   Test-F1   F1-diff  \\\n",
       "knn       0.765166  0.667732  0.097433  0.785285  0.696815  0.088470   \n",
       "logreg    0.899547  0.839329  0.060218  0.898592  0.839071  0.059521   \n",
       "dt        1.000000  0.963229  0.036771  1.000000  0.963569  0.036431   \n",
       "bag       0.995470  0.963496  0.031974  0.995464  0.963785  0.031678   \n",
       "bag_knn   0.776090  0.670397  0.105693  0.793614  0.696888  0.096726   \n",
       "bag_log   0.901146  0.836930  0.064215  0.899685  0.835307  0.064378   \n",
       "rf        1.000000  0.966160  0.033840  1.000000  0.966124  0.033876   \n",
       "et        1.000000  0.938449  0.061551  1.000000  0.937347  0.062653   \n",
       "ada       0.947509  0.944578  0.002931  0.947019  0.944116  0.002903   \n",
       "gboost    0.965006  0.961364  0.003642  0.964890  0.961385  0.003506   \n",
       "svc       0.905675  0.820677  0.084999  0.902640  0.808970  0.093671   \n",
       "\n",
       "         Train-Pres  Test-Pres  Pres-diff  Train_Recall  Test-Recall  \\\n",
       "knn        0.723369   0.640590   0.082779      0.858792     0.763859   \n",
       "logreg     0.907297   0.840192   0.067104      0.890053     0.837953   \n",
       "dt         1.000000   0.954498   0.045502      1.000000     0.972814   \n",
       "bag        0.996971   0.955952   0.041020      0.993961     0.971748   \n",
       "bag_knn    0.736067   0.644898   0.091169      0.860924     0.757996   \n",
       "bag_log    0.913266   0.843478   0.069788      0.886501     0.827292   \n",
       "rf         1.000000   0.966898   0.033102      1.000000     0.965352   \n",
       "et         1.000000   0.954169   0.045831      1.000000     0.921109   \n",
       "ada        0.956018   0.951788   0.004230      0.938188     0.936567   \n",
       "gboost     0.968169   0.960617   0.007551      0.961634     0.962154   \n",
       "svc        0.932740   0.865209   0.067530      0.874423     0.759595   \n",
       "\n",
       "         Recall_diff  \n",
       "knn         0.094933  \n",
       "logreg      0.052100  \n",
       "dt          0.027186  \n",
       "bag         0.022213  \n",
       "bag_knn     0.102928  \n",
       "bag_log     0.059209  \n",
       "rf          0.034648  \n",
       "et          0.078891  \n",
       "ada         0.001621  \n",
       "gboost      0.000519  \n",
       "svc         0.114828  "
      ]
     },
     "execution_count": 45,
     "metadata": {},
     "output_type": "execute_result"
    }
   ],
   "source": [
    "result"
   ]
  },
  {
   "cell_type": "code",
   "execution_count": 44,
   "metadata": {},
   "outputs": [
    {
     "data": {
      "text/html": [
       "<div>\n",
       "<style scoped>\n",
       "    .dataframe tbody tr th:only-of-type {\n",
       "        vertical-align: middle;\n",
       "    }\n",
       "\n",
       "    .dataframe tbody tr th {\n",
       "        vertical-align: top;\n",
       "    }\n",
       "\n",
       "    .dataframe thead th {\n",
       "        text-align: right;\n",
       "    }\n",
       "</style>\n",
       "<table border=\"1\" class=\"dataframe\">\n",
       "  <thead>\n",
       "    <tr style=\"text-align: right;\">\n",
       "      <th></th>\n",
       "      <th>Train Acc</th>\n",
       "      <th>Test Acc</th>\n",
       "      <th>Acc-diff</th>\n",
       "      <th>Train-F1</th>\n",
       "      <th>Test-F1</th>\n",
       "      <th>F1-diff</th>\n",
       "      <th>Train-Pres</th>\n",
       "      <th>Test-Pres</th>\n",
       "      <th>Pres-diff</th>\n",
       "      <th>Train_Recall</th>\n",
       "      <th>Test-Recall</th>\n",
       "      <th>Recall_diff</th>\n",
       "    </tr>\n",
       "  </thead>\n",
       "  <tbody>\n",
       "    <tr>\n",
       "      <th>dt</th>\n",
       "      <td>1.0</td>\n",
       "      <td>0.963229</td>\n",
       "      <td>0.036771</td>\n",
       "      <td>1.0</td>\n",
       "      <td>0.963569</td>\n",
       "      <td>0.036431</td>\n",
       "      <td>1.0</td>\n",
       "      <td>0.954498</td>\n",
       "      <td>0.045502</td>\n",
       "      <td>1.0</td>\n",
       "      <td>0.972814</td>\n",
       "      <td>0.027186</td>\n",
       "    </tr>\n",
       "    <tr>\n",
       "      <th>rf</th>\n",
       "      <td>1.0</td>\n",
       "      <td>0.966160</td>\n",
       "      <td>0.033840</td>\n",
       "      <td>1.0</td>\n",
       "      <td>0.966124</td>\n",
       "      <td>0.033876</td>\n",
       "      <td>1.0</td>\n",
       "      <td>0.966898</td>\n",
       "      <td>0.033102</td>\n",
       "      <td>1.0</td>\n",
       "      <td>0.965352</td>\n",
       "      <td>0.034648</td>\n",
       "    </tr>\n",
       "    <tr>\n",
       "      <th>et</th>\n",
       "      <td>1.0</td>\n",
       "      <td>0.938449</td>\n",
       "      <td>0.061551</td>\n",
       "      <td>1.0</td>\n",
       "      <td>0.937347</td>\n",
       "      <td>0.062653</td>\n",
       "      <td>1.0</td>\n",
       "      <td>0.954169</td>\n",
       "      <td>0.045831</td>\n",
       "      <td>1.0</td>\n",
       "      <td>0.921109</td>\n",
       "      <td>0.078891</td>\n",
       "    </tr>\n",
       "  </tbody>\n",
       "</table>\n",
       "</div>"
      ],
      "text/plain": [
       "    Train Acc  Test Acc  Acc-diff  Train-F1   Test-F1   F1-diff  Train-Pres  \\\n",
       "dt        1.0  0.963229  0.036771       1.0  0.963569  0.036431         1.0   \n",
       "rf        1.0  0.966160  0.033840       1.0  0.966124  0.033876         1.0   \n",
       "et        1.0  0.938449  0.061551       1.0  0.937347  0.062653         1.0   \n",
       "\n",
       "    Test-Pres  Pres-diff  Train_Recall  Test-Recall  Recall_diff  \n",
       "dt   0.954498   0.045502           1.0     0.972814     0.027186  \n",
       "rf   0.966898   0.033102           1.0     0.965352     0.034648  \n",
       "et   0.954169   0.045831           1.0     0.921109     0.078891  "
      ]
     },
     "execution_count": 44,
     "metadata": {},
     "output_type": "execute_result"
    }
   ],
   "source": [
    "# these are the best models on default settings\n",
    "result[result['Train Acc']==1]"
   ]
  },
  {
   "cell_type": "markdown",
   "metadata": {},
   "source": [
    "**These models will be hypertunned to see if I can minimize train/test accuracy differences.**"
   ]
  },
  {
   "cell_type": "code",
   "execution_count": 77,
   "metadata": {},
   "outputs": [
    {
     "name": "stdout",
     "output_type": "stream",
     "text": [
      "train Acc: 1.0\n",
      "test Acc: 0.9672262190247801\n"
     ]
    },
    {
     "data": {
      "image/png": "[encoded data removed]",
      "text/plain": [
       "<Figure size 432x288 with 2 Axes>"
      ]
     },
     "metadata": {
      "needs_background": "light"
     },
     "output_type": "display_data"
    }
   ],
   "source": [
    "from sklearn.tree import DecisionTreeClassifier, ExtraTreeClassifier\n",
    "from sklearn.ensemble import RandomForestClassifier\n",
    "from sklearn.metrics import confusion_matrix, plot_confusion_matrix\n",
    "\n",
    "# train model\n",
    "rf = RandomForestClassifier(random_state=42)\n",
    "rf.fit(X_train_ss,y_train)\n",
    "\n",
    "# score model\n",
    "print(f\"train Acc: {rf.score(X_train_ss,y_train)}\")\n",
    "print(f\"test Acc: {rf.score(X_test_ss,y_test)}\")\n",
    "\n",
    "# Confusion Matrix\n",
    "plot_confusion_matrix(rf, X_test_ss, y_test, display_labels=['noFraud','Fraud'])\n",
    "plt.show()"
   ]
  },
  {
   "cell_type": "code",
   "execution_count": 66,
   "metadata": {},
   "outputs": [
    {
     "data": {
      "text/html": [
       "<div>\n",
       "<style scoped>\n",
       "    .dataframe tbody tr th:only-of-type {\n",
       "        vertical-align: middle;\n",
       "    }\n",
       "\n",
       "    .dataframe tbody tr th {\n",
       "        vertical-align: top;\n",
       "    }\n",
       "\n",
       "    .dataframe thead th {\n",
       "        text-align: right;\n",
       "    }\n",
       "</style>\n",
       "<table border=\"1\" class=\"dataframe\">\n",
       "  <thead>\n",
       "    <tr style=\"text-align: right;\">\n",
       "      <th></th>\n",
       "      <th>0</th>\n",
       "    </tr>\n",
       "  </thead>\n",
       "  <tbody>\n",
       "    <tr>\n",
       "      <th>amt</th>\n",
       "      <td>3.884739e-01</td>\n",
       "    </tr>\n",
       "    <tr>\n",
       "      <th>hour</th>\n",
       "      <td>1.530275e-01</td>\n",
       "    </tr>\n",
       "    <tr>\n",
       "      <th>category_shopping_net</th>\n",
       "      <td>2.138084e-02</td>\n",
       "    </tr>\n",
       "    <tr>\n",
       "      <th>city_pop</th>\n",
       "      <td>1.930910e-02</td>\n",
       "    </tr>\n",
       "    <tr>\n",
       "      <th>zip</th>\n",
       "      <td>1.929993e-02</td>\n",
       "    </tr>\n",
       "    <tr>\n",
       "      <th>...</th>\n",
       "      <td>...</td>\n",
       "    </tr>\n",
       "    <tr>\n",
       "      <th>city_Annapolis</th>\n",
       "      <td>4.985411e-08</td>\n",
       "    </tr>\n",
       "    <tr>\n",
       "      <th>city_Pelham</th>\n",
       "      <td>7.716042e-09</td>\n",
       "    </tr>\n",
       "    <tr>\n",
       "      <th>city_Churubusco</th>\n",
       "      <td>8.690475e-10</td>\n",
       "    </tr>\n",
       "    <tr>\n",
       "      <th>city_Boyd</th>\n",
       "      <td>0.000000e+00</td>\n",
       "    </tr>\n",
       "    <tr>\n",
       "      <th>city_Lane</th>\n",
       "      <td>0.000000e+00</td>\n",
       "    </tr>\n",
       "  </tbody>\n",
       "</table>\n",
       "<p>1654 rows × 1 columns</p>\n",
       "</div>"
      ],
      "text/plain": [
       "                                  0\n",
       "amt                    3.884739e-01\n",
       "hour                   1.530275e-01\n",
       "category_shopping_net  2.138084e-02\n",
       "city_pop               1.930910e-02\n",
       "zip                    1.929993e-02\n",
       "...                             ...\n",
       "city_Annapolis         4.985411e-08\n",
       "city_Pelham            7.716042e-09\n",
       "city_Churubusco        8.690475e-10\n",
       "city_Boyd              0.000000e+00\n",
       "city_Lane              0.000000e+00\n",
       "\n",
       "[1654 rows x 1 columns]"
      ]
     },
     "execution_count": 66,
     "metadata": {},
     "output_type": "execute_result"
    }
   ],
   "source": [
    "pd.DataFrame(rf.feature_importances_, index=X.columns).sort_values(by = 0, ascending=False)"
   ]
  },
  {
   "cell_type": "code",
   "execution_count": 105,
   "metadata": {},
   "outputs": [
    {
     "data": {
      "text/plain": [
       "GridSearchCV(cv=5, estimator=RandomForestClassifier(random_state=42),\n",
       "             param_grid={'criterion': ['gini', 'entropy'],\n",
       "                         'max_depth': [4, 5, 6, 7, 8],\n",
       "                         'min_samples_split': [2, 3, 4, 5],\n",
       "                         'n_estimators': [100, 125, 150, 175, 200]})"
      ]
     },
     "execution_count": 105,
     "metadata": {},
     "output_type": "execute_result"
    }
   ],
   "source": [
    "# setup gridsearch params for Random Forest\n",
    "rf_params = {\n",
    "    'n_estimators': [100,125,150,175,200],\n",
    "    'criterion': [\"gini\", \"entropy\"],\n",
    "    'min_samples_split': [2,3,4,5],\n",
    "    'max_depth' : [4,5,6,7,8]\n",
    "    \n",
    "}\n",
    "\n",
    "#\n",
    "rf = RandomForestClassifier(random_state=42)\n",
    "gs = GridSearchCV(estimator=rf, param_grid=rf_params, cv=5)\n",
    "gs.fit(X_train_ss,y_train)"
   ]
  },
  {
   "cell_type": "code",
   "execution_count": 106,
   "metadata": {},
   "outputs": [
    {
     "data": {
      "text/plain": [
       "{'criterion': 'gini',\n",
       " 'max_depth': 8,\n",
       " 'min_samples_split': 4,\n",
       " 'n_estimators': 200}"
      ]
     },
     "execution_count": 106,
     "metadata": {},
     "output_type": "execute_result"
    }
   ],
   "source": [
    "# the best parameters that led to the score attribute\n",
    "gs.best_params_"
   ]
  },
  {
   "cell_type": "code",
   "execution_count": 107,
   "metadata": {},
   "outputs": [
    {
     "name": "stdout",
     "output_type": "stream",
     "text": [
      "train Acc: 0.8663291588951061\n",
      "test Acc: 0.8651745270450306\n"
     ]
    }
   ],
   "source": [
    "print(f\"train Acc: {gs.score(X_train_ss,y_train)}\")\n",
    "print(f\"test Acc: {gs.score(X_test_ss,y_test)}\")"
   ]
  },
  {
   "cell_type": "markdown",
   "metadata": {},
   "source": [
    "**Default Settings:**\n",
    " - Train Acc: 1\n",
    " - Test Acc: 0.97\n",
    " \n",
    "**GridSearch Best**\n",
    " - Train Acc: 0.87\n",
    " - Test Acc: 0.87"
   ]
  },
  {
   "cell_type": "code",
   "execution_count": 95,
   "metadata": {},
   "outputs": [
    {
     "name": "stdout",
     "output_type": "stream",
     "text": [
      "train Acc: 1.0\n",
      "test Acc: 0.8387956301625367\n"
     ]
    },
    {
     "data": {
      "image/png": "[encoded data removed]",
      "text/plain": [
       "<Figure size 432x288 with 2 Axes>"
      ]
     },
     "metadata": {
      "needs_background": "light"
     },
     "output_type": "display_data"
    }
   ],
   "source": [
    "# train model\n",
    "et = ExtraTreeClassifier()\n",
    "et.fit(X_train_ss,y_train)\n",
    "\n",
    "# score model\n",
    "print(f\"train Acc: {et.score(X_train_ss,y_train)}\")\n",
    "print(f\"test Acc: {et.score(X_test_ss,y_test)}\")\n",
    "\n",
    "# Confusion Matrix\n",
    "plot_confusion_matrix(et, X_test_ss, y_test, display_labels=['noFraud','Fraud'])\n",
    "plt.show()"
   ]
  },
  {
   "cell_type": "code",
   "execution_count": 99,
   "metadata": {},
   "outputs": [
    {
     "data": {
      "text/plain": [
       "GridSearchCV(cv=5, estimator=ExtraTreeClassifier(random_state=42),\n",
       "             param_grid={'criterion': ['gini', 'entropy'],\n",
       "                         'max_depth': [4, 5, 6, 7, 8],\n",
       "                         'min_samples_split': [2, 3, 4, 5],\n",
       "                         'splitter': ['random', 'best']},\n",
       "             scoring='accuracy')"
      ]
     },
     "execution_count": 99,
     "metadata": {},
     "output_type": "execute_result"
    }
   ],
   "source": [
    "# setup gridsearch params Extratrees classifier\n",
    "et_params = {\n",
    "    'splitter': [\"random\", \"best\"],\n",
    "    'criterion': [\"gini\", \"entropy\"],\n",
    "    'min_samples_split': [2,3,4,5],\n",
    "    'max_depth' : [4,5,6,7,8]\n",
    "}\n",
    "\n",
    "\n",
    "#\n",
    "et = ExtraTreeClassifier(random_state=42)\n",
    "gs_et = GridSearchCV(estimator=et, param_grid=et_params, cv=5, scoring = 'accuracy')\n",
    "gs_et.fit(X_train_ss,y_train)"
   ]
  },
  {
   "cell_type": "code",
   "execution_count": 100,
   "metadata": {},
   "outputs": [
    {
     "data": {
      "text/plain": [
       "{'criterion': 'entropy',\n",
       " 'max_depth': 7,\n",
       " 'min_samples_split': 2,\n",
       " 'splitter': 'best'}"
      ]
     },
     "execution_count": 100,
     "metadata": {},
     "output_type": "execute_result"
    }
   ],
   "source": [
    "gs_et.best_params_"
   ]
  },
  {
   "cell_type": "code",
   "execution_count": 101,
   "metadata": {},
   "outputs": [
    {
     "name": "stdout",
     "output_type": "stream",
     "text": [
      "train Acc: 0.5777600142108535\n",
      "test Acc: 0.5736743938182787\n"
     ]
    }
   ],
   "source": [
    "print(f\"train Acc: {gs_et.score(X_train_ss,y_train)}\")\n",
    "print(f\"test Acc: {gs_et.score(X_test_ss,y_test)}\")"
   ]
  },
  {
   "cell_type": "markdown",
   "metadata": {},
   "source": [
    "**Default Settings:**\n",
    " - Train Acc: 1\n",
    " - Test Acc: 0.84\n",
    " \n",
    "**GridSearch Best**\n",
    " - Train Acc: 0.58\n",
    " - Test Acc: 0.58"
   ]
  },
  {
   "cell_type": "code",
   "execution_count": 109,
   "metadata": {},
   "outputs": [
    {
     "name": "stdout",
     "output_type": "stream",
     "text": [
      "train Acc: 1.0\n",
      "test Acc: 0.9565680788702371\n"
     ]
    },
    {
     "data": {
      "image/png": "[encoded data removed]",
      "text/plain": [
       "<Figure size 432x288 with 2 Axes>"
      ]
     },
     "metadata": {
      "needs_background": "light"
     },
     "output_type": "display_data"
    }
   ],
   "source": [
    "# train model\n",
    "dt = DecisionTreeClassifier()\n",
    "dt.fit(X_train_ss,y_train)\n",
    "\n",
    "# score model\n",
    "print(f\"train Acc: {dt.score(X_train_ss,y_train)}\")\n",
    "print(f\"test Acc: {dt.score(X_test_ss,y_test)}\")\n",
    "\n",
    "# Confusion Matrix\n",
    "plot_confusion_matrix(dt, X_test_ss, y_test, display_labels=['noFraud','Fraud'])\n",
    "plt.show()"
   ]
  },
  {
   "cell_type": "code",
   "execution_count": 110,
   "metadata": {},
   "outputs": [
    {
     "data": {
      "text/plain": [
       "GridSearchCV(cv=5, estimator=DecisionTreeClassifier(random_state=42),\n",
       "             param_grid={'criterion': ['gini', 'entropy'],\n",
       "                         'max_depth': [4, 5, 6, 7, 8],\n",
       "                         'min_samples_split': [2, 3, 4, 5],\n",
       "                         'splitter': ['random', 'best']},\n",
       "             scoring='accuracy')"
      ]
     },
     "execution_count": 110,
     "metadata": {},
     "output_type": "execute_result"
    }
   ],
   "source": [
    "# setup gridsearch params Decisiontree classifier\n",
    "dt_params = {\n",
    "    'splitter': [\"random\", \"best\"],\n",
    "    'criterion': [\"gini\", \"entropy\"],\n",
    "    'min_samples_split': [2,3,4,5],\n",
    "    'max_depth' : [4,5,6,7,8]\n",
    "}\n",
    "\n",
    "\n",
    "#\n",
    "dt = DecisionTreeClassifier(random_state=42)\n",
    "gs_dt = GridSearchCV(estimator=dt, param_grid=dt_params, cv=5, scoring = 'accuracy')\n",
    "gs_dt.fit(X_train_ss,y_train)"
   ]
  },
  {
   "cell_type": "code",
   "execution_count": 111,
   "metadata": {},
   "outputs": [
    {
     "data": {
      "text/plain": [
       "{'criterion': 'entropy',\n",
       " 'max_depth': 8,\n",
       " 'min_samples_split': 2,\n",
       " 'splitter': 'best'}"
      ]
     },
     "execution_count": 111,
     "metadata": {},
     "output_type": "execute_result"
    }
   ],
   "source": [
    "gs_dt.best_params_"
   ]
  },
  {
   "cell_type": "code",
   "execution_count": 112,
   "metadata": {},
   "outputs": [
    {
     "name": "stdout",
     "output_type": "stream",
     "text": [
      "train Acc: 0.9745980992983391\n",
      "test Acc: 0.9653610444977352\n"
     ]
    }
   ],
   "source": [
    "print(f\"train Acc: {gs_dt.score(X_train_ss,y_train)}\")\n",
    "print(f\"test Acc: {gs_dt.score(X_test_ss,y_test)}\")"
   ]
  },
  {
   "cell_type": "markdown",
   "metadata": {},
   "source": [
    "**Default Settings:**\n",
    " - Train Acc: 1\n",
    " - Test Acc: 0.96\n",
    " \n",
    "**GridSearch Best**\n",
    " - Train Acc: 0.97\n",
    " - Test Acc: 0.97"
   ]
  },
  {
   "cell_type": "code",
   "execution_count": null,
   "metadata": {},
   "outputs": [],
   "source": [
    "# Confusion Matrix\n",
    "plot_confusion_matrix(rf, X_test_ss, y_test, display_labels=['noFraud','Fraud'])\n",
    "plt.show()"
   ]
  },
  {
   "cell_type": "markdown",
   "metadata": {},
   "source": [
    "## Conclusion\n",
    "---\n",
    "1. After training mutliple models I identified 3 top performing models (DecisionTreeClassifier, ExtraTreeClassifier, RandomForestClassifier). They each showed perfect scores on training set, but after re-running the models and gridsearch hypertunning the best model was a DecisionTree Classifier with default settings.\n",
    "**- Train Acc: 1.0**\n",
    "\n",
    "**- Test Acc: 0.96**\n",
    "\n",
    "**-Test Recall: 0.97**\n",
    "\n",
    "2. The DecisionTree classifier has a recall score of 0.97. We never want to classify a purchase to be noFraud when in reality it was a fraudlant purchase. We would rather misclassify it as fraud and double check with the customer. \n",
    "3. This will be the model used to create the online tool. \n",
    "4. Next step is to train a DecisionTree classifier on the entire dataset with synthetic balanced classes. "
   ]
  }
 ],
 "metadata": {
  "kernelspec": {
   "display_name": "Python 3",
   "language": "python",
   "name": "python3"
  },
  "language_info": {
   "codemirror_mode": {
    "name": "ipython",
    "version": 3
   },
   "file_extension": ".py",
   "mimetype": "text/x-python",
   "name": "python",
   "nbconvert_exporter": "python",
   "pygments_lexer": "ipython3",
   "version": "3.8.5"
  }
 },
 "nbformat": 4,
 "nbformat_minor": 4
}
