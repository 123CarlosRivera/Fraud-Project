{
 "cells": [
  {
   "cell_type": "markdown",
   "metadata": {},
   "source": [
    "## ```Imports```\n",
    "---"
   ]
  },
  {
   "cell_type": "code",
   "execution_count": 1,
   "metadata": {},
   "outputs": [],
   "source": [
    "import pandas as pd\n",
    "import numpy as np\n",
    "import matplotlib.pyplot as plt\n",
    "\n",
    "from imblearn.over_sampling import SMOTE\n",
    "from sklearn.model_selection import train_test_split\n",
    "from sklearn.tree import DecisionTreeClassifier\n",
    "\n",
    "from sklearn.preprocessing import StandardScaler\n",
    "from sklearn.metrics import confusion_matrix, plot_confusion_matrix\n",
    "\n",
    "import pickle"
   ]
  },
  {
   "cell_type": "code",
   "execution_count": 2,
   "metadata": {},
   "outputs": [],
   "source": [
    "fraud = pd.read_csv('/Users/crivera/Desktop/capstone-dsir82/capstone_data/final_model.csv')"
   ]
  },
  {
   "cell_type": "code",
   "execution_count": 3,
   "metadata": {},
   "outputs": [
    {
     "data": {
      "text/plain": [
       "(361064, 18)"
      ]
     },
     "execution_count": 3,
     "metadata": {},
     "output_type": "execute_result"
    }
   ],
   "source": [
    "fraud.shape"
   ]
  },
  {
   "cell_type": "code",
   "execution_count": 4,
   "metadata": {},
   "outputs": [
    {
     "data": {
      "text/plain": [
       "0    0.994076\n",
       "1    0.005924\n",
       "Name: is_fraud, dtype: float64"
      ]
     },
     "execution_count": 4,
     "metadata": {},
     "output_type": "execute_result"
    }
   ],
   "source": [
    "fraud['is_fraud'].value_counts(normalize=True)"
   ]
  },
  {
   "cell_type": "code",
   "execution_count": 5,
   "metadata": {},
   "outputs": [
    {
     "data": {
      "text/html": [
       "<div>\n",
       "<style scoped>\n",
       "    .dataframe tbody tr th:only-of-type {\n",
       "        vertical-align: middle;\n",
       "    }\n",
       "\n",
       "    .dataframe tbody tr th {\n",
       "        vertical-align: top;\n",
       "    }\n",
       "\n",
       "    .dataframe thead th {\n",
       "        text-align: right;\n",
       "    }\n",
       "</style>\n",
       "<table border=\"1\" class=\"dataframe\">\n",
       "  <thead>\n",
       "    <tr style=\"text-align: right;\">\n",
       "      <th></th>\n",
       "      <th>trans_date_trans_time</th>\n",
       "      <th>cc_num</th>\n",
       "      <th>merchant</th>\n",
       "      <th>category</th>\n",
       "      <th>amt</th>\n",
       "      <th>gender</th>\n",
       "      <th>city</th>\n",
       "      <th>state</th>\n",
       "      <th>zip</th>\n",
       "      <th>lat</th>\n",
       "      <th>long</th>\n",
       "      <th>city_pop</th>\n",
       "      <th>job</th>\n",
       "      <th>dob</th>\n",
       "      <th>merch_lat</th>\n",
       "      <th>merch_long</th>\n",
       "      <th>is_fraud</th>\n",
       "      <th>hour</th>\n",
       "    </tr>\n",
       "  </thead>\n",
       "  <tbody>\n",
       "    <tr>\n",
       "      <th>0</th>\n",
       "      <td>2019-01-01 00:26:22</td>\n",
       "      <td>3598215285024754</td>\n",
       "      <td>fraud_Heidenreich PLC</td>\n",
       "      <td>grocery_pos</td>\n",
       "      <td>207.36</td>\n",
       "      <td>F</td>\n",
       "      <td>Bellmore</td>\n",
       "      <td>NY</td>\n",
       "      <td>11710</td>\n",
       "      <td>40.6729</td>\n",
       "      <td>-73.5365</td>\n",
       "      <td>34496</td>\n",
       "      <td>Librarian, public</td>\n",
       "      <td>1970-10-21 00:00:00</td>\n",
       "      <td>40.202538</td>\n",
       "      <td>-73.859212</td>\n",
       "      <td>0</td>\n",
       "      <td>0</td>\n",
       "    </tr>\n",
       "    <tr>\n",
       "      <th>1</th>\n",
       "      <td>2019-01-01 00:29:11</td>\n",
       "      <td>4789911625179723</td>\n",
       "      <td>fraud_Mosciski, Gislason and Mertz</td>\n",
       "      <td>grocery_pos</td>\n",
       "      <td>221.81</td>\n",
       "      <td>F</td>\n",
       "      <td>Moriches</td>\n",
       "      <td>NY</td>\n",
       "      <td>11955</td>\n",
       "      <td>40.8095</td>\n",
       "      <td>-72.8229</td>\n",
       "      <td>3285</td>\n",
       "      <td>Research officer, trade union</td>\n",
       "      <td>1988-04-27 00:00:00</td>\n",
       "      <td>40.011959</td>\n",
       "      <td>-72.594808</td>\n",
       "      <td>0</td>\n",
       "      <td>0</td>\n",
       "    </tr>\n",
       "    <tr>\n",
       "      <th>2</th>\n",
       "      <td>2019-01-01 00:31:01</td>\n",
       "      <td>30011465039817</td>\n",
       "      <td>fraud_Howe Ltd</td>\n",
       "      <td>misc_pos</td>\n",
       "      <td>54.02</td>\n",
       "      <td>F</td>\n",
       "      <td>Chatham</td>\n",
       "      <td>NY</td>\n",
       "      <td>12037</td>\n",
       "      <td>42.3496</td>\n",
       "      <td>-73.5873</td>\n",
       "      <td>4015</td>\n",
       "      <td>Human resources officer</td>\n",
       "      <td>1971-10-14 00:00:00</td>\n",
       "      <td>42.041783</td>\n",
       "      <td>-73.076424</td>\n",
       "      <td>0</td>\n",
       "      <td>0</td>\n",
       "    </tr>\n",
       "  </tbody>\n",
       "</table>\n",
       "</div>"
      ],
      "text/plain": [
       "  trans_date_trans_time            cc_num                            merchant  \\\n",
       "0   2019-01-01 00:26:22  3598215285024754               fraud_Heidenreich PLC   \n",
       "1   2019-01-01 00:29:11  4789911625179723  fraud_Mosciski, Gislason and Mertz   \n",
       "2   2019-01-01 00:31:01    30011465039817                      fraud_Howe Ltd   \n",
       "\n",
       "      category     amt gender      city state    zip      lat     long  \\\n",
       "0  grocery_pos  207.36      F  Bellmore    NY  11710  40.6729 -73.5365   \n",
       "1  grocery_pos  221.81      F  Moriches    NY  11955  40.8095 -72.8229   \n",
       "2     misc_pos   54.02      F   Chatham    NY  12037  42.3496 -73.5873   \n",
       "\n",
       "   city_pop                            job                  dob  merch_lat  \\\n",
       "0     34496              Librarian, public  1970-10-21 00:00:00  40.202538   \n",
       "1      3285  Research officer, trade union  1988-04-27 00:00:00  40.011959   \n",
       "2      4015        Human resources officer  1971-10-14 00:00:00  42.041783   \n",
       "\n",
       "   merch_long  is_fraud  hour  \n",
       "0  -73.859212         0     0  \n",
       "1  -72.594808         0     0  \n",
       "2  -73.076424         0     0  "
      ]
     },
     "execution_count": 5,
     "metadata": {},
     "output_type": "execute_result"
    }
   ],
   "source": [
    "fraud.head(3)"
   ]
  },
  {
   "cell_type": "markdown",
   "metadata": {},
   "source": [
    "## ```Creating Smote Balanced Classes Data Set for final Modeling```\n",
    "---"
   ]
  },
  {
   "cell_type": "code",
   "execution_count": 6,
   "metadata": {},
   "outputs": [
    {
     "name": "stdout",
     "output_type": "stream",
     "text": [
      "<class 'pandas.core.frame.DataFrame'>\n",
      "RangeIndex: 361064 entries, 0 to 361063\n",
      "Data columns (total 18 columns):\n",
      " #   Column                 Non-Null Count   Dtype  \n",
      "---  ------                 --------------   -----  \n",
      " 0   trans_date_trans_time  361064 non-null  object \n",
      " 1   cc_num                 361064 non-null  int64  \n",
      " 2   merchant               361064 non-null  object \n",
      " 3   category               361064 non-null  object \n",
      " 4   amt                    361064 non-null  float64\n",
      " 5   gender                 361064 non-null  object \n",
      " 6   city                   361064 non-null  object \n",
      " 7   state                  361064 non-null  object \n",
      " 8   zip                    361064 non-null  int64  \n",
      " 9   lat                    361064 non-null  float64\n",
      " 10  long                   361064 non-null  float64\n",
      " 11  city_pop               361064 non-null  int64  \n",
      " 12  job                    361064 non-null  object \n",
      " 13  dob                    361064 non-null  object \n",
      " 14  merch_lat              361064 non-null  float64\n",
      " 15  merch_long             361064 non-null  float64\n",
      " 16  is_fraud               361064 non-null  int64  \n",
      " 17  hour                   361064 non-null  int64  \n",
      "dtypes: float64(5), int64(5), object(8)\n",
      "memory usage: 49.6+ MB\n"
     ]
    }
   ],
   "source": [
    "fraud.info()"
   ]
  },
  {
   "cell_type": "code",
   "execution_count": 7,
   "metadata": {},
   "outputs": [
    {
     "data": {
      "text/plain": [
       "(361064, 980)"
      ]
     },
     "execution_count": 7,
     "metadata": {},
     "output_type": "execute_result"
    }
   ],
   "source": [
    "# dummy for object variables\n",
    "df_fraud = fraud.copy()\n",
    "df_fraud = pd.get_dummies(fraud, columns=['gender','city','state','category','merchant'])\n",
    "df_fraud.shape"
   ]
  },
  {
   "cell_type": "code",
   "execution_count": 8,
   "metadata": {},
   "outputs": [
    {
     "data": {
      "text/html": [
       "<div>\n",
       "<style scoped>\n",
       "    .dataframe tbody tr th:only-of-type {\n",
       "        vertical-align: middle;\n",
       "    }\n",
       "\n",
       "    .dataframe tbody tr th {\n",
       "        vertical-align: top;\n",
       "    }\n",
       "\n",
       "    .dataframe thead th {\n",
       "        text-align: right;\n",
       "    }\n",
       "</style>\n",
       "<table border=\"1\" class=\"dataframe\">\n",
       "  <thead>\n",
       "    <tr style=\"text-align: right;\">\n",
       "      <th></th>\n",
       "      <th>trans_date_trans_time</th>\n",
       "      <th>cc_num</th>\n",
       "      <th>amt</th>\n",
       "      <th>zip</th>\n",
       "      <th>lat</th>\n",
       "      <th>long</th>\n",
       "      <th>city_pop</th>\n",
       "      <th>job</th>\n",
       "      <th>dob</th>\n",
       "      <th>merch_lat</th>\n",
       "      <th>...</th>\n",
       "      <th>merchant_fraud_Yost, Schamberger and Windler</th>\n",
       "      <th>merchant_fraud_Yost-Rogahn</th>\n",
       "      <th>merchant_fraud_Zboncak LLC</th>\n",
       "      <th>merchant_fraud_Zboncak Ltd</th>\n",
       "      <th>merchant_fraud_Zboncak, Rowe and Murazik</th>\n",
       "      <th>merchant_fraud_Zemlak Group</th>\n",
       "      <th>merchant_fraud_Zemlak, Tillman and Cremin</th>\n",
       "      <th>merchant_fraud_Ziemann-Waters</th>\n",
       "      <th>merchant_fraud_Zieme, Bode and Dooley</th>\n",
       "      <th>merchant_fraud_Zulauf LLC</th>\n",
       "    </tr>\n",
       "  </thead>\n",
       "  <tbody>\n",
       "    <tr>\n",
       "      <th>0</th>\n",
       "      <td>2019-01-01 00:26:22</td>\n",
       "      <td>3598215285024754</td>\n",
       "      <td>207.36</td>\n",
       "      <td>11710</td>\n",
       "      <td>40.6729</td>\n",
       "      <td>-73.5365</td>\n",
       "      <td>34496</td>\n",
       "      <td>Librarian, public</td>\n",
       "      <td>1970-10-21 00:00:00</td>\n",
       "      <td>40.202538</td>\n",
       "      <td>...</td>\n",
       "      <td>0</td>\n",
       "      <td>0</td>\n",
       "      <td>0</td>\n",
       "      <td>0</td>\n",
       "      <td>0</td>\n",
       "      <td>0</td>\n",
       "      <td>0</td>\n",
       "      <td>0</td>\n",
       "      <td>0</td>\n",
       "      <td>0</td>\n",
       "    </tr>\n",
       "    <tr>\n",
       "      <th>1</th>\n",
       "      <td>2019-01-01 00:29:11</td>\n",
       "      <td>4789911625179723</td>\n",
       "      <td>221.81</td>\n",
       "      <td>11955</td>\n",
       "      <td>40.8095</td>\n",
       "      <td>-72.8229</td>\n",
       "      <td>3285</td>\n",
       "      <td>Research officer, trade union</td>\n",
       "      <td>1988-04-27 00:00:00</td>\n",
       "      <td>40.011959</td>\n",
       "      <td>...</td>\n",
       "      <td>0</td>\n",
       "      <td>0</td>\n",
       "      <td>0</td>\n",
       "      <td>0</td>\n",
       "      <td>0</td>\n",
       "      <td>0</td>\n",
       "      <td>0</td>\n",
       "      <td>0</td>\n",
       "      <td>0</td>\n",
       "      <td>0</td>\n",
       "    </tr>\n",
       "  </tbody>\n",
       "</table>\n",
       "<p>2 rows × 980 columns</p>\n",
       "</div>"
      ],
      "text/plain": [
       "  trans_date_trans_time            cc_num     amt    zip      lat     long  \\\n",
       "0   2019-01-01 00:26:22  3598215285024754  207.36  11710  40.6729 -73.5365   \n",
       "1   2019-01-01 00:29:11  4789911625179723  221.81  11955  40.8095 -72.8229   \n",
       "\n",
       "   city_pop                            job                  dob  merch_lat  \\\n",
       "0     34496              Librarian, public  1970-10-21 00:00:00  40.202538   \n",
       "1      3285  Research officer, trade union  1988-04-27 00:00:00  40.011959   \n",
       "\n",
       "   ...  merchant_fraud_Yost, Schamberger and Windler  \\\n",
       "0  ...                                             0   \n",
       "1  ...                                             0   \n",
       "\n",
       "   merchant_fraud_Yost-Rogahn  merchant_fraud_Zboncak LLC  \\\n",
       "0                           0                           0   \n",
       "1                           0                           0   \n",
       "\n",
       "   merchant_fraud_Zboncak Ltd  merchant_fraud_Zboncak, Rowe and Murazik  \\\n",
       "0                           0                                         0   \n",
       "1                           0                                         0   \n",
       "\n",
       "   merchant_fraud_Zemlak Group  merchant_fraud_Zemlak, Tillman and Cremin  \\\n",
       "0                            0                                          0   \n",
       "1                            0                                          0   \n",
       "\n",
       "   merchant_fraud_Ziemann-Waters  merchant_fraud_Zieme, Bode and Dooley  \\\n",
       "0                              0                                      0   \n",
       "1                              0                                      0   \n",
       "\n",
       "   merchant_fraud_Zulauf LLC  \n",
       "0                          0  \n",
       "1                          0  \n",
       "\n",
       "[2 rows x 980 columns]"
      ]
     },
     "execution_count": 8,
     "metadata": {},
     "output_type": "execute_result"
    }
   ],
   "source": [
    "df_fraud.head(2)"
   ]
  },
  {
   "cell_type": "code",
   "execution_count": 9,
   "metadata": {},
   "outputs": [
    {
     "name": "stdout",
     "output_type": "stream",
     "text": [
      "Target is_fraud value_counts: 0    358925\n",
      "1      2139\n",
      "Name: is_fraud, dtype: int64\n",
      "====\n",
      "Smote Target value_counts: 0    358925\n",
      "1    358925\n",
      "Name: is_fraud, dtype: int64\n"
     ]
    }
   ],
   "source": [
    "#set up X/y\n",
    "X = df_fraud.drop(columns=['trans_date_trans_time','lat','long','job','merch_lat','merch_long','dob','is_fraud'])\n",
    "y = df_fraud['is_fraud']\n",
    "print(f\"Target is_fraud value_counts: {y.value_counts()}\")\n",
    "\n",
    "# Instantiate Smote Class\n",
    "smo = SMOTE(random_state=42)\n",
    "\n",
    "print('====')\n",
    "# Synthetically enhance minority class\n",
    "X_smo, y_smo = smo.fit_resample(X,y)\n",
    "print(f\"Smote Target value_counts: {y_smo.value_counts()}\")"
   ]
  },
  {
   "cell_type": "code",
   "execution_count": 10,
   "metadata": {},
   "outputs": [
    {
     "name": "stderr",
     "output_type": "stream",
     "text": [
      "/Users/crivera/opt/anaconda3/lib/python3.8/site-packages/sklearn/linear_model/_logistic.py:763: ConvergenceWarning: lbfgs failed to converge (status=1):\n",
      "STOP: TOTAL NO. of ITERATIONS REACHED LIMIT.\n",
      "\n",
      "Increase the number of iterations (max_iter) or scale the data as shown in:\n",
      "    https://scikit-learn.org/stable/modules/preprocessing.html\n",
      "Please also refer to the documentation for alternative solver options:\n",
      "    https://scikit-learn.org/stable/modules/linear_model.html#logistic-regression\n",
      "  n_iter_i = _check_optimize_result(\n"
     ]
    },
    {
     "data": {
      "text/plain": [
       "0.9947812806634381"
      ]
     },
     "execution_count": 10,
     "metadata": {},
     "output_type": "execute_result"
    }
   ],
   "source": [
    "from sklearn.linear_model import LogisticRegression\n",
    "\n",
    "X = df_fraud.drop(columns=['trans_date_trans_time','lat','long','job','merch_lat','merch_long','dob','is_fraud'])\n",
    "y = df_fraud['is_fraud']\n",
    "\n",
    "# train/test split\n",
    "X_train, X_test, y_train, y_test = train_test_split(X,y,stratify=y,train_size=0.7)\n",
    "\n",
    "# standard scale\n",
    "ss = StandardScaler()\n",
    "X_train_ss = ss.fit_transform(X_train)\n",
    "X_test_ss = ss.transform(X_test)\n",
    "\n",
    "# train model\n",
    "logreg = LogisticRegression(random_state=42)\n",
    "logreg.fit(X_train_ss,y_train)\n",
    "\n",
    "# score model\n",
    "logreg.score(X_train_ss,y_train)"
   ]
  },
  {
   "cell_type": "code",
   "execution_count": 11,
   "metadata": {},
   "outputs": [
    {
     "data": {
      "image/png": "[encoded data removed]",
      "text/plain": [
       "<Figure size 432x288 with 2 Axes>"
      ]
     },
     "metadata": {
      "needs_background": "light"
     },
     "output_type": "display_data"
    }
   ],
   "source": [
    "plot_confusion_matrix(logreg, X_test_ss, y_test, display_labels=['noFraud','Fraud'], cmap='Blues')\n",
    "plt.show()"
   ]
  },
  {
   "cell_type": "code",
   "execution_count": 20,
   "metadata": {},
   "outputs": [
    {
     "data": {
      "text/plain": [
       "0    358925\n",
       "1      2139\n",
       "Name: is_fraud, dtype: int64"
      ]
     },
     "execution_count": 20,
     "metadata": {},
     "output_type": "execute_result"
    }
   ],
   "source": [
    "y.value_counts()"
   ]
  },
  {
   "cell_type": "code",
   "execution_count": 12,
   "metadata": {},
   "outputs": [
    {
     "name": "stdout",
     "output_type": "stream",
     "text": [
      "Target is_fraud value_counts: 0    358925\n",
      "1      2139\n",
      "Name: is_fraud, dtype: int64\n",
      "====\n",
      "Smote Target value_counts: 0    358925\n",
      "1    358925\n",
      "Name: is_fraud, dtype: int64\n"
     ]
    }
   ],
   "source": [
    "#set up X/y\n",
    "X = df_fraud.drop(columns=['trans_date_trans_time','lat','long','job','merch_lat','merch_long','dob','is_fraud'])\n",
    "y = df_fraud['is_fraud']\n",
    "print(f\"Target is_fraud value_counts: {y.value_counts()}\")\n",
    "\n",
    "# Instantiate Smote Class\n",
    "smo = SMOTE(random_state=42)\n",
    "\n",
    "print('====')\n",
    "# Synthetically enhance minority class\n",
    "X_smo, y_smo = smo.fit_resample(X,y)\n",
    "print(f\"Smote Target value_counts: {y_smo.value_counts()}\")\n",
    "\n",
    "# train/test\n",
    "X_train, X_test, y_train, y_test = train_test_split(X_smo,y_smo,stratify=y_smo,train_size=0.7)"
   ]
  },
  {
   "cell_type": "code",
   "execution_count": 13,
   "metadata": {},
   "outputs": [],
   "source": [
    "# instantiate class object\n",
    "ss = StandardScaler()\n",
    "\n",
    "# Scale Data \n",
    "X_train_ss = ss.fit_transform(X_train)\n",
    "X_test_ss = ss.transform(X_test)"
   ]
  },
  {
   "cell_type": "code",
   "execution_count": 14,
   "metadata": {},
   "outputs": [
    {
     "name": "stdout",
     "output_type": "stream",
     "text": [
      "train Acc: 1.0\n",
      "test Acc: 0.9977432716060848\n"
     ]
    },
    {
     "data": {
      "image/png": "[encoded data removed]",
      "text/plain": [
       "<Figure size 432x288 with 2 Axes>"
      ]
     },
     "metadata": {
      "needs_background": "light"
     },
     "output_type": "display_data"
    }
   ],
   "source": [
    "# train model\n",
    "dt = DecisionTreeClassifier(random_state=42)\n",
    "dt.fit(X_train_ss,y_train)\n",
    "\n",
    "# score model\n",
    "print(f\"train Acc: {dt.score(X_train_ss,y_train)}\")\n",
    "print(f\"test Acc: {dt.score(X_test_ss,y_test)}\")\n",
    "\n",
    "# Confusion Matrix\n",
    "plot_confusion_matrix(dt, X_test_ss, y_test, display_labels=['noFraud','Fraud'], cmap='Blues')\n",
    "plt.show()"
   ]
  },
  {
   "cell_type": "code",
   "execution_count": 12,
   "metadata": {},
   "outputs": [],
   "source": [
    "with open('../app_model/dt.pkl', mode = 'wb') as pickle_out:\n",
    "    pickle_out = pickle.dump(dt, pickle_out)"
   ]
  },
  {
   "cell_type": "code",
   "execution_count": 74,
   "metadata": {},
   "outputs": [],
   "source": [
    "with open('../app_model/dt.pkl', 'rb') as pickle_in:\n",
    "    dt = pickle.load(pickle_in)"
   ]
  },
  {
   "cell_type": "code",
   "execution_count": 75,
   "metadata": {},
   "outputs": [
    {
     "data": {
      "text/plain": [
       "array([1, 1, 0, ..., 0, 1, 0])"
      ]
     },
     "execution_count": 75,
     "metadata": {},
     "output_type": "execute_result"
    }
   ],
   "source": [
    "dt.predict(X_test_ss)"
   ]
  },
  {
   "cell_type": "code",
   "execution_count": 146,
   "metadata": {},
   "outputs": [
    {
     "data": {
      "text/plain": [
       "array([1])"
      ]
     },
     "execution_count": 146,
     "metadata": {},
     "output_type": "execute_result"
    }
   ],
   "source": [
    "dt.predict([X_test_ss[0]])"
   ]
  }
 ],
 "metadata": {
  "kernelspec": {
   "display_name": "Python 3",
   "language": "python",
   "name": "python3"
  },
  "language_info": {
   "codemirror_mode": {
    "name": "ipython",
    "version": 3
   },
   "file_extension": ".py",
   "mimetype": "text/x-python",
   "name": "python",
   "nbconvert_exporter": "python",
   "pygments_lexer": "ipython3",
   "version": "3.8.5"
  }
 },
 "nbformat": 4,
 "nbformat_minor": 4
}
