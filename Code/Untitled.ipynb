{
 "cells": [
  {
   "cell_type": "markdown",
   "metadata": {},
   "source": [
    "## ```Imports```\n",
    "---"
   ]
  },
  {
   "cell_type": "code",
   "execution_count": 1,
   "metadata": {},
   "outputs": [],
   "source": [
    "import pandas as pd\n",
    "import numpy as np\n",
    "import matplotlib.pyplot as plt\n",
    "\n",
    "from imblearn.over_sampling import SMOTE\n",
    "from sklearn.model_selection import train_test_split\n",
    "from sklearn.tree import DecisionTreeClassifier"
   ]
  },
  {
   "cell_type": "code",
   "execution_count": 2,
   "metadata": {},
   "outputs": [],
   "source": [
    "fraud_train = pd.read_csv('/Users/crivera/Desktop/capstone-dsir82/capstone_data/fraudTrain.csv')\n",
    "fraud_test = pd.read_csv('/Users/crivera/Desktop/capstone-dsir82/capstone_data/fraudTest.csv')"
   ]
  },
  {
   "cell_type": "code",
   "execution_count": 3,
   "metadata": {},
   "outputs": [
    {
     "name": "stdout",
     "output_type": "stream",
     "text": [
      "(1296675, 23)\n",
      "(555719, 23)\n"
     ]
    }
   ],
   "source": [
    "print(fraud_train.shape)\n",
    "print(fraud_test.shape)"
   ]
  },
  {
   "cell_type": "code",
   "execution_count": 4,
   "metadata": {},
   "outputs": [
    {
     "data": {
      "text/plain": [
       "0    0.994211\n",
       "1    0.005789\n",
       "Name: is_fraud, dtype: float64"
      ]
     },
     "execution_count": 4,
     "metadata": {},
     "output_type": "execute_result"
    }
   ],
   "source": [
    "fraud_train['is_fraud'].value_counts(normalize=True)"
   ]
  },
  {
   "cell_type": "code",
   "execution_count": 5,
   "metadata": {},
   "outputs": [
    {
     "data": {
      "text/plain": [
       "0    0.99614\n",
       "1    0.00386\n",
       "Name: is_fraud, dtype: float64"
      ]
     },
     "execution_count": 5,
     "metadata": {},
     "output_type": "execute_result"
    }
   ],
   "source": [
    "fraud_test['is_fraud'].value_counts(normalize=True)"
   ]
  },
  {
   "cell_type": "markdown",
   "metadata": {},
   "source": [
    "## ```Creating Smote Balanced Classes Data Set for final Modeling```\n",
    "---"
   ]
  },
  {
   "cell_type": "code",
   "execution_count": 6,
   "metadata": {},
   "outputs": [
    {
     "data": {
      "text/plain": [
       "(1852394, 18)"
      ]
     },
     "execution_count": 6,
     "metadata": {},
     "output_type": "execute_result"
    }
   ],
   "source": [
    "# concat both datasets\n",
    "fraud = pd.concat([fraud_train,fraud_test])\n",
    "\n",
    "# drop uneccesary columns\n",
    "fraud.drop(columns=['Unnamed: 0','first','last','street','unix_time','trans_num'], inplace=True)\n",
    "\n",
    "# change trans_data_trans_time and dob to datetime \n",
    "fraud['trans_date_trans_time'] = pd.to_datetime(fraud['trans_date_trans_time'])\n",
    "fraud['dob'] = pd.to_datetime(fraud['dob'])\n",
    "\n",
    "# creating hour column to for eda\n",
    "fraud['hour'] = fraud['trans_date_trans_time'].dt.hour\n",
    "fraud.shape"
   ]
  },
  {
   "cell_type": "code",
   "execution_count": 7,
   "metadata": {},
   "outputs": [
    {
     "name": "stdout",
     "output_type": "stream",
     "text": [
      "<class 'pandas.core.frame.DataFrame'>\n",
      "Int64Index: 1852394 entries, 0 to 555718\n",
      "Data columns (total 18 columns):\n",
      " #   Column                 Dtype         \n",
      "---  ------                 -----         \n",
      " 0   trans_date_trans_time  datetime64[ns]\n",
      " 1   cc_num                 int64         \n",
      " 2   merchant               object        \n",
      " 3   category               object        \n",
      " 4   amt                    float64       \n",
      " 5   gender                 object        \n",
      " 6   city                   object        \n",
      " 7   state                  object        \n",
      " 8   zip                    int64         \n",
      " 9   lat                    float64       \n",
      " 10  long                   float64       \n",
      " 11  city_pop               int64         \n",
      " 12  job                    object        \n",
      " 13  dob                    datetime64[ns]\n",
      " 14  merch_lat              float64       \n",
      " 15  merch_long             float64       \n",
      " 16  is_fraud               int64         \n",
      " 17  hour                   int64         \n",
      "dtypes: datetime64[ns](2), float64(5), int64(5), object(6)\n",
      "memory usage: 268.5+ MB\n"
     ]
    }
   ],
   "source": [
    "fraud.info()"
   ]
  },
  {
   "cell_type": "code",
   "execution_count": 8,
   "metadata": {},
   "outputs": [
    {
     "data": {
      "text/plain": [
       "(1852394, 1679)"
      ]
     },
     "execution_count": 8,
     "metadata": {},
     "output_type": "execute_result"
    }
   ],
   "source": [
    "# dummy for object variables\n",
    "df_fraud = fraud.copy()\n",
    "df_fraud = pd.get_dummies(fraud, columns=['gender','city','state','category','merchant'])\n",
    "df_fraud.shape"
   ]
  },
  {
   "cell_type": "code",
   "execution_count": 9,
   "metadata": {},
   "outputs": [
    {
     "data": {
      "text/html": [
       "<div>\n",
       "<style scoped>\n",
       "    .dataframe tbody tr th:only-of-type {\n",
       "        vertical-align: middle;\n",
       "    }\n",
       "\n",
       "    .dataframe tbody tr th {\n",
       "        vertical-align: top;\n",
       "    }\n",
       "\n",
       "    .dataframe thead th {\n",
       "        text-align: right;\n",
       "    }\n",
       "</style>\n",
       "<table border=\"1\" class=\"dataframe\">\n",
       "  <thead>\n",
       "    <tr style=\"text-align: right;\">\n",
       "      <th></th>\n",
       "      <th>trans_date_trans_time</th>\n",
       "      <th>cc_num</th>\n",
       "      <th>amt</th>\n",
       "      <th>zip</th>\n",
       "      <th>lat</th>\n",
       "      <th>long</th>\n",
       "      <th>city_pop</th>\n",
       "      <th>job</th>\n",
       "      <th>dob</th>\n",
       "      <th>merch_lat</th>\n",
       "      <th>...</th>\n",
       "      <th>merchant_fraud_Yost, Schamberger and Windler</th>\n",
       "      <th>merchant_fraud_Yost-Rogahn</th>\n",
       "      <th>merchant_fraud_Zboncak LLC</th>\n",
       "      <th>merchant_fraud_Zboncak Ltd</th>\n",
       "      <th>merchant_fraud_Zboncak, Rowe and Murazik</th>\n",
       "      <th>merchant_fraud_Zemlak Group</th>\n",
       "      <th>merchant_fraud_Zemlak, Tillman and Cremin</th>\n",
       "      <th>merchant_fraud_Ziemann-Waters</th>\n",
       "      <th>merchant_fraud_Zieme, Bode and Dooley</th>\n",
       "      <th>merchant_fraud_Zulauf LLC</th>\n",
       "    </tr>\n",
       "  </thead>\n",
       "  <tbody>\n",
       "    <tr>\n",
       "      <th>0</th>\n",
       "      <td>2019-01-01 00:00:18</td>\n",
       "      <td>2703186189652095</td>\n",
       "      <td>4.97</td>\n",
       "      <td>28654</td>\n",
       "      <td>36.0788</td>\n",
       "      <td>-81.1781</td>\n",
       "      <td>3495</td>\n",
       "      <td>Psychologist, counselling</td>\n",
       "      <td>1988-03-09</td>\n",
       "      <td>36.011293</td>\n",
       "      <td>...</td>\n",
       "      <td>0</td>\n",
       "      <td>0</td>\n",
       "      <td>0</td>\n",
       "      <td>0</td>\n",
       "      <td>0</td>\n",
       "      <td>0</td>\n",
       "      <td>0</td>\n",
       "      <td>0</td>\n",
       "      <td>0</td>\n",
       "      <td>0</td>\n",
       "    </tr>\n",
       "    <tr>\n",
       "      <th>1</th>\n",
       "      <td>2019-01-01 00:00:44</td>\n",
       "      <td>630423337322</td>\n",
       "      <td>107.23</td>\n",
       "      <td>99160</td>\n",
       "      <td>48.8878</td>\n",
       "      <td>-118.2105</td>\n",
       "      <td>149</td>\n",
       "      <td>Special educational needs teacher</td>\n",
       "      <td>1978-06-21</td>\n",
       "      <td>49.159047</td>\n",
       "      <td>...</td>\n",
       "      <td>0</td>\n",
       "      <td>0</td>\n",
       "      <td>0</td>\n",
       "      <td>0</td>\n",
       "      <td>0</td>\n",
       "      <td>0</td>\n",
       "      <td>0</td>\n",
       "      <td>0</td>\n",
       "      <td>0</td>\n",
       "      <td>0</td>\n",
       "    </tr>\n",
       "    <tr>\n",
       "      <th>2</th>\n",
       "      <td>2019-01-01 00:00:51</td>\n",
       "      <td>38859492057661</td>\n",
       "      <td>220.11</td>\n",
       "      <td>83252</td>\n",
       "      <td>42.1808</td>\n",
       "      <td>-112.2620</td>\n",
       "      <td>4154</td>\n",
       "      <td>Nature conservation officer</td>\n",
       "      <td>1962-01-19</td>\n",
       "      <td>43.150704</td>\n",
       "      <td>...</td>\n",
       "      <td>0</td>\n",
       "      <td>0</td>\n",
       "      <td>0</td>\n",
       "      <td>0</td>\n",
       "      <td>0</td>\n",
       "      <td>0</td>\n",
       "      <td>0</td>\n",
       "      <td>0</td>\n",
       "      <td>0</td>\n",
       "      <td>0</td>\n",
       "    </tr>\n",
       "    <tr>\n",
       "      <th>3</th>\n",
       "      <td>2019-01-01 00:01:16</td>\n",
       "      <td>3534093764340240</td>\n",
       "      <td>45.00</td>\n",
       "      <td>59632</td>\n",
       "      <td>46.2306</td>\n",
       "      <td>-112.1138</td>\n",
       "      <td>1939</td>\n",
       "      <td>Patent attorney</td>\n",
       "      <td>1967-01-12</td>\n",
       "      <td>47.034331</td>\n",
       "      <td>...</td>\n",
       "      <td>0</td>\n",
       "      <td>0</td>\n",
       "      <td>0</td>\n",
       "      <td>0</td>\n",
       "      <td>0</td>\n",
       "      <td>0</td>\n",
       "      <td>0</td>\n",
       "      <td>0</td>\n",
       "      <td>0</td>\n",
       "      <td>0</td>\n",
       "    </tr>\n",
       "    <tr>\n",
       "      <th>4</th>\n",
       "      <td>2019-01-01 00:03:06</td>\n",
       "      <td>375534208663984</td>\n",
       "      <td>41.96</td>\n",
       "      <td>24433</td>\n",
       "      <td>38.4207</td>\n",
       "      <td>-79.4629</td>\n",
       "      <td>99</td>\n",
       "      <td>Dance movement psychotherapist</td>\n",
       "      <td>1986-03-28</td>\n",
       "      <td>38.674999</td>\n",
       "      <td>...</td>\n",
       "      <td>0</td>\n",
       "      <td>0</td>\n",
       "      <td>0</td>\n",
       "      <td>0</td>\n",
       "      <td>0</td>\n",
       "      <td>0</td>\n",
       "      <td>0</td>\n",
       "      <td>0</td>\n",
       "      <td>0</td>\n",
       "      <td>0</td>\n",
       "    </tr>\n",
       "  </tbody>\n",
       "</table>\n",
       "<p>5 rows × 1679 columns</p>\n",
       "</div>"
      ],
      "text/plain": [
       "  trans_date_trans_time            cc_num     amt    zip      lat      long  \\\n",
       "0   2019-01-01 00:00:18  2703186189652095    4.97  28654  36.0788  -81.1781   \n",
       "1   2019-01-01 00:00:44      630423337322  107.23  99160  48.8878 -118.2105   \n",
       "2   2019-01-01 00:00:51    38859492057661  220.11  83252  42.1808 -112.2620   \n",
       "3   2019-01-01 00:01:16  3534093764340240   45.00  59632  46.2306 -112.1138   \n",
       "4   2019-01-01 00:03:06   375534208663984   41.96  24433  38.4207  -79.4629   \n",
       "\n",
       "   city_pop                                job        dob  merch_lat  ...  \\\n",
       "0      3495          Psychologist, counselling 1988-03-09  36.011293  ...   \n",
       "1       149  Special educational needs teacher 1978-06-21  49.159047  ...   \n",
       "2      4154        Nature conservation officer 1962-01-19  43.150704  ...   \n",
       "3      1939                    Patent attorney 1967-01-12  47.034331  ...   \n",
       "4        99     Dance movement psychotherapist 1986-03-28  38.674999  ...   \n",
       "\n",
       "   merchant_fraud_Yost, Schamberger and Windler  merchant_fraud_Yost-Rogahn  \\\n",
       "0                                             0                           0   \n",
       "1                                             0                           0   \n",
       "2                                             0                           0   \n",
       "3                                             0                           0   \n",
       "4                                             0                           0   \n",
       "\n",
       "   merchant_fraud_Zboncak LLC  merchant_fraud_Zboncak Ltd  \\\n",
       "0                           0                           0   \n",
       "1                           0                           0   \n",
       "2                           0                           0   \n",
       "3                           0                           0   \n",
       "4                           0                           0   \n",
       "\n",
       "   merchant_fraud_Zboncak, Rowe and Murazik  merchant_fraud_Zemlak Group  \\\n",
       "0                                         0                            0   \n",
       "1                                         0                            0   \n",
       "2                                         0                            0   \n",
       "3                                         0                            0   \n",
       "4                                         0                            0   \n",
       "\n",
       "   merchant_fraud_Zemlak, Tillman and Cremin  merchant_fraud_Ziemann-Waters  \\\n",
       "0                                          0                              0   \n",
       "1                                          0                              0   \n",
       "2                                          0                              0   \n",
       "3                                          0                              0   \n",
       "4                                          0                              0   \n",
       "\n",
       "   merchant_fraud_Zieme, Bode and Dooley  merchant_fraud_Zulauf LLC  \n",
       "0                                      0                          0  \n",
       "1                                      0                          0  \n",
       "2                                      0                          0  \n",
       "3                                      0                          0  \n",
       "4                                      0                          0  \n",
       "\n",
       "[5 rows x 1679 columns]"
      ]
     },
     "execution_count": 9,
     "metadata": {},
     "output_type": "execute_result"
    }
   ],
   "source": [
    "df_fraud.head()"
   ]
  },
  {
   "cell_type": "code",
   "execution_count": null,
   "metadata": {},
   "outputs": [
    {
     "name": "stdout",
     "output_type": "stream",
     "text": [
      "Target is_fraud value_counts: 0    1842743\n",
      "1       9651\n",
      "Name: is_fraud, dtype: int64\n",
      "====\n"
     ]
    }
   ],
   "source": [
    "#set up X/y\n",
    "X = df_fraud.drop(columns=['trans_date_trans_time','lat','long','job','merch_lat','merch_long','dob','is_fraud'])\n",
    "y = df_fraud['is_fraud']\n",
    "print(f\"Target is_fraud value_counts: {y.value_counts()}\")\n",
    "\n",
    "# Instantiate Smote Class\n",
    "smo = SMOTE(random_state=42)\n",
    "\n",
    "print('====')\n",
    "# Synthetically enhance minority class\n",
    "X_smo, y_smo = smo.fit_resample(X,y)\n",
    "print(f\"Smote Target value_counts: {y_smo.value_counts()}\")"
   ]
  },
  {
   "cell_type": "code",
   "execution_count": null,
   "metadata": {},
   "outputs": [],
   "source": [
    "X_train, X_test, y_train, y_test = train_test_split(X_smo,y_smo)"
   ]
  },
  {
   "cell_type": "code",
   "execution_count": null,
   "metadata": {},
   "outputs": [],
   "source": []
  },
  {
   "cell_type": "code",
   "execution_count": null,
   "metadata": {},
   "outputs": [],
   "source": [
    "# train model\n",
    "dt = DecisionTreeClassifier()\n",
    "dt.fit(X_train_ss,y_train)\n",
    "\n",
    "# score model\n",
    "print(f\"train Acc: {dt.score(X_train_ss,y_train)}\")\n",
    "print(f\"test Acc: {dt.score(X_test_ss,y_test)}\")\n",
    "\n",
    "# Confusion Matrix\n",
    "plot_confusion_matrix(dt, X_test_ss, y_test, display_labels=['noFraud','Fraud'])\n",
    "plt.show()"
   ]
  },
  {
   "cell_type": "code",
   "execution_count": null,
   "metadata": {},
   "outputs": [],
   "source": []
  }
 ],
 "metadata": {
  "kernelspec": {
   "display_name": "Python 3",
   "language": "python",
   "name": "python3"
  },
  "language_info": {
   "codemirror_mode": {
    "name": "ipython",
    "version": 3
   },
   "file_extension": ".py",
   "mimetype": "text/x-python",
   "name": "python",
   "nbconvert_exporter": "python",
   "pygments_lexer": "ipython3",
   "version": "3.8.5"
  }
 },
 "nbformat": 4,
 "nbformat_minor": 4
}
