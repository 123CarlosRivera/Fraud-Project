{
 "cells": [
  {
   "cell_type": "markdown",
   "metadata": {},
   "source": [
    "## ```Imports```\n",
    "---"
   ]
  },
  {
   "cell_type": "code",
   "execution_count": 34,
   "metadata": {},
   "outputs": [],
   "source": [
    "import pandas as pd\n",
    "import numpy as np\n",
    "import matplotlib.pyplot as plt\n",
    "\n",
    "from imblearn.over_sampling import SMOTE\n",
    "from sklearn.model_selection import train_test_split\n",
    "from sklearn.tree import DecisionTreeClassifier\n",
    "\n",
    "from sklearn.preprocessing import StandardScaler\n",
    "from sklearn.metrics import confusion_matrix, plot_confusion_matrix\n",
    "\n",
    "import pickle"
   ]
  },
  {
   "cell_type": "code",
   "execution_count": 17,
   "metadata": {},
   "outputs": [],
   "source": [
    "fraud = pd.read_csv('/Users/crivera/Desktop/capstone-dsir82/capstone_data/final_model.csv')"
   ]
  },
  {
   "cell_type": "code",
   "execution_count": 18,
   "metadata": {},
   "outputs": [
    {
     "data": {
      "text/plain": [
       "(361064, 18)"
      ]
     },
     "execution_count": 18,
     "metadata": {},
     "output_type": "execute_result"
    }
   ],
   "source": [
    "fraud.shape"
   ]
  },
  {
   "cell_type": "code",
   "execution_count": 19,
   "metadata": {},
   "outputs": [
    {
     "data": {
      "text/plain": [
       "0    0.994076\n",
       "1    0.005924\n",
       "Name: is_fraud, dtype: float64"
      ]
     },
     "execution_count": 19,
     "metadata": {},
     "output_type": "execute_result"
    }
   ],
   "source": [
    "fraud['is_fraud'].value_counts(normalize=True)"
   ]
  },
  {
   "cell_type": "code",
   "execution_count": 20,
   "metadata": {},
   "outputs": [
    {
     "data": {
      "text/html": [
       "<div>\n",
       "<style scoped>\n",
       "    .dataframe tbody tr th:only-of-type {\n",
       "        vertical-align: middle;\n",
       "    }\n",
       "\n",
       "    .dataframe tbody tr th {\n",
       "        vertical-align: top;\n",
       "    }\n",
       "\n",
       "    .dataframe thead th {\n",
       "        text-align: right;\n",
       "    }\n",
       "</style>\n",
       "<table border=\"1\" class=\"dataframe\">\n",
       "  <thead>\n",
       "    <tr style=\"text-align: right;\">\n",
       "      <th></th>\n",
       "      <th>trans_date_trans_time</th>\n",
       "      <th>cc_num</th>\n",
       "      <th>merchant</th>\n",
       "      <th>category</th>\n",
       "      <th>amt</th>\n",
       "      <th>gender</th>\n",
       "      <th>city</th>\n",
       "      <th>state</th>\n",
       "      <th>zip</th>\n",
       "      <th>lat</th>\n",
       "      <th>long</th>\n",
       "      <th>city_pop</th>\n",
       "      <th>job</th>\n",
       "      <th>dob</th>\n",
       "      <th>merch_lat</th>\n",
       "      <th>merch_long</th>\n",
       "      <th>is_fraud</th>\n",
       "      <th>hour</th>\n",
       "    </tr>\n",
       "  </thead>\n",
       "  <tbody>\n",
       "    <tr>\n",
       "      <th>0</th>\n",
       "      <td>2019-01-01 00:26:22</td>\n",
       "      <td>3598215285024754</td>\n",
       "      <td>fraud_Heidenreich PLC</td>\n",
       "      <td>grocery_pos</td>\n",
       "      <td>207.36</td>\n",
       "      <td>F</td>\n",
       "      <td>Bellmore</td>\n",
       "      <td>NY</td>\n",
       "      <td>11710</td>\n",
       "      <td>40.6729</td>\n",
       "      <td>-73.5365</td>\n",
       "      <td>34496</td>\n",
       "      <td>Librarian, public</td>\n",
       "      <td>1970-10-21 00:00:00</td>\n",
       "      <td>40.202538</td>\n",
       "      <td>-73.859212</td>\n",
       "      <td>0</td>\n",
       "      <td>0</td>\n",
       "    </tr>\n",
       "    <tr>\n",
       "      <th>1</th>\n",
       "      <td>2019-01-01 00:29:11</td>\n",
       "      <td>4789911625179723</td>\n",
       "      <td>fraud_Mosciski, Gislason and Mertz</td>\n",
       "      <td>grocery_pos</td>\n",
       "      <td>221.81</td>\n",
       "      <td>F</td>\n",
       "      <td>Moriches</td>\n",
       "      <td>NY</td>\n",
       "      <td>11955</td>\n",
       "      <td>40.8095</td>\n",
       "      <td>-72.8229</td>\n",
       "      <td>3285</td>\n",
       "      <td>Research officer, trade union</td>\n",
       "      <td>1988-04-27 00:00:00</td>\n",
       "      <td>40.011959</td>\n",
       "      <td>-72.594808</td>\n",
       "      <td>0</td>\n",
       "      <td>0</td>\n",
       "    </tr>\n",
       "    <tr>\n",
       "      <th>2</th>\n",
       "      <td>2019-01-01 00:31:01</td>\n",
       "      <td>30011465039817</td>\n",
       "      <td>fraud_Howe Ltd</td>\n",
       "      <td>misc_pos</td>\n",
       "      <td>54.02</td>\n",
       "      <td>F</td>\n",
       "      <td>Chatham</td>\n",
       "      <td>NY</td>\n",
       "      <td>12037</td>\n",
       "      <td>42.3496</td>\n",
       "      <td>-73.5873</td>\n",
       "      <td>4015</td>\n",
       "      <td>Human resources officer</td>\n",
       "      <td>1971-10-14 00:00:00</td>\n",
       "      <td>42.041783</td>\n",
       "      <td>-73.076424</td>\n",
       "      <td>0</td>\n",
       "      <td>0</td>\n",
       "    </tr>\n",
       "  </tbody>\n",
       "</table>\n",
       "</div>"
      ],
      "text/plain": [
       "  trans_date_trans_time            cc_num                            merchant  \\\n",
       "0   2019-01-01 00:26:22  3598215285024754               fraud_Heidenreich PLC   \n",
       "1   2019-01-01 00:29:11  4789911625179723  fraud_Mosciski, Gislason and Mertz   \n",
       "2   2019-01-01 00:31:01    30011465039817                      fraud_Howe Ltd   \n",
       "\n",
       "      category     amt gender      city state    zip      lat     long  \\\n",
       "0  grocery_pos  207.36      F  Bellmore    NY  11710  40.6729 -73.5365   \n",
       "1  grocery_pos  221.81      F  Moriches    NY  11955  40.8095 -72.8229   \n",
       "2     misc_pos   54.02      F   Chatham    NY  12037  42.3496 -73.5873   \n",
       "\n",
       "   city_pop                            job                  dob  merch_lat  \\\n",
       "0     34496              Librarian, public  1970-10-21 00:00:00  40.202538   \n",
       "1      3285  Research officer, trade union  1988-04-27 00:00:00  40.011959   \n",
       "2      4015        Human resources officer  1971-10-14 00:00:00  42.041783   \n",
       "\n",
       "   merch_long  is_fraud  hour  \n",
       "0  -73.859212         0     0  \n",
       "1  -72.594808         0     0  \n",
       "2  -73.076424         0     0  "
      ]
     },
     "execution_count": 20,
     "metadata": {},
     "output_type": "execute_result"
    }
   ],
   "source": [
    "fraud.head(3)"
   ]
  },
  {
   "cell_type": "markdown",
   "metadata": {},
   "source": [
    "## ```Creating Smote Balanced Classes Data Set for final Modeling```\n",
    "---"
   ]
  },
  {
   "cell_type": "code",
   "execution_count": 21,
   "metadata": {},
   "outputs": [
    {
     "name": "stdout",
     "output_type": "stream",
     "text": [
      "<class 'pandas.core.frame.DataFrame'>\n",
      "RangeIndex: 361064 entries, 0 to 361063\n",
      "Data columns (total 18 columns):\n",
      " #   Column                 Non-Null Count   Dtype  \n",
      "---  ------                 --------------   -----  \n",
      " 0   trans_date_trans_time  361064 non-null  object \n",
      " 1   cc_num                 361064 non-null  int64  \n",
      " 2   merchant               361064 non-null  object \n",
      " 3   category               361064 non-null  object \n",
      " 4   amt                    361064 non-null  float64\n",
      " 5   gender                 361064 non-null  object \n",
      " 6   city                   361064 non-null  object \n",
      " 7   state                  361064 non-null  object \n",
      " 8   zip                    361064 non-null  int64  \n",
      " 9   lat                    361064 non-null  float64\n",
      " 10  long                   361064 non-null  float64\n",
      " 11  city_pop               361064 non-null  int64  \n",
      " 12  job                    361064 non-null  object \n",
      " 13  dob                    361064 non-null  object \n",
      " 14  merch_lat              361064 non-null  float64\n",
      " 15  merch_long             361064 non-null  float64\n",
      " 16  is_fraud               361064 non-null  int64  \n",
      " 17  hour                   361064 non-null  int64  \n",
      "dtypes: float64(5), int64(5), object(8)\n",
      "memory usage: 49.6+ MB\n"
     ]
    }
   ],
   "source": [
    "fraud.info()"
   ]
  },
  {
   "cell_type": "code",
   "execution_count": 22,
   "metadata": {},
   "outputs": [
    {
     "data": {
      "text/plain": [
       "(361064, 980)"
      ]
     },
     "execution_count": 22,
     "metadata": {},
     "output_type": "execute_result"
    }
   ],
   "source": [
    "# dummy for object variables\n",
    "df_fraud = fraud.copy()\n",
    "df_fraud = pd.get_dummies(fraud, columns=['gender','city','state','category','merchant'])\n",
    "df_fraud.shape"
   ]
  },
  {
   "cell_type": "code",
   "execution_count": 23,
   "metadata": {},
   "outputs": [
    {
     "data": {
      "text/html": [
       "<div>\n",
       "<style scoped>\n",
       "    .dataframe tbody tr th:only-of-type {\n",
       "        vertical-align: middle;\n",
       "    }\n",
       "\n",
       "    .dataframe tbody tr th {\n",
       "        vertical-align: top;\n",
       "    }\n",
       "\n",
       "    .dataframe thead th {\n",
       "        text-align: right;\n",
       "    }\n",
       "</style>\n",
       "<table border=\"1\" class=\"dataframe\">\n",
       "  <thead>\n",
       "    <tr style=\"text-align: right;\">\n",
       "      <th></th>\n",
       "      <th>trans_date_trans_time</th>\n",
       "      <th>cc_num</th>\n",
       "      <th>amt</th>\n",
       "      <th>zip</th>\n",
       "      <th>lat</th>\n",
       "      <th>long</th>\n",
       "      <th>city_pop</th>\n",
       "      <th>job</th>\n",
       "      <th>dob</th>\n",
       "      <th>merch_lat</th>\n",
       "      <th>...</th>\n",
       "      <th>merchant_fraud_Yost, Schamberger and Windler</th>\n",
       "      <th>merchant_fraud_Yost-Rogahn</th>\n",
       "      <th>merchant_fraud_Zboncak LLC</th>\n",
       "      <th>merchant_fraud_Zboncak Ltd</th>\n",
       "      <th>merchant_fraud_Zboncak, Rowe and Murazik</th>\n",
       "      <th>merchant_fraud_Zemlak Group</th>\n",
       "      <th>merchant_fraud_Zemlak, Tillman and Cremin</th>\n",
       "      <th>merchant_fraud_Ziemann-Waters</th>\n",
       "      <th>merchant_fraud_Zieme, Bode and Dooley</th>\n",
       "      <th>merchant_fraud_Zulauf LLC</th>\n",
       "    </tr>\n",
       "  </thead>\n",
       "  <tbody>\n",
       "    <tr>\n",
       "      <th>0</th>\n",
       "      <td>2019-01-01 00:26:22</td>\n",
       "      <td>3598215285024754</td>\n",
       "      <td>207.36</td>\n",
       "      <td>11710</td>\n",
       "      <td>40.6729</td>\n",
       "      <td>-73.5365</td>\n",
       "      <td>34496</td>\n",
       "      <td>Librarian, public</td>\n",
       "      <td>1970-10-21 00:00:00</td>\n",
       "      <td>40.202538</td>\n",
       "      <td>...</td>\n",
       "      <td>0</td>\n",
       "      <td>0</td>\n",
       "      <td>0</td>\n",
       "      <td>0</td>\n",
       "      <td>0</td>\n",
       "      <td>0</td>\n",
       "      <td>0</td>\n",
       "      <td>0</td>\n",
       "      <td>0</td>\n",
       "      <td>0</td>\n",
       "    </tr>\n",
       "    <tr>\n",
       "      <th>1</th>\n",
       "      <td>2019-01-01 00:29:11</td>\n",
       "      <td>4789911625179723</td>\n",
       "      <td>221.81</td>\n",
       "      <td>11955</td>\n",
       "      <td>40.8095</td>\n",
       "      <td>-72.8229</td>\n",
       "      <td>3285</td>\n",
       "      <td>Research officer, trade union</td>\n",
       "      <td>1988-04-27 00:00:00</td>\n",
       "      <td>40.011959</td>\n",
       "      <td>...</td>\n",
       "      <td>0</td>\n",
       "      <td>0</td>\n",
       "      <td>0</td>\n",
       "      <td>0</td>\n",
       "      <td>0</td>\n",
       "      <td>0</td>\n",
       "      <td>0</td>\n",
       "      <td>0</td>\n",
       "      <td>0</td>\n",
       "      <td>0</td>\n",
       "    </tr>\n",
       "  </tbody>\n",
       "</table>\n",
       "<p>2 rows × 980 columns</p>\n",
       "</div>"
      ],
      "text/plain": [
       "  trans_date_trans_time            cc_num     amt    zip      lat     long  \\\n",
       "0   2019-01-01 00:26:22  3598215285024754  207.36  11710  40.6729 -73.5365   \n",
       "1   2019-01-01 00:29:11  4789911625179723  221.81  11955  40.8095 -72.8229   \n",
       "\n",
       "   city_pop                            job                  dob  merch_lat  \\\n",
       "0     34496              Librarian, public  1970-10-21 00:00:00  40.202538   \n",
       "1      3285  Research officer, trade union  1988-04-27 00:00:00  40.011959   \n",
       "\n",
       "   ...  merchant_fraud_Yost, Schamberger and Windler  \\\n",
       "0  ...                                             0   \n",
       "1  ...                                             0   \n",
       "\n",
       "   merchant_fraud_Yost-Rogahn  merchant_fraud_Zboncak LLC  \\\n",
       "0                           0                           0   \n",
       "1                           0                           0   \n",
       "\n",
       "   merchant_fraud_Zboncak Ltd  merchant_fraud_Zboncak, Rowe and Murazik  \\\n",
       "0                           0                                         0   \n",
       "1                           0                                         0   \n",
       "\n",
       "   merchant_fraud_Zemlak Group  merchant_fraud_Zemlak, Tillman and Cremin  \\\n",
       "0                            0                                          0   \n",
       "1                            0                                          0   \n",
       "\n",
       "   merchant_fraud_Ziemann-Waters  merchant_fraud_Zieme, Bode and Dooley  \\\n",
       "0                              0                                      0   \n",
       "1                              0                                      0   \n",
       "\n",
       "   merchant_fraud_Zulauf LLC  \n",
       "0                          0  \n",
       "1                          0  \n",
       "\n",
       "[2 rows x 980 columns]"
      ]
     },
     "execution_count": 23,
     "metadata": {},
     "output_type": "execute_result"
    }
   ],
   "source": [
    "df_fraud.head(2)"
   ]
  },
  {
   "cell_type": "code",
   "execution_count": 24,
   "metadata": {},
   "outputs": [
    {
     "name": "stdout",
     "output_type": "stream",
     "text": [
      "Target is_fraud value_counts: 0    358925\n",
      "1      2139\n",
      "Name: is_fraud, dtype: int64\n",
      "====\n",
      "Smote Target value_counts: 0    358925\n",
      "1    358925\n",
      "Name: is_fraud, dtype: int64\n"
     ]
    }
   ],
   "source": [
    "#set up X/y\n",
    "X = df_fraud.drop(columns=['trans_date_trans_time','lat','long','job','merch_lat','merch_long','dob','is_fraud'])\n",
    "y = df_fraud['is_fraud']\n",
    "print(f\"Target is_fraud value_counts: {y.value_counts()}\")\n",
    "\n",
    "# Instantiate Smote Class\n",
    "smo = SMOTE(random_state=42)\n",
    "\n",
    "print('====')\n",
    "# Synthetically enhance minority class\n",
    "X_smo, y_smo = smo.fit_resample(X,y)\n",
    "print(f\"Smote Target value_counts: {y_smo.value_counts()}\")"
   ]
  },
  {
   "cell_type": "code",
   "execution_count": 86,
   "metadata": {},
   "outputs": [
    {
     "name": "stderr",
     "output_type": "stream",
     "text": [
      "/Users/crivera/opt/anaconda3/lib/python3.8/site-packages/sklearn/linear_model/_logistic.py:763: ConvergenceWarning: lbfgs failed to converge (status=1):\n",
      "STOP: TOTAL NO. of ITERATIONS REACHED LIMIT.\n",
      "\n",
      "Increase the number of iterations (max_iter) or scale the data as shown in:\n",
      "    https://scikit-learn.org/stable/modules/preprocessing.html\n",
      "Please also refer to the documentation for alternative solver options:\n",
      "    https://scikit-learn.org/stable/modules/linear_model.html#logistic-regression\n",
      "  n_iter_i = _check_optimize_result(\n"
     ]
    },
    {
     "data": {
      "text/plain": [
       "0.9948801949799007"
      ]
     },
     "execution_count": 86,
     "metadata": {},
     "output_type": "execute_result"
    }
   ],
   "source": [
    "from sklearn.linear_model import LogisticRegression\n",
    "\n",
    "X = df_fraud.drop(columns=['trans_date_trans_time','lat','long','job','merch_lat','merch_long','dob','is_fraud'])\n",
    "y = df_fraud['is_fraud']\n",
    "\n",
    "# train/test split\n",
    "X_train, X_test, y_train, y_test = train_test_split(X,y,stratify=y,train_size=0.7)\n",
    "\n",
    "# standard scale\n",
    "ss = StandardScaler()\n",
    "X_train_ss = ss.fit_transform(X_train)\n",
    "X_test_ss = ss.transform(X_test)\n",
    "\n",
    "# train model\n",
    "logreg = LogisticRegression()\n",
    "logreg.fit(X_train_ss,y_train)\n",
    "\n",
    "# score model\n",
    "logreg.score(X_train_ss,y_train)"
   ]
  },
  {
   "cell_type": "code",
   "execution_count": 87,
   "metadata": {},
   "outputs": [
    {
     "data": {
      "image/png": "[encoded data removed]",
      "text/plain": [
       "<Figure size 432x288 with 2 Axes>"
      ]
     },
     "metadata": {
      "needs_background": "light"
     },
     "output_type": "display_data"
    }
   ],
   "source": [
    "plot_confusion_matrix(logreg, X_test_ss, y_test, display_labels=['noFraud','Fraud'])\n",
    "plt.show()"
   ]
  },
  {
   "cell_type": "code",
   "execution_count": null,
   "metadata": {},
   "outputs": [],
   "source": []
  },
  {
   "cell_type": "code",
   "execution_count": 28,
   "metadata": {},
   "outputs": [
    {
     "name": "stdout",
     "output_type": "stream",
     "text": [
      "ERROR! Session/line number was not unique in database. History logging moved to new session 2045\n"
     ]
    }
   ],
   "source": [
    "#set up X/y\n",
    "X = df_fraud.drop(columns=['trans_date_trans_time','lat','long','job','merch_lat','merch_long','dob','is_fraud'])\n",
    "y = df_fraud['is_fraud']\n",
    "print(f\"Target is_fraud value_counts: {y.value_counts()}\")\n",
    "\n",
    "# Instantiate Smote Class\n",
    "smo = SMOTE(random_state=42)\n",
    "\n",
    "print('====')\n",
    "# Synthetically enhance minority class\n",
    "X_smo, y_smo = smo.fit_resample(X,y)\n",
    "print(f\"Smote Target value_counts: {y_smo.value_counts()}\")\n",
    "\n",
    "# train/test\n",
    "X_train, X_test, y_train, y_test = train_test_split(X_smo,y_smo,stratify=y_smo,train_size=0.7)"
   ]
  },
  {
   "cell_type": "code",
   "execution_count": 29,
   "metadata": {},
   "outputs": [],
   "source": [
    "# instantiate class object\n",
    "ss = StandardScaler()\n",
    "\n",
    "# Scale Data \n",
    "X_train_ss = ss.fit_transform(X_train)\n",
    "X_test_ss = ss.transform(X_test)"
   ]
  },
  {
   "cell_type": "code",
   "execution_count": 32,
   "metadata": {},
   "outputs": [
    {
     "name": "stdout",
     "output_type": "stream",
     "text": [
      "train Acc: 1.0\n",
      "test Acc: 0.9976411151767306\n"
     ]
    },
    {
     "data": {
      "image/png": "[encoded data removed]",
      "text/plain": [
       "<Figure size 432x288 with 2 Axes>"
      ]
     },
     "metadata": {
      "needs_background": "light"
     },
     "output_type": "display_data"
    }
   ],
   "source": [
    "# train model\n",
    "dt = DecisionTreeClassifier()\n",
    "dt.fit(X_train_ss,y_train)\n",
    "\n",
    "# score model\n",
    "print(f\"train Acc: {dt.score(X_train_ss,y_train)}\")\n",
    "print(f\"test Acc: {dt.score(X_test_ss,y_test)}\")\n",
    "\n",
    "# Confusion Matrix\n",
    "plot_confusion_matrix(dt, X_test_ss, y_test, display_labels=['noFraud','Fraud'])\n",
    "plt.show()"
   ]
  },
  {
   "cell_type": "code",
   "execution_count": 35,
   "metadata": {},
   "outputs": [],
   "source": [
    "with open('../app_model/dt.pkl', mode = 'wb') as pickle_out:\n",
    "    pickle_out = pickle.dump(dt, pickle_out)"
   ]
  },
  {
   "cell_type": "code",
   "execution_count": 74,
   "metadata": {},
   "outputs": [],
   "source": [
    "with open('../app_model/dt.pkl', 'rb') as pickle_in:\n",
    "    dt = pickle.load(pickle_in)"
   ]
  },
  {
   "cell_type": "code",
   "execution_count": 75,
   "metadata": {},
   "outputs": [
    {
     "data": {
      "text/plain": [
       "array([1, 1, 0, ..., 0, 1, 0])"
      ]
     },
     "execution_count": 75,
     "metadata": {},
     "output_type": "execute_result"
    }
   ],
   "source": [
    "dt.predict(X_test_ss)"
   ]
  },
  {
   "cell_type": "code",
   "execution_count": 146,
   "metadata": {},
   "outputs": [
    {
     "data": {
      "text/plain": [
       "array([1])"
      ]
     },
     "execution_count": 146,
     "metadata": {},
     "output_type": "execute_result"
    }
   ],
   "source": [
    "dt.predict([X_test_ss[0]])"
   ]
  },
  {
   "cell_type": "code",
   "execution_count": 39,
   "metadata": {},
   "outputs": [
    {
     "data": {
      "text/plain": [
       "state\n",
       "CA    326\n",
       "NY    555\n",
       "OH    321\n",
       "PA    458\n",
       "TX    479\n",
       "Name: is_fraud, dtype: int64"
      ]
     },
     "execution_count": 39,
     "metadata": {},
     "output_type": "execute_result"
    }
   ],
   "source": [
    "fraud.groupby('state')['is_fraud'].sum()"
   ]
  },
  {
   "cell_type": "code",
   "execution_count": 40,
   "metadata": {},
   "outputs": [
    {
     "data": {
      "text/plain": [
       "279"
      ]
     },
     "execution_count": 40,
     "metadata": {},
     "output_type": "execute_result"
    }
   ],
   "source": [
    "fraud['cc_num'].nunique()"
   ]
  },
  {
   "cell_type": "code",
   "execution_count": 48,
   "metadata": {},
   "outputs": [
    {
     "data": {
      "text/plain": [
       "16"
      ]
     },
     "execution_count": 48,
     "metadata": {},
     "output_type": "execute_result"
    }
   ],
   "source": [
    "len(str(fraud['cc_num'][0]))"
   ]
  },
  {
   "cell_type": "code",
   "execution_count": 49,
   "metadata": {},
   "outputs": [],
   "source": [
    "import numpy as np"
   ]
  },
  {
   "cell_type": "code",
   "execution_count": 61,
   "metadata": {},
   "outputs": [
    {
     "data": {
      "text/plain": [
       "array([3, 4, 6, 3, 6, 9, 2, 5, 5, 9])"
      ]
     },
     "execution_count": 61,
     "metadata": {},
     "output_type": "execute_result"
    }
   ],
   "source": [
    "np.random.randint(1,10,size=10)"
   ]
  },
  {
   "cell_type": "code",
   "execution_count": 62,
   "metadata": {},
   "outputs": [
    {
     "data": {
      "text/plain": [
       "Index(['cc_num', 'amt', 'zip', 'city_pop', 'hour', 'gender_F', 'gender_M',\n",
       "       'city_Akron', 'city_Albany', 'city_Aledo',\n",
       "       ...\n",
       "       'merchant_fraud_Yost, Schamberger and Windler',\n",
       "       'merchant_fraud_Yost-Rogahn', 'merchant_fraud_Zboncak LLC',\n",
       "       'merchant_fraud_Zboncak Ltd',\n",
       "       'merchant_fraud_Zboncak, Rowe and Murazik',\n",
       "       'merchant_fraud_Zemlak Group',\n",
       "       'merchant_fraud_Zemlak, Tillman and Cremin',\n",
       "       'merchant_fraud_Ziemann-Waters',\n",
       "       'merchant_fraud_Zieme, Bode and Dooley', 'merchant_fraud_Zulauf LLC'],\n",
       "      dtype='object', length=972)"
      ]
     },
     "execution_count": 62,
     "metadata": {},
     "output_type": "execute_result"
    }
   ],
   "source": [
    "X_train"
   ]
  },
  {
   "cell_type": "code",
   "execution_count": 67,
   "metadata": {},
   "outputs": [
    {
     "data": {
      "text/plain": [
       "164484.14546451598"
      ]
     },
     "execution_count": 67,
     "metadata": {},
     "output_type": "execute_result"
    }
   ],
   "source": [
    "fraud['city_pop'].mean()"
   ]
  },
  {
   "cell_type": "code",
   "execution_count": 68,
   "metadata": {},
   "outputs": [
    {
     "data": {
      "text/plain": [
       "2526.0"
      ]
     },
     "execution_count": 68,
     "metadata": {},
     "output_type": "execute_result"
    }
   ],
   "source": [
    "fraud['city_pop'].median()"
   ]
  },
  {
   "cell_type": "code",
   "execution_count": 71,
   "metadata": {},
   "outputs": [
    {
     "data": {
      "text/plain": [
       "'gender_F'"
      ]
     },
     "execution_count": 71,
     "metadata": {},
     "output_type": "execute_result"
    }
   ],
   "source": [
    "np.random.choice(['gender_F','gender_M'])"
   ]
  },
  {
   "cell_type": "code",
   "execution_count": 83,
   "metadata": {},
   "outputs": [
    {
     "data": {
      "text/plain": [
       "{'Boston': 0, 'Methuen': 0, 'Lawrence': 1}"
      ]
     },
     "execution_count": 83,
     "metadata": {},
     "output_type": "execute_result"
    }
   ],
   "source": [
    "city = 'Lawrence'\n",
    "cities = ['Boston','Methuen','Lawrence']\n",
    "X = {}\n",
    "for c in cities:\n",
    "    if c!=city:\n",
    "        X[c]=0\n",
    "    else:\n",
    "        X[c]=1\n"
   ]
  },
  {
   "cell_type": "code",
   "execution_count": 114,
   "metadata": {},
   "outputs": [
    {
     "data": {
      "text/plain": [
       "Index(['city_Akron', 'city_Albany', 'city_Aledo', 'city_Allentown',\n",
       "       'city_Altair', 'city_Altona', 'city_Amanda', 'city_Amsterdam',\n",
       "       'city_Angwin', 'city_Arcadia',\n",
       "       ...\n",
       "       'city_West Chazy', 'city_West Decatur', 'city_West Eaton',\n",
       "       'city_West Finley', 'city_West Harrison', 'city_West Henrietta',\n",
       "       'city_West Sayville', 'city_Westhampton Beach', 'city_Zaleski',\n",
       "       'city_Zavalla'],\n",
       "      dtype='object', length=253)"
      ]
     },
     "execution_count": 114,
     "metadata": {},
     "output_type": "execute_result"
    }
   ],
   "source": [
    "X_train.columns[7:260]"
   ]
  },
  {
   "cell_type": "code",
   "execution_count": 128,
   "metadata": {
    "scrolled": true
   },
   "outputs": [
    {
     "data": {
      "text/plain": [
       "{'city_pop': 7,\n",
       " 'city_Akron': 8,\n",
       " 'city_Albany': 9,\n",
       " 'city_Aledo': 10,\n",
       " 'city_Allentown': 11,\n",
       " 'city_Altair': 12,\n",
       " 'city_Altona': 13,\n",
       " 'city_Amanda': 14,\n",
       " 'city_Amsterdam': 15,\n",
       " 'city_Angwin': 16,\n",
       " 'city_Arcadia': 17,\n",
       " 'city_Armagh': 18,\n",
       " 'city_Armonk': 19,\n",
       " 'city_Atglen': 20,\n",
       " 'city_Azusa': 21,\n",
       " 'city_Barneveld': 22,\n",
       " 'city_Beacon': 23,\n",
       " 'city_Beasley': 24,\n",
       " 'city_Beaver Falls': 25,\n",
       " 'city_Beaverdam': 26,\n",
       " 'city_Belfast': 27,\n",
       " 'city_Bellmore': 28,\n",
       " 'city_Bethel': 29,\n",
       " 'city_Big Indian': 30,\n",
       " 'city_Blairsden-Graeagle': 31,\n",
       " 'city_Blooming Grove': 32,\n",
       " 'city_Bolivar': 33,\n",
       " 'city_Bowersville': 34,\n",
       " 'city_Breesport': 35,\n",
       " 'city_Bristol': 36,\n",
       " 'city_Bronx': 37,\n",
       " 'city_Brooklyn': 38,\n",
       " 'city_Brownville': 39,\n",
       " 'city_Buellton': 40,\n",
       " 'city_Byesville': 41,\n",
       " 'city_Bynum': 42,\n",
       " 'city_Camden': 43,\n",
       " 'city_Canton': 44,\n",
       " 'city_Carlotta': 45,\n",
       " 'city_Chatham': 46,\n",
       " 'city_Chester Heights': 47,\n",
       " 'city_Claremont': 48,\n",
       " 'city_Clarion': 49,\n",
       " 'city_Clarks Mills': 50,\n",
       " 'city_Clay Center': 51,\n",
       " 'city_Cleveland': 52,\n",
       " 'city_Clune': 53,\n",
       " 'city_Cochranton': 54,\n",
       " 'city_Cokeburg': 55,\n",
       " 'city_Coleman': 56,\n",
       " 'city_Corona': 57,\n",
       " 'city_Corsica': 58,\n",
       " 'city_Cottekill': 59,\n",
       " 'city_Cowlesville': 60,\n",
       " 'city_Creola': 61,\n",
       " 'city_Cressona': 62,\n",
       " 'city_Cross Plains': 63,\n",
       " 'city_Cuyahoga Falls': 64,\n",
       " 'city_Dallas': 65,\n",
       " 'city_Daly City': 66,\n",
       " 'city_Dayton': 67,\n",
       " 'city_De Lancey': 68,\n",
       " 'city_Dell City': 69,\n",
       " 'city_Desdemona': 70,\n",
       " 'city_Diamond': 71,\n",
       " 'city_Downey': 72,\n",
       " 'city_Downsville': 73,\n",
       " 'city_Dublin': 74,\n",
       " 'city_Dunlevy': 75,\n",
       " 'city_East Rochester': 76,\n",
       " 'city_El Paso': 77,\n",
       " 'city_Emporium': 78,\n",
       " 'city_Falconer': 79,\n",
       " 'city_Falls City': 80,\n",
       " 'city_Farmington': 81,\n",
       " 'city_Fenelton': 82,\n",
       " 'city_Fiddletown': 83,\n",
       " 'city_Fields Landing': 84,\n",
       " 'city_Fulton': 85,\n",
       " 'city_Gainesville': 86,\n",
       " 'city_Garrattsville': 87,\n",
       " 'city_Glen Rock': 88,\n",
       " 'city_Glendale': 89,\n",
       " 'city_Granbury': 90,\n",
       " 'city_Grandview': 91,\n",
       " 'city_Grassflat': 92,\n",
       " 'city_Greenport': 93,\n",
       " 'city_Greenview': 94,\n",
       " 'city_Greenville': 95,\n",
       " 'city_Grenada': 96,\n",
       " 'city_Hannawa Falls': 97,\n",
       " 'city_Harborcreek': 98,\n",
       " 'city_Harmony': 99,\n",
       " 'city_Harper': 100,\n",
       " 'city_Hawthorne': 101,\n",
       " 'city_Hedley': 102,\n",
       " 'city_Helm': 103,\n",
       " 'city_Hinckley': 104,\n",
       " 'city_Holliday': 105,\n",
       " 'city_Holloway': 106,\n",
       " 'city_Houston': 107,\n",
       " 'city_Howes Cave': 108,\n",
       " 'city_Hudson': 109,\n",
       " 'city_Humble': 110,\n",
       " 'city_Huntington Beach': 111,\n",
       " 'city_Indian Wells': 112,\n",
       " 'city_Ironton': 113,\n",
       " 'city_Irvine': 114,\n",
       " 'city_Irvington': 115,\n",
       " 'city_Jefferson': 116,\n",
       " 'city_Jermyn': 117,\n",
       " 'city_Jordanville': 118,\n",
       " 'city_June Lake': 119,\n",
       " 'city_Karnack': 120,\n",
       " 'city_Karns City': 121,\n",
       " 'city_Keisterville': 122,\n",
       " 'city_Keller': 123,\n",
       " 'city_Kilgore': 124,\n",
       " 'city_Kirby': 125,\n",
       " 'city_Knowlesville': 126,\n",
       " 'city_Laguna Hills': 127,\n",
       " 'city_Lake Jackson': 128,\n",
       " 'city_Lakeport': 129,\n",
       " 'city_Laredo': 130,\n",
       " 'city_Lawn': 131,\n",
       " 'city_Leetsdale': 132,\n",
       " 'city_Leonard': 133,\n",
       " 'city_Lima': 134,\n",
       " 'city_Lithopolis': 135,\n",
       " 'city_Lockhart': 136,\n",
       " 'city_Lolita': 137,\n",
       " 'city_Lorenzo': 138,\n",
       " 'city_Los Angeles': 139,\n",
       " 'city_Lowville': 140,\n",
       " 'city_Lubbock': 141,\n",
       " 'city_Manor': 142,\n",
       " 'city_Mansfield': 143,\n",
       " 'city_Marathon': 144,\n",
       " 'city_Margaretville': 145,\n",
       " 'city_Maria Stein': 146,\n",
       " 'city_Marienville': 147,\n",
       " 'city_May': 148,\n",
       " 'city_Mc Clellandtown': 149,\n",
       " 'city_Mc Veytown': 150,\n",
       " 'city_Medford': 151,\n",
       " 'city_Melville': 152,\n",
       " 'city_Meridian': 153,\n",
       " 'city_Miamisburg': 154,\n",
       " 'city_Mifflin': 155,\n",
       " 'city_Milford': 156,\n",
       " 'city_Mill Creek': 157,\n",
       " 'city_Montandon': 158,\n",
       " 'city_Montrose': 159,\n",
       " 'city_Moriches': 160,\n",
       " 'city_Morrisdale': 161,\n",
       " 'city_Mount Morris': 162,\n",
       " 'city_Mount Perry': 163,\n",
       " 'city_Mount Saint Joseph': 164,\n",
       " 'city_Mount Vernon': 165,\n",
       " 'city_Mountain Center': 166,\n",
       " 'city_Nanuet': 167,\n",
       " 'city_Napa': 168,\n",
       " 'city_Nazareth': 169,\n",
       " 'city_New Waverly': 170,\n",
       " 'city_New York City': 171,\n",
       " 'city_Newark Valley': 172,\n",
       " 'city_Newhall': 173,\n",
       " 'city_Nicholson': 174,\n",
       " 'city_North East': 175,\n",
       " 'city_North Tonawanda': 176,\n",
       " 'city_North Washington': 177,\n",
       " 'city_Northport': 178,\n",
       " 'city_Norwalk': 179,\n",
       " 'city_Norwich': 180,\n",
       " 'city_Notrees': 181,\n",
       " 'city_O Brien': 182,\n",
       " 'city_Oak Hill': 183,\n",
       " 'city_Oakdale': 184,\n",
       " 'city_Oakland': 185,\n",
       " 'city_Oaks': 186,\n",
       " 'city_Orangeburg': 187,\n",
       " 'city_Orient': 188,\n",
       " 'city_Oriskany Falls': 189,\n",
       " 'city_Palmdale': 190,\n",
       " 'city_Palmyra': 191,\n",
       " 'city_Parker Dam': 192,\n",
       " 'city_Paulding': 193,\n",
       " 'city_Pecos': 194,\n",
       " 'city_Phelps': 195,\n",
       " 'city_Philadelphia': 196,\n",
       " 'city_Pittsburgh': 197,\n",
       " 'city_Pomona': 198,\n",
       " 'city_Port Costa': 199,\n",
       " 'city_Port Ewen': 200,\n",
       " 'city_Port Gibson': 201,\n",
       " 'city_Prairie Hill': 202,\n",
       " 'city_Purmela': 203,\n",
       " 'city_Quanah': 204,\n",
       " 'city_Randolph': 205,\n",
       " 'city_Ratcliff': 206,\n",
       " 'city_Rock Glen': 207,\n",
       " 'city_Rock Tavern': 208,\n",
       " 'city_Rockwood': 209,\n",
       " 'city_Roma': 210,\n",
       " 'city_Rosewood': 211,\n",
       " 'city_Rule': 212,\n",
       " 'city_Sachse': 213,\n",
       " 'city_Sacramento': 214,\n",
       " 'city_Saint Bonaventure': 215,\n",
       " 'city_San Angelo': 216,\n",
       " 'city_San Antonio': 217,\n",
       " 'city_San Diego': 218,\n",
       " 'city_San Jose': 219,\n",
       " 'city_Santa Monica': 220,\n",
       " 'city_Schaefferstown': 221,\n",
       " 'city_Shelter Island': 222,\n",
       " 'city_Sherman': 223,\n",
       " 'city_Shippingport': 224,\n",
       " 'city_Skytop': 225,\n",
       " 'city_Smith River': 226,\n",
       " 'city_Smock': 227,\n",
       " 'city_South Richmond Hill': 228,\n",
       " 'city_Spring': 229,\n",
       " 'city_Spring Church': 230,\n",
       " 'city_Springfield Gardens': 231,\n",
       " 'city_Sterling City': 232,\n",
       " 'city_Stittville': 233,\n",
       " 'city_Summerfield': 234,\n",
       " 'city_Sun City': 235,\n",
       " 'city_Thornville': 236,\n",
       " 'city_Thrall': 237,\n",
       " 'city_Tomales': 238,\n",
       " 'city_Trenton': 239,\n",
       " 'city_Tupper Lake': 240,\n",
       " 'city_Tyler': 241,\n",
       " 'city_Uledi': 242,\n",
       " 'city_Utica': 243,\n",
       " 'city_Vacaville': 244,\n",
       " 'city_Vanderbilt': 245,\n",
       " 'city_Vinton': 246,\n",
       " 'city_Warren': 247,\n",
       " 'city_Washington Court House': 248,\n",
       " 'city_Waynesfield': 249,\n",
       " 'city_Wendel': 250,\n",
       " 'city_West Chazy': 251,\n",
       " 'city_West Decatur': 252,\n",
       " 'city_West Eaton': 253,\n",
       " 'city_West Finley': 254,\n",
       " 'city_West Harrison': 255,\n",
       " 'city_West Henrietta': 256,\n",
       " 'city_West Sayville': 257,\n",
       " 'city_Westhampton Beach': 258,\n",
       " 'city_Zaleski': 259,\n",
       " 'city_Zavalla': 260}"
      ]
     },
     "execution_count": 128,
     "metadata": {},
     "output_type": "execute_result"
    }
   ],
   "source": [
    "cities = [city for city in X_train.columns if city.startswith('city')]\n",
    "idx = list(range(7,261))\n",
    "city_dict = dict(zip(cities,idx))\n",
    "city_dict"
   ]
  },
  {
   "cell_type": "code",
   "execution_count": 145,
   "metadata": {},
   "outputs": [
    {
     "name": "stdin",
     "output_type": "stream",
     "text": [
      "Enter city: Lawrence\n"
     ]
    },
    {
     "data": {
      "text/plain": [
       "[0, 0, 1]"
      ]
     },
     "execution_count": 145,
     "metadata": {},
     "output_type": "execute_result"
    }
   ],
   "source": [
    "cities = ['Boston','Methuen','Lawrence']\n",
    "idx = list(range(1,4))\n",
    "bla = dict(zip(cities,idx))\n",
    "\n",
    "city = input('Enter city:')\n",
    "\n",
    "X = []\n",
    "for c,i in bla.items():\n",
    "    if city==c:\n",
    "        X.append(1)\n",
    "    else:\n",
    "        X.append(0)\n",
    "X"
   ]
  },
  {
   "cell_type": "code",
   "execution_count": 141,
   "metadata": {},
   "outputs": [
    {
     "data": {
      "text/plain": [
       "{'Boston': 1, 'Methuen': 2, 'Lawrence': 3}"
      ]
     },
     "execution_count": 141,
     "metadata": {},
     "output_type": "execute_result"
    }
   ],
   "source": [
    "bla"
   ]
  },
  {
   "cell_type": "code",
   "execution_count": null,
   "metadata": {},
   "outputs": [],
   "source": []
  }
 ],
 "metadata": {
  "kernelspec": {
   "display_name": "Python 3",
   "language": "python",
   "name": "python3"
  },
  "language_info": {
   "codemirror_mode": {
    "name": "ipython",
    "version": 3
   },
   "file_extension": ".py",
   "mimetype": "text/x-python",
   "name": "python",
   "nbconvert_exporter": "python",
   "pygments_lexer": "ipython3",
   "version": "3.8.5"
  }
 },
 "nbformat": 4,
 "nbformat_minor": 4
}
