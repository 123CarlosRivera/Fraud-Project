{
 "cells": [
  {
   "cell_type": "code",
   "execution_count": 67,
   "metadata": {},
   "outputs": [],
   "source": [
    "import pandas as pd\n",
    "import numpy as np\n",
    "import matplotlib.pyplot as plt\n",
    "\n",
    "from imblearn.over_sampling import SMOTE\n",
    "from sklearn.model_selection import train_test_split\n",
    "from sklearn.tree import DecisionTreeClassifier\n",
    "\n",
    "from sklearn.preprocessing import StandardScaler\n",
    "from sklearn.metrics import confusion_matrix, plot_confusion_matrix\n",
    "\n",
    "import pickle\n",
    "\n",
    "import warnings\n",
    "warnings.filterwarnings(\"ignore\")"
   ]
  },
  {
   "cell_type": "code",
   "execution_count": 2,
   "metadata": {},
   "outputs": [],
   "source": [
    "fraud = pd.read_csv('/Users/crivera/Desktop/capstone-dsir82/capstone_data/final_model.csv')"
   ]
  },
  {
   "cell_type": "code",
   "execution_count": 3,
   "metadata": {},
   "outputs": [
    {
     "data": {
      "text/html": [
       "<div>\n",
       "<style scoped>\n",
       "    .dataframe tbody tr th:only-of-type {\n",
       "        vertical-align: middle;\n",
       "    }\n",
       "\n",
       "    .dataframe tbody tr th {\n",
       "        vertical-align: top;\n",
       "    }\n",
       "\n",
       "    .dataframe thead th {\n",
       "        text-align: right;\n",
       "    }\n",
       "</style>\n",
       "<table border=\"1\" class=\"dataframe\">\n",
       "  <thead>\n",
       "    <tr style=\"text-align: right;\">\n",
       "      <th></th>\n",
       "      <th>trans_date_trans_time</th>\n",
       "      <th>cc_num</th>\n",
       "      <th>merchant</th>\n",
       "      <th>category</th>\n",
       "      <th>amt</th>\n",
       "      <th>gender</th>\n",
       "      <th>city</th>\n",
       "      <th>state</th>\n",
       "      <th>zip</th>\n",
       "      <th>lat</th>\n",
       "      <th>long</th>\n",
       "      <th>city_pop</th>\n",
       "      <th>job</th>\n",
       "      <th>dob</th>\n",
       "      <th>merch_lat</th>\n",
       "      <th>merch_long</th>\n",
       "      <th>is_fraud</th>\n",
       "      <th>hour</th>\n",
       "    </tr>\n",
       "  </thead>\n",
       "  <tbody>\n",
       "    <tr>\n",
       "      <th>0</th>\n",
       "      <td>2019-01-01 00:26:22</td>\n",
       "      <td>3598215285024754</td>\n",
       "      <td>fraud_Heidenreich PLC</td>\n",
       "      <td>grocery_pos</td>\n",
       "      <td>207.36</td>\n",
       "      <td>F</td>\n",
       "      <td>Bellmore</td>\n",
       "      <td>NY</td>\n",
       "      <td>11710</td>\n",
       "      <td>40.6729</td>\n",
       "      <td>-73.5365</td>\n",
       "      <td>34496</td>\n",
       "      <td>Librarian, public</td>\n",
       "      <td>1970-10-21 00:00:00</td>\n",
       "      <td>40.202538</td>\n",
       "      <td>-73.859212</td>\n",
       "      <td>0</td>\n",
       "      <td>0</td>\n",
       "    </tr>\n",
       "    <tr>\n",
       "      <th>1</th>\n",
       "      <td>2019-01-01 00:29:11</td>\n",
       "      <td>4789911625179723</td>\n",
       "      <td>fraud_Mosciski, Gislason and Mertz</td>\n",
       "      <td>grocery_pos</td>\n",
       "      <td>221.81</td>\n",
       "      <td>F</td>\n",
       "      <td>Moriches</td>\n",
       "      <td>NY</td>\n",
       "      <td>11955</td>\n",
       "      <td>40.8095</td>\n",
       "      <td>-72.8229</td>\n",
       "      <td>3285</td>\n",
       "      <td>Research officer, trade union</td>\n",
       "      <td>1988-04-27 00:00:00</td>\n",
       "      <td>40.011959</td>\n",
       "      <td>-72.594808</td>\n",
       "      <td>0</td>\n",
       "      <td>0</td>\n",
       "    </tr>\n",
       "    <tr>\n",
       "      <th>2</th>\n",
       "      <td>2019-01-01 00:31:01</td>\n",
       "      <td>30011465039817</td>\n",
       "      <td>fraud_Howe Ltd</td>\n",
       "      <td>misc_pos</td>\n",
       "      <td>54.02</td>\n",
       "      <td>F</td>\n",
       "      <td>Chatham</td>\n",
       "      <td>NY</td>\n",
       "      <td>12037</td>\n",
       "      <td>42.3496</td>\n",
       "      <td>-73.5873</td>\n",
       "      <td>4015</td>\n",
       "      <td>Human resources officer</td>\n",
       "      <td>1971-10-14 00:00:00</td>\n",
       "      <td>42.041783</td>\n",
       "      <td>-73.076424</td>\n",
       "      <td>0</td>\n",
       "      <td>0</td>\n",
       "    </tr>\n",
       "    <tr>\n",
       "      <th>3</th>\n",
       "      <td>2019-01-01 00:40:48</td>\n",
       "      <td>30404291151692</td>\n",
       "      <td>fraud_Kemmer-Buckridge</td>\n",
       "      <td>misc_pos</td>\n",
       "      <td>7.33</td>\n",
       "      <td>F</td>\n",
       "      <td>North Tonawanda</td>\n",
       "      <td>NY</td>\n",
       "      <td>14120</td>\n",
       "      <td>43.0498</td>\n",
       "      <td>-78.8510</td>\n",
       "      <td>45100</td>\n",
       "      <td>Ambulance person</td>\n",
       "      <td>1993-10-25 00:00:00</td>\n",
       "      <td>43.176300</td>\n",
       "      <td>-77.901777</td>\n",
       "      <td>0</td>\n",
       "      <td>0</td>\n",
       "    </tr>\n",
       "    <tr>\n",
       "      <th>4</th>\n",
       "      <td>2019-01-01 01:19:13</td>\n",
       "      <td>5104807169438134</td>\n",
       "      <td>fraud_Williamson LLC</td>\n",
       "      <td>misc_pos</td>\n",
       "      <td>47.85</td>\n",
       "      <td>F</td>\n",
       "      <td>Westhampton Beach</td>\n",
       "      <td>NY</td>\n",
       "      <td>11978</td>\n",
       "      <td>40.8295</td>\n",
       "      <td>-72.6473</td>\n",
       "      <td>3255</td>\n",
       "      <td>Financial trader</td>\n",
       "      <td>1978-07-08 00:00:00</td>\n",
       "      <td>40.712685</td>\n",
       "      <td>-72.124522</td>\n",
       "      <td>0</td>\n",
       "      <td>1</td>\n",
       "    </tr>\n",
       "  </tbody>\n",
       "</table>\n",
       "</div>"
      ],
      "text/plain": [
       "  trans_date_trans_time            cc_num                            merchant  \\\n",
       "0   2019-01-01 00:26:22  3598215285024754               fraud_Heidenreich PLC   \n",
       "1   2019-01-01 00:29:11  4789911625179723  fraud_Mosciski, Gislason and Mertz   \n",
       "2   2019-01-01 00:31:01    30011465039817                      fraud_Howe Ltd   \n",
       "3   2019-01-01 00:40:48    30404291151692              fraud_Kemmer-Buckridge   \n",
       "4   2019-01-01 01:19:13  5104807169438134                fraud_Williamson LLC   \n",
       "\n",
       "      category     amt gender               city state    zip      lat  \\\n",
       "0  grocery_pos  207.36      F           Bellmore    NY  11710  40.6729   \n",
       "1  grocery_pos  221.81      F           Moriches    NY  11955  40.8095   \n",
       "2     misc_pos   54.02      F            Chatham    NY  12037  42.3496   \n",
       "3     misc_pos    7.33      F    North Tonawanda    NY  14120  43.0498   \n",
       "4     misc_pos   47.85      F  Westhampton Beach    NY  11978  40.8295   \n",
       "\n",
       "      long  city_pop                            job                  dob  \\\n",
       "0 -73.5365     34496              Librarian, public  1970-10-21 00:00:00   \n",
       "1 -72.8229      3285  Research officer, trade union  1988-04-27 00:00:00   \n",
       "2 -73.5873      4015        Human resources officer  1971-10-14 00:00:00   \n",
       "3 -78.8510     45100               Ambulance person  1993-10-25 00:00:00   \n",
       "4 -72.6473      3255               Financial trader  1978-07-08 00:00:00   \n",
       "\n",
       "   merch_lat  merch_long  is_fraud  hour  \n",
       "0  40.202538  -73.859212         0     0  \n",
       "1  40.011959  -72.594808         0     0  \n",
       "2  42.041783  -73.076424         0     0  \n",
       "3  43.176300  -77.901777         0     0  \n",
       "4  40.712685  -72.124522         0     1  "
      ]
     },
     "execution_count": 3,
     "metadata": {},
     "output_type": "execute_result"
    }
   ],
   "source": [
    "fraud.head()"
   ]
  },
  {
   "cell_type": "code",
   "execution_count": 6,
   "metadata": {},
   "outputs": [],
   "source": [
    "fraud = fraud[fraud['state']=='NY']"
   ]
  },
  {
   "cell_type": "code",
   "execution_count": 7,
   "metadata": {},
   "outputs": [
    {
     "name": "stderr",
     "output_type": "stream",
     "text": [
      "/Users/crivera/opt/anaconda3/lib/python3.8/site-packages/sklearn/linear_model/_logistic.py:763: ConvergenceWarning: lbfgs failed to converge (status=1):\n",
      "STOP: TOTAL NO. of ITERATIONS REACHED LIMIT.\n",
      "\n",
      "Increase the number of iterations (max_iter) or scale the data as shown in:\n",
      "    https://scikit-learn.org/stable/modules/preprocessing.html\n",
      "Please also refer to the documentation for alternative solver options:\n",
      "    https://scikit-learn.org/stable/modules/linear_model.html#logistic-regression\n",
      "  n_iter_i = _check_optimize_result(\n"
     ]
    },
    {
     "data": {
      "text/plain": [
       "0.9953464499572284"
      ]
     },
     "execution_count": 7,
     "metadata": {},
     "output_type": "execute_result"
    }
   ],
   "source": [
    "from sklearn.linear_model import LogisticRegression\n",
    "\n",
    "# dummy for object variables\n",
    "df_fraud = fraud.copy()\n",
    "df_fraud = pd.get_dummies(fraud, columns=['gender','city','state','category','merchant'])\n",
    "\n",
    "# dummy friends\n",
    "X = df_fraud.drop(columns=['trans_date_trans_time','lat','long','job','merch_lat','merch_long','dob','is_fraud'])\n",
    "y = df_fraud['is_fraud']\n",
    "\n",
    "# train/test split\n",
    "X_train, X_test, y_train, y_test = train_test_split(X,y,stratify=y,train_size=0.7)\n",
    "\n",
    "# standard scale\n",
    "ss = StandardScaler()\n",
    "X_train_ss = ss.fit_transform(X_train)\n",
    "X_test_ss = ss.transform(X_test)\n",
    "\n",
    "# train model\n",
    "logreg = LogisticRegression()\n",
    "logreg.fit(X_train_ss,y_train)\n",
    "\n",
    "# score model\n",
    "logreg.score(X_train_ss,y_train)"
   ]
  },
  {
   "cell_type": "code",
   "execution_count": 8,
   "metadata": {},
   "outputs": [
    {
     "data": {
      "image/png": "[encoded data removed]",
      "text/plain": [
       "<Figure size 432x288 with 2 Axes>"
      ]
     },
     "metadata": {
      "needs_background": "light"
     },
     "output_type": "display_data"
    }
   ],
   "source": [
    "plot_confusion_matrix(logreg, X_test_ss, y_test, display_labels=['noFraud','Fraud'])\n",
    "plt.show()"
   ]
  },
  {
   "cell_type": "code",
   "execution_count": 14,
   "metadata": {},
   "outputs": [
    {
     "data": {
      "text/plain": [
       "1.0"
      ]
     },
     "execution_count": 14,
     "metadata": {},
     "output_type": "execute_result"
    }
   ],
   "source": [
    "from sklearn.tree import DecisionTreeClassifier\n",
    "\n",
    "# train model\n",
    "dt = DecisionTreeClassifier()\n",
    "dt.fit(X_train_ss,y_train)\n",
    "\n",
    "# score model\n",
    "dt.score(X_train_ss,y_train)"
   ]
  },
  {
   "cell_type": "code",
   "execution_count": 15,
   "metadata": {},
   "outputs": [
    {
     "data": {
      "image/png": "[encoded data removed]",
      "text/plain": [
       "<Figure size 432x288 with 2 Axes>"
      ]
     },
     "metadata": {
      "needs_background": "light"
     },
     "output_type": "display_data"
    }
   ],
   "source": [
    "plot_confusion_matrix(dt, X_test_ss, y_test, display_labels=['noFraud','Fraud'])\n",
    "plt.show()"
   ]
  },
  {
   "cell_type": "markdown",
   "metadata": {},
   "source": [
    "## ```Modeling w/ Balanced Classes```\n",
    "---\n",
    "1. Create balanced classes using Smote\n",
    "2. Compare Null model and final model based on type 2 errors"
   ]
  },
  {
   "cell_type": "code",
   "execution_count": 20,
   "metadata": {},
   "outputs": [
    {
     "data": {
      "text/plain": [
       "1.0"
      ]
     },
     "execution_count": 20,
     "metadata": {},
     "output_type": "execute_result"
    }
   ],
   "source": [
    "# NY only\n",
    "fraud = fraud[fraud['state']=='NY']\n",
    "\n",
    "# dummy for object variables\n",
    "df_fraud = fraud.copy()\n",
    "df_fraud = pd.get_dummies(fraud, columns=['gender','city','state','category','merchant'])\n",
    "\n",
    "# dummy friends\n",
    "X = df_fraud.drop(columns=['trans_date_trans_time','lat','long','job','merch_lat','merch_long','dob','is_fraud'])\n",
    "y = df_fraud['is_fraud']\n",
    "\n",
    "# Instantiate Smote Class\n",
    "smo = SMOTE(random_state=42)\n",
    "\n",
    "# Synthetically enhance minority class\n",
    "X_smo, y_smo = smo.fit_resample(X,y)\n",
    "\n",
    "# train/test\n",
    "X_train, X_test, y_train, y_test = train_test_split(X_smo,y_smo,stratify=y_smo,train_size=0.7)\n",
    "\n",
    "# standard scale\n",
    "ss = StandardScaler()\n",
    "X_train_ss = ss.fit_transform(X_train)\n",
    "X_test_ss = ss.transform(X_test)\n",
    "\n",
    "# train model\n",
    "dt = DecisionTreeClassifier()\n",
    "dt.fit(X_train_ss,y_train)\n",
    "\n",
    "# score model\n",
    "dt.score(X_train_ss,y_train)"
   ]
  },
  {
   "cell_type": "code",
   "execution_count": 24,
   "metadata": {},
   "outputs": [
    {
     "data": {
      "text/plain": [
       "0.9946351068959974"
      ]
     },
     "execution_count": 24,
     "metadata": {},
     "output_type": "execute_result"
    }
   ],
   "source": [
    "dt.score(X_test_ss,y_test)"
   ]
  },
  {
   "cell_type": "code",
   "execution_count": 21,
   "metadata": {},
   "outputs": [
    {
     "data": {
      "image/png": "[encoded data removed]",
      "text/plain": [
       "<Figure size 432x288 with 2 Axes>"
      ]
     },
     "metadata": {
      "needs_background": "light"
     },
     "output_type": "display_data"
    }
   ],
   "source": [
    "plot_confusion_matrix(dt, X_test_ss, y_test, display_labels=['noFraud','Fraud'])\n",
    "plt.show()"
   ]
  },
  {
   "cell_type": "code",
   "execution_count": 26,
   "metadata": {},
   "outputs": [],
   "source": [
    "# This model will be used for the app just for demo purposes on a specific \n",
    "with open('app_model/dt_ny.pkl', mode = 'wb') as pickle_out:\n",
    "    pickle_out = pickle.dump(dt, pickle_out)"
   ]
  },
  {
   "cell_type": "markdown",
   "metadata": {},
   "source": [
    "**The dt model showed perfect accuracy on the train set, with little difference on the testing set.**"
   ]
  },
  {
   "cell_type": "code",
   "execution_count": 22,
   "metadata": {},
   "outputs": [
    {
     "name": "stderr",
     "output_type": "stream",
     "text": [
      "/Users/crivera/opt/anaconda3/lib/python3.8/site-packages/sklearn/linear_model/_logistic.py:763: ConvergenceWarning: lbfgs failed to converge (status=1):\n",
      "STOP: TOTAL NO. of ITERATIONS REACHED LIMIT.\n",
      "\n",
      "Increase the number of iterations (max_iter) or scale the data as shown in:\n",
      "    https://scikit-learn.org/stable/modules/preprocessing.html\n",
      "Please also refer to the documentation for alternative solver options:\n",
      "    https://scikit-learn.org/stable/modules/linear_model.html#logistic-regression\n",
      "  n_iter_i = _check_optimize_result(\n"
     ]
    },
    {
     "data": {
      "text/plain": [
       "0.9837845751093659"
      ]
     },
     "execution_count": 22,
     "metadata": {},
     "output_type": "execute_result"
    }
   ],
   "source": [
    "lr = LogisticRegression()\n",
    "lr.fit(X_train_ss,y_train)\n",
    "lr.score(X_train_ss,y_train)"
   ]
  },
  {
   "cell_type": "code",
   "execution_count": 25,
   "metadata": {},
   "outputs": [
    {
     "data": {
      "text/plain": [
       "0.9825389808712426"
      ]
     },
     "execution_count": 25,
     "metadata": {},
     "output_type": "execute_result"
    }
   ],
   "source": [
    "lr.score(X_test_ss,y_test)"
   ]
  },
  {
   "cell_type": "code",
   "execution_count": 23,
   "metadata": {},
   "outputs": [
    {
     "data": {
      "image/png": "[encoded data removed]",
      "text/plain": [
       "<Figure size 432x288 with 2 Axes>"
      ]
     },
     "metadata": {
      "needs_background": "light"
     },
     "output_type": "display_data"
    }
   ],
   "source": [
    "plot_confusion_matrix(lr, X_test_ss, y_test, display_labels=['noFraud','Fraud'])\n",
    "plt.show()"
   ]
  },
  {
   "cell_type": "markdown",
   "metadata": {},
   "source": [
    "**The lr model had 0.98 accuracy on both train and test sets. However, the type 2 errors increased significantly.**"
   ]
  },
  {
   "cell_type": "code",
   "execution_count": 50,
   "metadata": {},
   "outputs": [
    {
     "data": {
      "image/png": "[encoded data removed]",
      "text/plain": [
       "<Figure size 1440x720 with 1 Axes>"
      ]
     },
     "metadata": {
      "needs_background": "light"
     },
     "output_type": "display_data"
    }
   ],
   "source": [
    "pd.DataFrame(dt.feature_importances_, X_train.columns, columns=['Feature Importance']).sort_values(by = 'Feature Importance', ascending=False).head(20).plot(kind='barh',figsize=(20,10))\n",
    "plt.title('Top 20 Important Features', fontsize=20)\n",
    "plt.xticks(rotation=1, fontsize=20)\n",
    "plt.yticks(fontsize=15)\n",
    "plt.ylabel('Feature',fontsize=20)\n",
    "plt.xlabel('Gini Importance', fontsize=20);"
   ]
  },
  {
   "cell_type": "markdown",
   "metadata": {},
   "source": [
    "**Purchase Amount was the most important \"question\" to ask before splitting the dataframe into smaller subsets.**"
   ]
  },
  {
   "cell_type": "code",
   "execution_count": 51,
   "metadata": {
    "scrolled": true
   },
   "outputs": [
    {
     "name": "stdout",
     "output_type": "stream",
     "text": [
      "Row 101 has been classified as  1 and should be  0\n",
      "Row 134 has been classified as  0 and should be  1\n",
      "Row 138 has been classified as  1 and should be  0\n",
      "Row 580 has been classified as  1 and should be  0\n",
      "Row 622 has been classified as  1 and should be  0\n",
      "Row 807 has been classified as  1 and should be  0\n",
      "Row 878 has been classified as  1 and should be  0\n",
      "Row 940 has been classified as  1 and should be  0\n",
      "Row 983 has been classified as  0 and should be  1\n",
      "Row 1034 has been classified as  1 and should be  0\n",
      "Row 1062 has been classified as  0 and should be  1\n",
      "Row 1310 has been classified as  0 and should be  1\n",
      "Row 1575 has been classified as  1 and should be  0\n",
      "Row 1593 has been classified as  1 and should be  0\n",
      "Row 1802 has been classified as  1 and should be  0\n",
      "Row 2216 has been classified as  1 and should be  0\n",
      "Row 2223 has been classified as  1 and should be  0\n",
      "Row 2243 has been classified as  0 and should be  1\n",
      "Row 2309 has been classified as  1 and should be  0\n",
      "Row 2363 has been classified as  0 and should be  1\n",
      "Row 2377 has been classified as  1 and should be  0\n",
      "Row 2698 has been classified as  1 and should be  0\n",
      "Row 2966 has been classified as  1 and should be  0\n",
      "Row 3019 has been classified as  1 and should be  0\n",
      "Row 3056 has been classified as  0 and should be  1\n",
      "Row 3227 has been classified as  0 and should be  1\n",
      "Row 3335 has been classified as  0 and should be  1\n",
      "Row 3428 has been classified as  1 and should be  0\n",
      "Row 3538 has been classified as  1 and should be  0\n",
      "Row 3627 has been classified as  1 and should be  0\n",
      "Row 3640 has been classified as  1 and should be  0\n",
      "Row 3892 has been classified as  0 and should be  1\n",
      "Row 4301 has been classified as  1 and should be  0\n",
      "Row 4487 has been classified as  1 and should be  0\n",
      "Row 4879 has been classified as  1 and should be  0\n",
      "Row 5213 has been classified as  0 and should be  1\n",
      "Row 5383 has been classified as  0 and should be  1\n",
      "Row 5428 has been classified as  1 and should be  0\n",
      "Row 5650 has been classified as  1 and should be  0\n",
      "Row 5787 has been classified as  1 and should be  0\n",
      "Row 6039 has been classified as  1 and should be  0\n",
      "Row 6497 has been classified as  1 and should be  0\n",
      "Row 6705 has been classified as  1 and should be  0\n",
      "Row 6843 has been classified as  1 and should be  0\n",
      "Row 6959 has been classified as  0 and should be  1\n",
      "Row 7010 has been classified as  1 and should be  0\n",
      "Row 7248 has been classified as  1 and should be  0\n",
      "Row 7561 has been classified as  1 and should be  0\n",
      "Row 7729 has been classified as  0 and should be  1\n",
      "Row 7736 has been classified as  1 and should be  0\n",
      "Row 8158 has been classified as  1 and should be  0\n",
      "Row 8360 has been classified as  1 and should be  0\n",
      "Row 8664 has been classified as  0 and should be  1\n",
      "Row 8667 has been classified as  1 and should be  0\n",
      "Row 8832 has been classified as  1 and should be  0\n",
      "Row 8871 has been classified as  1 and should be  0\n",
      "Row 8896 has been classified as  0 and should be  1\n",
      "Row 9060 has been classified as  0 and should be  1\n",
      "Row 9157 has been classified as  0 and should be  1\n",
      "Row 10166 has been classified as  1 and should be  0\n",
      "Row 10898 has been classified as  1 and should be  0\n",
      "Row 11079 has been classified as  1 and should be  0\n",
      "Row 11309 has been classified as  0 and should be  1\n",
      "Row 11335 has been classified as  1 and should be  0\n",
      "Row 11415 has been classified as  0 and should be  1\n",
      "Row 11573 has been classified as  1 and should be  0\n",
      "Row 11722 has been classified as  1 and should be  0\n",
      "Row 11800 has been classified as  0 and should be  1\n",
      "Row 11922 has been classified as  0 and should be  1\n",
      "Row 12066 has been classified as  1 and should be  0\n",
      "Row 12157 has been classified as  0 and should be  1\n",
      "Row 12444 has been classified as  1 and should be  0\n",
      "Row 12524 has been classified as  0 and should be  1\n",
      "Row 12569 has been classified as  1 and should be  0\n",
      "Row 13268 has been classified as  1 and should be  0\n",
      "Row 13389 has been classified as  1 and should be  0\n",
      "Row 13463 has been classified as  0 and should be  1\n",
      "Row 13488 has been classified as  0 and should be  1\n",
      "Row 13614 has been classified as  1 and should be  0\n",
      "Row 13622 has been classified as  1 and should be  0\n",
      "Row 13675 has been classified as  1 and should be  0\n",
      "Row 14080 has been classified as  0 and should be  1\n",
      "Row 14103 has been classified as  1 and should be  0\n",
      "Row 14819 has been classified as  1 and should be  0\n",
      "Row 14854 has been classified as  1 and should be  0\n",
      "Row 14965 has been classified as  1 and should be  0\n",
      "Row 15087 has been classified as  1 and should be  0\n",
      "Row 15232 has been classified as  1 and should be  0\n",
      "Row 15341 has been classified as  0 and should be  1\n",
      "Row 15417 has been classified as  0 and should be  1\n",
      "Row 15661 has been classified as  1 and should be  0\n",
      "Row 15742 has been classified as  1 and should be  0\n",
      "Row 15761 has been classified as  1 and should be  0\n",
      "Row 15806 has been classified as  0 and should be  1\n",
      "Row 15883 has been classified as  1 and should be  0\n",
      "Row 16110 has been classified as  1 and should be  0\n",
      "Row 16459 has been classified as  1 and should be  0\n",
      "Row 16952 has been classified as  0 and should be  1\n",
      "Row 16963 has been classified as  1 and should be  0\n",
      "Row 16993 has been classified as  0 and should be  1\n",
      "Row 17163 has been classified as  1 and should be  0\n",
      "Row 17612 has been classified as  1 and should be  0\n",
      "Row 17681 has been classified as  0 and should be  1\n",
      "Row 17933 has been classified as  1 and should be  0\n",
      "Row 17994 has been classified as  1 and should be  0\n",
      "Row 18005 has been classified as  0 and should be  1\n",
      "Row 18022 has been classified as  0 and should be  1\n",
      "Row 18080 has been classified as  1 and should be  0\n",
      "Row 18116 has been classified as  1 and should be  0\n",
      "Row 18342 has been classified as  1 and should be  0\n",
      "Row 18895 has been classified as  0 and should be  1\n",
      "Row 18943 has been classified as  0 and should be  1\n",
      "Row 19094 has been classified as  1 and should be  0\n",
      "Row 19100 has been classified as  1 and should be  0\n",
      "Row 19138 has been classified as  1 and should be  0\n",
      "Row 19177 has been classified as  0 and should be  1\n",
      "Row 19986 has been classified as  1 and should be  0\n",
      "Row 20002 has been classified as  1 and should be  0\n",
      "Row 20244 has been classified as  0 and should be  1\n",
      "Row 20761 has been classified as  0 and should be  1\n",
      "Row 20787 has been classified as  1 and should be  0\n",
      "Row 20831 has been classified as  1 and should be  0\n",
      "Row 20928 has been classified as  1 and should be  0\n",
      "Row 21287 has been classified as  0 and should be  1\n",
      "Row 21648 has been classified as  0 and should be  1\n",
      "Row 22181 has been classified as  0 and should be  1\n",
      "Row 22188 has been classified as  1 and should be  0\n",
      "Row 22242 has been classified as  1 and should be  0\n",
      "Row 22339 has been classified as  1 and should be  0\n",
      "Row 22985 has been classified as  0 and should be  1\n",
      "Row 23033 has been classified as  1 and should be  0\n",
      "Row 23063 has been classified as  1 and should be  0\n",
      "Row 23262 has been classified as  1 and should be  0\n",
      "Row 23648 has been classified as  0 and should be  1\n",
      "Row 24094 has been classified as  1 and should be  0\n",
      "Row 24462 has been classified as  1 and should be  0\n",
      "Row 24830 has been classified as  1 and should be  0\n",
      "Row 25098 has been classified as  1 and should be  0\n",
      "Row 25358 has been classified as  0 and should be  1\n",
      "Row 25599 has been classified as  1 and should be  0\n",
      "Row 25845 has been classified as  0 and should be  1\n",
      "Row 25884 has been classified as  0 and should be  1\n",
      "Row 26333 has been classified as  1 and should be  0\n",
      "Row 26944 has been classified as  1 and should be  0\n",
      "Row 27021 has been classified as  1 and should be  0\n",
      "Row 27128 has been classified as  1 and should be  0\n",
      "Row 27409 has been classified as  0 and should be  1\n",
      "Row 27425 has been classified as  0 and should be  1\n",
      "Row 27456 has been classified as  1 and should be  0\n",
      "Row 27510 has been classified as  1 and should be  0\n",
      "Row 27655 has been classified as  0 and should be  1\n",
      "Row 28148 has been classified as  1 and should be  0\n",
      "Row 28323 has been classified as  0 and should be  1\n",
      "Row 28488 has been classified as  0 and should be  1\n",
      "Row 28587 has been classified as  1 and should be  0\n",
      "Row 28622 has been classified as  1 and should be  0\n",
      "Row 29120 has been classified as  1 and should be  0\n",
      "Row 29301 has been classified as  0 and should be  1\n",
      "Row 29325 has been classified as  0 and should be  1\n",
      "Row 29496 has been classified as  1 and should be  0\n",
      "Row 29960 has been classified as  1 and should be  0\n",
      "Row 29987 has been classified as  1 and should be  0\n",
      "Row 30004 has been classified as  1 and should be  0\n",
      "Row 30019 has been classified as  1 and should be  0\n",
      "Row 30260 has been classified as  1 and should be  0\n",
      "Row 30423 has been classified as  1 and should be  0\n",
      "Row 30853 has been classified as  0 and should be  1\n",
      "Row 31014 has been classified as  0 and should be  1\n",
      "Row 31289 has been classified as  0 and should be  1\n",
      "Row 31535 has been classified as  1 and should be  0\n",
      "Row 31665 has been classified as  1 and should be  0\n",
      "Row 31812 has been classified as  1 and should be  0\n",
      "Row 31994 has been classified as  0 and should be  1\n",
      "Row 32008 has been classified as  0 and should be  1\n",
      "Row 32087 has been classified as  0 and should be  1\n",
      "Row 32342 has been classified as  1 and should be  0\n",
      "Row 32447 has been classified as  1 and should be  0\n",
      "Row 32457 has been classified as  0 and should be  1\n",
      "Row 32603 has been classified as  1 and should be  0\n",
      "Row 32952 has been classified as  1 and should be  0\n",
      "Row 33038 has been classified as  1 and should be  0\n",
      "Row 33240 has been classified as  1 and should be  0\n",
      "Row 33253 has been classified as  1 and should be  0\n",
      "Row 33355 has been classified as  0 and should be  1\n",
      "Row 33835 has been classified as  0 and should be  1\n",
      "Row 33894 has been classified as  1 and should be  0\n",
      "Row 33984 has been classified as  1 and should be  0\n",
      "Row 34390 has been classified as  1 and should be  0\n",
      "Row 34502 has been classified as  1 and should be  0\n",
      "Row 34551 has been classified as  0 and should be  1\n",
      "Row 34604 has been classified as  1 and should be  0\n",
      "Row 34650 has been classified as  0 and should be  1\n",
      "Row 34655 has been classified as  1 and should be  0\n",
      "Row 34727 has been classified as  1 and should be  0\n",
      "Row 34802 has been classified as  0 and should be  1\n",
      "Row 34992 has been classified as  1 and should be  0\n",
      "Row 35085 has been classified as  0 and should be  1\n",
      "Row 35099 has been classified as  0 and should be  1\n",
      "Row 35233 has been classified as  1 and should be  0\n",
      "Row 35330 has been classified as  0 and should be  1\n",
      "Row 35333 has been classified as  1 and should be  0\n",
      "Row 35369 has been classified as  0 and should be  1\n",
      "Row 35614 has been classified as  1 and should be  0\n",
      "Row 36062 has been classified as  0 and should be  1\n",
      "Row 36110 has been classified as  1 and should be  0\n",
      "Row 36855 has been classified as  0 and should be  1\n",
      "Row 36885 has been classified as  0 and should be  1\n",
      "Row 36933 has been classified as  0 and should be  1\n",
      "Row 36945 has been classified as  1 and should be  0\n",
      "Row 37021 has been classified as  1 and should be  0\n",
      "Row 37938 has been classified as  1 and should be  0\n",
      "Row 38175 has been classified as  1 and should be  0\n",
      "Row 38244 has been classified as  0 and should be  1\n",
      "Row 38516 has been classified as  0 and should be  1\n",
      "Row 38637 has been classified as  1 and should be  0\n",
      "Row 38938 has been classified as  1 and should be  0\n",
      "Row 39175 has been classified as  1 and should be  0\n",
      "Row 39413 has been classified as  1 and should be  0\n",
      "Row 39631 has been classified as  1 and should be  0\n",
      "Row 39919 has been classified as  1 and should be  0\n",
      "Row 40143 has been classified as  1 and should be  0\n",
      "Row 40317 has been classified as  1 and should be  0\n",
      "Row 40359 has been classified as  1 and should be  0\n",
      "Row 40596 has been classified as  1 and should be  0\n",
      "Row 40861 has been classified as  0 and should be  1\n",
      "Row 40982 has been classified as  1 and should be  0\n",
      "Row 41212 has been classified as  1 and should be  0\n",
      "Row 41345 has been classified as  0 and should be  1\n",
      "Row 41411 has been classified as  1 and should be  0\n",
      "Row 41448 has been classified as  1 and should be  0\n",
      "Row 41964 has been classified as  1 and should be  0\n",
      "Row 42068 has been classified as  1 and should be  0\n",
      "Row 42351 has been classified as  0 and should be  1\n",
      "Row 42384 has been classified as  1 and should be  0\n",
      "Row 42482 has been classified as  0 and should be  1\n",
      "Row 42809 has been classified as  1 and should be  0\n",
      "Row 42822 has been classified as  0 and should be  1\n",
      "Row 43387 has been classified as  1 and should be  0\n",
      "Row 44082 has been classified as  0 and should be  1\n",
      "Row 44193 has been classified as  0 and should be  1\n",
      "Row 44504 has been classified as  1 and should be  0\n",
      "Row 44634 has been classified as  0 and should be  1\n",
      "Row 44641 has been classified as  0 and should be  1\n",
      "Row 44724 has been classified as  1 and should be  0\n",
      "Row 44803 has been classified as  1 and should be  0\n",
      "Row 44924 has been classified as  1 and should be  0\n",
      "Row 44943 has been classified as  1 and should be  0\n",
      "Row 45002 has been classified as  1 and should be  0\n",
      "Row 45095 has been classified as  0 and should be  1\n",
      "Row 45130 has been classified as  1 and should be  0\n",
      "Row 45186 has been classified as  1 and should be  0\n",
      "Row 45744 has been classified as  1 and should be  0\n",
      "Row 45769 has been classified as  0 and should be  1\n",
      "Row 45863 has been classified as  0 and should be  1\n",
      "Row 46115 has been classified as  1 and should be  0\n",
      "Row 46286 has been classified as  1 and should be  0\n",
      "Row 46604 has been classified as  0 and should be  1\n",
      "Row 46727 has been classified as  1 and should be  0\n",
      "Row 47294 has been classified as  0 and should be  1\n",
      "Row 47572 has been classified as  0 and should be  1\n",
      "Row 48120 has been classified as  1 and should be  0\n",
      "Row 48250 has been classified as  1 and should be  0\n",
      "Row 48359 has been classified as  1 and should be  0\n",
      "Row 48570 has been classified as  0 and should be  1\n",
      "Row 48606 has been classified as  1 and should be  0\n",
      "Row 49034 has been classified as  1 and should be  0\n",
      "Row 49625 has been classified as  1 and should be  0\n"
     ]
    }
   ],
   "source": [
    "preds = np.round(dt.predict(X_test_ss),0)\n",
    "misclass1 = []\n",
    "for row_index, (input, prediction, label) in enumerate(zip (X_test_ss, preds, y_test)):\n",
    "    if prediction != label:\n",
    "        misclass1.append(row_index)\n",
    "        print('Row', row_index, 'has been classified as ', prediction, 'and should be ', label)"
   ]
  },
  {
   "cell_type": "code",
   "execution_count": 69,
   "metadata": {},
   "outputs": [
    {
     "name": "stdout",
     "output_type": "stream",
     "text": [
      "(267, 19)\n"
     ]
    },
    {
     "data": {
      "text/html": [
       "<div>\n",
       "<style scoped>\n",
       "    .dataframe tbody tr th:only-of-type {\n",
       "        vertical-align: middle;\n",
       "    }\n",
       "\n",
       "    .dataframe tbody tr th {\n",
       "        vertical-align: top;\n",
       "    }\n",
       "\n",
       "    .dataframe thead th {\n",
       "        text-align: right;\n",
       "    }\n",
       "</style>\n",
       "<table border=\"1\" class=\"dataframe\">\n",
       "  <thead>\n",
       "    <tr style=\"text-align: right;\">\n",
       "      <th></th>\n",
       "      <th>trans_date_trans_time</th>\n",
       "      <th>cc_num</th>\n",
       "      <th>merchant</th>\n",
       "      <th>category</th>\n",
       "      <th>amt</th>\n",
       "      <th>gender</th>\n",
       "      <th>city</th>\n",
       "      <th>state</th>\n",
       "      <th>zip</th>\n",
       "      <th>lat</th>\n",
       "      <th>long</th>\n",
       "      <th>city_pop</th>\n",
       "      <th>job</th>\n",
       "      <th>dob</th>\n",
       "      <th>merch_lat</th>\n",
       "      <th>merch_long</th>\n",
       "      <th>is_fraud</th>\n",
       "      <th>hour</th>\n",
       "      <th>no_of_misclass</th>\n",
       "    </tr>\n",
       "  </thead>\n",
       "  <tbody>\n",
       "    <tr>\n",
       "      <th>101</th>\n",
       "      <td>2019-01-01 17:19:51</td>\n",
       "      <td>3514897282719543</td>\n",
       "      <td>fraud_Cormier LLC</td>\n",
       "      <td>health_fitness</td>\n",
       "      <td>24.75</td>\n",
       "      <td>M</td>\n",
       "      <td>Farmington</td>\n",
       "      <td>NY</td>\n",
       "      <td>14425</td>\n",
       "      <td>42.9580</td>\n",
       "      <td>-77.3083</td>\n",
       "      <td>10717</td>\n",
       "      <td>Cytogeneticist</td>\n",
       "      <td>1952-10-13 00:00:00</td>\n",
       "      <td>42.641638</td>\n",
       "      <td>-76.902462</td>\n",
       "      <td>0</td>\n",
       "      <td>17</td>\n",
       "      <td>1</td>\n",
       "    </tr>\n",
       "    <tr>\n",
       "      <th>134</th>\n",
       "      <td>2019-01-01 21:12:01</td>\n",
       "      <td>3585052663373890</td>\n",
       "      <td>fraud_Bahringer Group</td>\n",
       "      <td>health_fitness</td>\n",
       "      <td>106.22</td>\n",
       "      <td>M</td>\n",
       "      <td>West Eaton</td>\n",
       "      <td>NY</td>\n",
       "      <td>13484</td>\n",
       "      <td>42.8546</td>\n",
       "      <td>-75.6605</td>\n",
       "      <td>176</td>\n",
       "      <td>Science writer</td>\n",
       "      <td>1963-12-28 00:00:00</td>\n",
       "      <td>43.331880</td>\n",
       "      <td>-76.482360</td>\n",
       "      <td>0</td>\n",
       "      <td>21</td>\n",
       "      <td>1</td>\n",
       "    </tr>\n",
       "    <tr>\n",
       "      <th>138</th>\n",
       "      <td>2019-01-01 21:23:29</td>\n",
       "      <td>180058696935600</td>\n",
       "      <td>fraud_Jerde-Hermann</td>\n",
       "      <td>travel</td>\n",
       "      <td>5.21</td>\n",
       "      <td>M</td>\n",
       "      <td>De Lancey</td>\n",
       "      <td>NY</td>\n",
       "      <td>13752</td>\n",
       "      <td>42.1890</td>\n",
       "      <td>-74.9229</td>\n",
       "      <td>782</td>\n",
       "      <td>Chartered accountant</td>\n",
       "      <td>2000-08-28 00:00:00</td>\n",
       "      <td>43.178184</td>\n",
       "      <td>-75.885184</td>\n",
       "      <td>0</td>\n",
       "      <td>21</td>\n",
       "      <td>1</td>\n",
       "    </tr>\n",
       "    <tr>\n",
       "      <th>580</th>\n",
       "      <td>2019-01-06 17:49:40</td>\n",
       "      <td>346208242862904</td>\n",
       "      <td>fraud_McDermott, Osinski and Morar</td>\n",
       "      <td>home</td>\n",
       "      <td>21.65</td>\n",
       "      <td>F</td>\n",
       "      <td>New York City</td>\n",
       "      <td>NY</td>\n",
       "      <td>10280</td>\n",
       "      <td>40.7105</td>\n",
       "      <td>-74.0163</td>\n",
       "      <td>1577385</td>\n",
       "      <td>Pharmacist, hospital</td>\n",
       "      <td>1961-05-13 00:00:00</td>\n",
       "      <td>41.314483</td>\n",
       "      <td>-73.757026</td>\n",
       "      <td>0</td>\n",
       "      <td>17</td>\n",
       "      <td>1</td>\n",
       "    </tr>\n",
       "    <tr>\n",
       "      <th>622</th>\n",
       "      <td>2019-01-06 23:31:03</td>\n",
       "      <td>5104807169438134</td>\n",
       "      <td>fraud_Hyatt-Blick</td>\n",
       "      <td>travel</td>\n",
       "      <td>5.12</td>\n",
       "      <td>F</td>\n",
       "      <td>Westhampton Beach</td>\n",
       "      <td>NY</td>\n",
       "      <td>11978</td>\n",
       "      <td>40.8295</td>\n",
       "      <td>-72.6473</td>\n",
       "      <td>3255</td>\n",
       "      <td>Financial trader</td>\n",
       "      <td>1978-07-08 00:00:00</td>\n",
       "      <td>41.528181</td>\n",
       "      <td>-73.182200</td>\n",
       "      <td>0</td>\n",
       "      <td>23</td>\n",
       "      <td>1</td>\n",
       "    </tr>\n",
       "  </tbody>\n",
       "</table>\n",
       "</div>"
      ],
      "text/plain": [
       "    trans_date_trans_time            cc_num  \\\n",
       "101   2019-01-01 17:19:51  3514897282719543   \n",
       "134   2019-01-01 21:12:01  3585052663373890   \n",
       "138   2019-01-01 21:23:29   180058696935600   \n",
       "580   2019-01-06 17:49:40   346208242862904   \n",
       "622   2019-01-06 23:31:03  5104807169438134   \n",
       "\n",
       "                               merchant        category     amt gender  \\\n",
       "101                   fraud_Cormier LLC  health_fitness   24.75      M   \n",
       "134               fraud_Bahringer Group  health_fitness  106.22      M   \n",
       "138                 fraud_Jerde-Hermann          travel    5.21      M   \n",
       "580  fraud_McDermott, Osinski and Morar            home   21.65      F   \n",
       "622                   fraud_Hyatt-Blick          travel    5.12      F   \n",
       "\n",
       "                  city state    zip      lat     long  city_pop  \\\n",
       "101         Farmington    NY  14425  42.9580 -77.3083     10717   \n",
       "134         West Eaton    NY  13484  42.8546 -75.6605       176   \n",
       "138          De Lancey    NY  13752  42.1890 -74.9229       782   \n",
       "580      New York City    NY  10280  40.7105 -74.0163   1577385   \n",
       "622  Westhampton Beach    NY  11978  40.8295 -72.6473      3255   \n",
       "\n",
       "                      job                  dob  merch_lat  merch_long  \\\n",
       "101        Cytogeneticist  1952-10-13 00:00:00  42.641638  -76.902462   \n",
       "134        Science writer  1963-12-28 00:00:00  43.331880  -76.482360   \n",
       "138  Chartered accountant  2000-08-28 00:00:00  43.178184  -75.885184   \n",
       "580  Pharmacist, hospital  1961-05-13 00:00:00  41.314483  -73.757026   \n",
       "622      Financial trader  1978-07-08 00:00:00  41.528181  -73.182200   \n",
       "\n",
       "     is_fraud  hour  no_of_misclass  \n",
       "101         0    17               1  \n",
       "134         0    21               1  \n",
       "138         0    21               1  \n",
       "580         0    17               1  \n",
       "622         0    23               1  "
      ]
     },
     "execution_count": 69,
     "metadata": {},
     "output_type": "execute_result"
    }
   ],
   "source": [
    "tar_misclass_set = [misclass1]        \n",
    "tar_misclass_ids = {}\n",
    "\n",
    "# Setting up dataframe of misclassified fraud cases\n",
    "for misclass in tar_misclass_set:\n",
    "    for ids in misclass:\n",
    "        if ids in tar_misclass_ids.keys():\n",
    "            tar_misclass_ids[ids] += 1\n",
    "        else:\n",
    "            tar_misclass_ids[ids] = 1\n",
    "\n",
    "tar_misclass_df = fraud.iloc[[item for sublist in tar_misclass_set for item in sublist]]\n",
    "tar_misclass_df['no_of_misclass'] = 0\n",
    "\n",
    "for ids in tar_misclass_df.index:\n",
    "    tar_misclass_df['no_of_misclass'].loc[ids] = tar_misclass_ids[ids]\n",
    "\n",
    "# Saving df for EDA\n",
    "print(tar_misclass_df.shape)\n",
    "tar_misclass_df.to_csv('./dt_misclass.csv')\n",
    "tar_misclass_df.head()"
   ]
  },
  {
   "cell_type": "markdown",
   "metadata": {},
   "source": [
    "## ```NoteBook Conclusion```\n",
    "---\n",
    "1. My final model will be a decisiontree classifier with default settings. This model showed to have significantly less misclassifications than the null model(Logisitc Regression).\n",
    "2. My App will run only on the data from NY, but can certainly be expanded to other states or all states. Based on my initial EDA, NY had the highest amount of fraud cases of all states. This my app is just a demo, i'll use only NY data. \n",
    "3. Misclassification dataframe will be used in the **-Misclassification EDA-** notebook to investigate any possible trends in the data."
   ]
  },
  {
   "cell_type": "code",
   "execution_count": null,
   "metadata": {},
   "outputs": [],
   "source": []
  }
 ],
 "metadata": {
  "kernelspec": {
   "display_name": "Python 3",
   "language": "python",
   "name": "python3"
  },
  "language_info": {
   "codemirror_mode": {
    "name": "ipython",
    "version": 3
   },
   "file_extension": ".py",
   "mimetype": "text/x-python",
   "name": "python",
   "nbconvert_exporter": "python",
   "pygments_lexer": "ipython3",
   "version": "3.8.5"
  }
 },
 "nbformat": 4,
 "nbformat_minor": 4
}
