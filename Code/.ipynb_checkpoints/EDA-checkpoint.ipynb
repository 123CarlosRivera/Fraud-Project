{
 "cells": [
  {
   "cell_type": "code",
   "execution_count": 2,
   "metadata": {},
   "outputs": [],
   "source": [
    "import pandas as pd\n",
    "import numpy as np\n",
    "import matplotlib.pyplot as plt\n",
    "import seaborn as sns"
   ]
  },
  {
   "cell_type": "code",
   "execution_count": 13,
   "metadata": {},
   "outputs": [],
   "source": [
    "fraud = pd.read_csv('../capstone-dsir82/SmallBalancedClasses.csv')"
   ]
  },
  {
   "cell_type": "code",
   "execution_count": 15,
   "metadata": {},
   "outputs": [
    {
     "data": {
      "text/html": [
       "<div>\n",
       "<style scoped>\n",
       "    .dataframe tbody tr th:only-of-type {\n",
       "        vertical-align: middle;\n",
       "    }\n",
       "\n",
       "    .dataframe tbody tr th {\n",
       "        vertical-align: top;\n",
       "    }\n",
       "\n",
       "    .dataframe thead th {\n",
       "        text-align: right;\n",
       "    }\n",
       "</style>\n",
       "<table border=\"1\" class=\"dataframe\">\n",
       "  <thead>\n",
       "    <tr style=\"text-align: right;\">\n",
       "      <th></th>\n",
       "      <th>trans_date_trans_time</th>\n",
       "      <th>cc_num</th>\n",
       "      <th>merchant</th>\n",
       "      <th>category</th>\n",
       "      <th>amt</th>\n",
       "      <th>gender</th>\n",
       "      <th>city</th>\n",
       "      <th>state</th>\n",
       "      <th>zip</th>\n",
       "      <th>lat</th>\n",
       "      <th>long</th>\n",
       "      <th>city_pop</th>\n",
       "      <th>job</th>\n",
       "      <th>dob</th>\n",
       "      <th>merch_lat</th>\n",
       "      <th>merch_long</th>\n",
       "      <th>is_fraud</th>\n",
       "      <th>hour</th>\n",
       "    </tr>\n",
       "  </thead>\n",
       "  <tbody>\n",
       "    <tr>\n",
       "      <th>0</th>\n",
       "      <td>2020-04-07 18:59:03</td>\n",
       "      <td>6011109736646996</td>\n",
       "      <td>fraud_Kutch-Ferry</td>\n",
       "      <td>home</td>\n",
       "      <td>11.31</td>\n",
       "      <td>F</td>\n",
       "      <td>Wilmington</td>\n",
       "      <td>NC</td>\n",
       "      <td>28405</td>\n",
       "      <td>34.2651</td>\n",
       "      <td>-77.8670</td>\n",
       "      <td>186140</td>\n",
       "      <td>English as a second language teacher</td>\n",
       "      <td>1983-02-08</td>\n",
       "      <td>34.978784</td>\n",
       "      <td>-77.590335</td>\n",
       "      <td>0</td>\n",
       "      <td>18</td>\n",
       "    </tr>\n",
       "    <tr>\n",
       "      <th>1</th>\n",
       "      <td>2019-05-21 19:39:15</td>\n",
       "      <td>4239552724014407</td>\n",
       "      <td>fraud_Kautzer and Sons</td>\n",
       "      <td>personal_care</td>\n",
       "      <td>44.64</td>\n",
       "      <td>M</td>\n",
       "      <td>Paulding</td>\n",
       "      <td>OH</td>\n",
       "      <td>45879</td>\n",
       "      <td>41.1410</td>\n",
       "      <td>-84.5722</td>\n",
       "      <td>6284</td>\n",
       "      <td>Secondary school teacher</td>\n",
       "      <td>1936-03-27</td>\n",
       "      <td>41.014863</td>\n",
       "      <td>-84.976088</td>\n",
       "      <td>0</td>\n",
       "      <td>19</td>\n",
       "    </tr>\n",
       "    <tr>\n",
       "      <th>2</th>\n",
       "      <td>2019-08-26 01:08:48</td>\n",
       "      <td>3554818239968984</td>\n",
       "      <td>fraud_Kutch and Sons</td>\n",
       "      <td>grocery_pos</td>\n",
       "      <td>101.22</td>\n",
       "      <td>M</td>\n",
       "      <td>Williamsburg</td>\n",
       "      <td>MO</td>\n",
       "      <td>63388</td>\n",
       "      <td>38.8874</td>\n",
       "      <td>-91.7689</td>\n",
       "      <td>710</td>\n",
       "      <td>Glass blower/designer</td>\n",
       "      <td>1970-09-27</td>\n",
       "      <td>39.137551</td>\n",
       "      <td>-92.382218</td>\n",
       "      <td>0</td>\n",
       "      <td>1</td>\n",
       "    </tr>\n",
       "    <tr>\n",
       "      <th>3</th>\n",
       "      <td>2019-11-20 09:06:01</td>\n",
       "      <td>213126662687660</td>\n",
       "      <td>fraud_Bartoletti-Wunsch</td>\n",
       "      <td>gas_transport</td>\n",
       "      <td>66.25</td>\n",
       "      <td>M</td>\n",
       "      <td>Laredo</td>\n",
       "      <td>TX</td>\n",
       "      <td>78040</td>\n",
       "      <td>27.5155</td>\n",
       "      <td>-99.4986</td>\n",
       "      <td>248858</td>\n",
       "      <td>Video editor</td>\n",
       "      <td>1971-01-28</td>\n",
       "      <td>28.185333</td>\n",
       "      <td>-98.876167</td>\n",
       "      <td>0</td>\n",
       "      <td>9</td>\n",
       "    </tr>\n",
       "    <tr>\n",
       "      <th>4</th>\n",
       "      <td>2019-11-12 18:47:07</td>\n",
       "      <td>3553629419254918</td>\n",
       "      <td>fraud_Boyer PLC</td>\n",
       "      <td>shopping_net</td>\n",
       "      <td>3.44</td>\n",
       "      <td>F</td>\n",
       "      <td>Conway</td>\n",
       "      <td>WA</td>\n",
       "      <td>98238</td>\n",
       "      <td>48.3400</td>\n",
       "      <td>-122.3456</td>\n",
       "      <td>85</td>\n",
       "      <td>Research officer, political party</td>\n",
       "      <td>1984-09-01</td>\n",
       "      <td>47.365142</td>\n",
       "      <td>-123.228358</td>\n",
       "      <td>0</td>\n",
       "      <td>18</td>\n",
       "    </tr>\n",
       "  </tbody>\n",
       "</table>\n",
       "</div>"
      ],
      "text/plain": [
       "  trans_date_trans_time            cc_num                 merchant  \\\n",
       "0   2020-04-07 18:59:03  6011109736646996        fraud_Kutch-Ferry   \n",
       "1   2019-05-21 19:39:15  4239552724014407   fraud_Kautzer and Sons   \n",
       "2   2019-08-26 01:08:48  3554818239968984     fraud_Kutch and Sons   \n",
       "3   2019-11-20 09:06:01   213126662687660  fraud_Bartoletti-Wunsch   \n",
       "4   2019-11-12 18:47:07  3553629419254918          fraud_Boyer PLC   \n",
       "\n",
       "        category     amt gender          city state    zip      lat      long  \\\n",
       "0           home   11.31      F    Wilmington    NC  28405  34.2651  -77.8670   \n",
       "1  personal_care   44.64      M      Paulding    OH  45879  41.1410  -84.5722   \n",
       "2    grocery_pos  101.22      M  Williamsburg    MO  63388  38.8874  -91.7689   \n",
       "3  gas_transport   66.25      M        Laredo    TX  78040  27.5155  -99.4986   \n",
       "4   shopping_net    3.44      F        Conway    WA  98238  48.3400 -122.3456   \n",
       "\n",
       "   city_pop                                   job         dob  merch_lat  \\\n",
       "0    186140  English as a second language teacher  1983-02-08  34.978784   \n",
       "1      6284              Secondary school teacher  1936-03-27  41.014863   \n",
       "2       710                 Glass blower/designer  1970-09-27  39.137551   \n",
       "3    248858                          Video editor  1971-01-28  28.185333   \n",
       "4        85     Research officer, political party  1984-09-01  47.365142   \n",
       "\n",
       "   merch_long  is_fraud  hour  \n",
       "0  -77.590335         0    18  \n",
       "1  -84.976088         0    19  \n",
       "2  -92.382218         0     1  \n",
       "3  -98.876167         0     9  \n",
       "4 -123.228358         0    18  "
      ]
     },
     "execution_count": 15,
     "metadata": {},
     "output_type": "execute_result"
    }
   ],
   "source": [
    "fraud.head()"
   ]
  },
  {
   "cell_type": "code",
   "execution_count": 17,
   "metadata": {},
   "outputs": [
    {
     "data": {
      "text/plain": [
       "gender\n",
       "F    272.451773\n",
       "M    329.426995\n",
       "Name: amt, dtype: float64"
      ]
     },
     "execution_count": 17,
     "metadata": {},
     "output_type": "execute_result"
    }
   ],
   "source": [
    "fraud.groupby('gender')['amt'].mean()"
   ]
  },
  {
   "cell_type": "code",
   "execution_count": 22,
   "metadata": {},
   "outputs": [
    {
     "data": {
      "text/plain": [
       "M    0.502398\n",
       "F    0.497602\n",
       "Name: gender, dtype: float64"
      ]
     },
     "execution_count": 22,
     "metadata": {},
     "output_type": "execute_result"
    }
   ],
   "source": [
    "fraud[fraud['is_fraud']==1]['gender'].value_counts(normalize=True)"
   ]
  },
  {
   "cell_type": "code",
   "execution_count": 32,
   "metadata": {},
   "outputs": [
    {
     "data": {
      "image/png": "[encoded data removed]",
      "text/plain": [
       "<Figure size 432x288 with 1 Axes>"
      ]
     },
     "metadata": {
      "needs_background": "light"
     },
     "output_type": "display_data"
    }
   ],
   "source": [
    "fraud.groupby('gender')['is_fraud'].sum().plot(kind='bar')\n",
    "plt.title('Fraud by Gender')\n",
    "plt.xticks(rotation=1)\n",
    "plt.ylabel('Count');"
   ]
  },
  {
   "cell_type": "code",
   "execution_count": 34,
   "metadata": {},
   "outputs": [
    {
     "data": {
      "image/png": "[encoded data removed]",
      "text/plain": [
       "<Figure size 1440x720 with 1 Axes>"
      ]
     },
     "metadata": {
      "needs_background": "light"
     },
     "output_type": "display_data"
    }
   ],
   "source": [
    "fraud.groupby('state')['is_fraud'].sum().sort_values(ascending=False).plot(kind='barh',figsize=(20,10))\n",
    "plt.title('Fraud by State')\n",
    "plt.xticks(rotation=1)\n",
    "plt.ylabel('State')\n",
    "plt.xlabel('Number of Fraud Cases');"
   ]
  },
  {
   "cell_type": "code",
   "execution_count": null,
   "metadata": {},
   "outputs": [],
   "source": []
  }
 ],
 "metadata": {
  "kernelspec": {
   "display_name": "Python 3",
   "language": "python",
   "name": "python3"
  },
  "language_info": {
   "codemirror_mode": {
    "name": "ipython",
    "version": 3
   },
   "file_extension": ".py",
   "mimetype": "text/x-python",
   "name": "python",
   "nbconvert_exporter": "python",
   "pygments_lexer": "ipython3",
   "version": "3.8.5"
  }
 },
 "nbformat": 4,
 "nbformat_minor": 4
}
